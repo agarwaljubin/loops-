{
  "nbformat": 4,
  "nbformat_minor": 0,
  "metadata": {
    "colab": {
      "provenance": [],
      "authorship_tag": "ABX9TyNH4LqhCuFRxDWrMjkrZ4Wb",
      "include_colab_link": true
    },
    "kernelspec": {
      "name": "python3",
      "display_name": "Python 3"
    },
    "language_info": {
      "name": "python"
    }
  },
  "cells": [
    {
      "cell_type": "markdown",
      "metadata": {
        "id": "view-in-github",
        "colab_type": "text"
      },
      "source": [
        "<a href=\"https://colab.research.google.com/github/agarwaljubin/loops-/blob/main/functions.ipynb\" target=\"_parent\"><img src=\"https://colab.research.google.com/assets/colab-badge.svg\" alt=\"Open In Colab\"/></a>"
      ]
    },
    {
      "cell_type": "markdown",
      "source": [
        "# **Let's get's started with fucntions**\n",
        "- what we will study:\n",
        "1. defining a funtion\n",
        "2. mapping the fucntion with a variable.\n",
        "3. multiple ways to introduce and eclare the fucntion in a program"
      ],
      "metadata": {
        "id": "y7V7sR2rRshW"
      }
    },
    {
      "cell_type": "code",
      "execution_count": null,
      "metadata": {
        "colab": {
          "base_uri": "https://localhost:8080/"
        },
        "id": "jGkxvxa4RrYQ",
        "outputId": "4ca233f7-4621-400a-b0e3-60962b1f68c6"
      },
      "outputs": [
        {
          "output_type": "stream",
          "name": "stdout",
          "text": [
            "this is my print\n"
          ]
        }
      ],
      "source": [
        "print('this is my print')"
      ]
    },
    {
      "cell_type": "code",
      "source": [
        "l=[223,556,675]"
      ],
      "metadata": {
        "id": "gxFiJqRvSRYe"
      },
      "execution_count": null,
      "outputs": []
    },
    {
      "cell_type": "code",
      "source": [
        "len(l)"
      ],
      "metadata": {
        "colab": {
          "base_uri": "https://localhost:8080/"
        },
        "id": "0JjxunhrSVVG",
        "outputId": "b63af562-0a85-4962-deff-a1304ba35c0f"
      },
      "execution_count": null,
      "outputs": [
        {
          "output_type": "execute_result",
          "data": {
            "text/plain": [
              "3"
            ]
          },
          "metadata": {},
          "execution_count": 3
        }
      ]
    },
    {
      "cell_type": "code",
      "source": [
        "def test1():\n",
        "  print('this is my first function')"
      ],
      "metadata": {
        "id": "0tdEvFAoSWXN"
      },
      "execution_count": null,
      "outputs": []
    },
    {
      "cell_type": "code",
      "source": [
        "test1()"
      ],
      "metadata": {
        "colab": {
          "base_uri": "https://localhost:8080/"
        },
        "id": "Q1NHi_syU-m_",
        "outputId": "f24d48d5-e46f-4cc2-83d5-0b89fbc68b86"
      },
      "execution_count": null,
      "outputs": [
        {
          "output_type": "stream",
          "name": "stdout",
          "text": [
            "this is my first function\n"
          ]
        }
      ]
    },
    {
      "cell_type": "code",
      "source": [
        "def test2():\n",
        "  return 'This is my first fucntion'"
      ],
      "metadata": {
        "id": "sSqbSiEAU_qt"
      },
      "execution_count": null,
      "outputs": []
    },
    {
      "cell_type": "code",
      "source": [
        "test2()"
      ],
      "metadata": {
        "colab": {
          "base_uri": "https://localhost:8080/",
          "height": 35
        },
        "id": "89RoTIj_V1L-",
        "outputId": "8d9660d1-ba82-4000-cb71-598f19ed0eec"
      },
      "execution_count": null,
      "outputs": [
        {
          "output_type": "execute_result",
          "data": {
            "text/plain": [
              "'This is my first fucntion'"
            ],
            "application/vnd.google.colaboratory.intrinsic+json": {
              "type": "string"
            }
          },
          "metadata": {},
          "execution_count": 10
        }
      ]
    },
    {
      "cell_type": "code",
      "source": [
        "test2() + 'sudh'"
      ],
      "metadata": {
        "colab": {
          "base_uri": "https://localhost:8080/",
          "height": 35
        },
        "id": "B3dnZ0QWV3wO",
        "outputId": "323fbfdf-a1cf-4c7b-845a-ec0ed8ff994d"
      },
      "execution_count": null,
      "outputs": [
        {
          "output_type": "execute_result",
          "data": {
            "text/plain": [
              "'This is my first fucntionsudh'"
            ],
            "application/vnd.google.colaboratory.intrinsic+json": {
              "type": "string"
            }
          },
          "metadata": {},
          "execution_count": 11
        }
      ]
    },
    {
      "cell_type": "code",
      "source": [
        "def test3():\n",
        "  return'sudh',23,342,[1,2,2,3]"
      ],
      "metadata": {
        "id": "15Hrp5RrV69e"
      },
      "execution_count": null,
      "outputs": []
    },
    {
      "cell_type": "code",
      "source": [
        "test3()"
      ],
      "metadata": {
        "colab": {
          "base_uri": "https://localhost:8080/"
        },
        "id": "SVo16kNzWGYe",
        "outputId": "30606185-0011-49ac-b8ab-133dcd614afd"
      },
      "execution_count": null,
      "outputs": [
        {
          "output_type": "execute_result",
          "data": {
            "text/plain": [
              "('sudh', 23, 342, [1, 2, 2, 3])"
            ]
          },
          "metadata": {},
          "execution_count": 13
        }
      ]
    },
    {
      "cell_type": "code",
      "source": [
        "a,b,c,d=test3()"
      ],
      "metadata": {
        "id": "poEVP5QfWHl2"
      },
      "execution_count": null,
      "outputs": []
    },
    {
      "cell_type": "code",
      "source": [
        "a"
      ],
      "metadata": {
        "colab": {
          "base_uri": "https://localhost:8080/",
          "height": 35
        },
        "id": "qQ8t2woPWVRG",
        "outputId": "71477ac7-b171-46f4-cfda-5c3e4779887e"
      },
      "execution_count": null,
      "outputs": [
        {
          "output_type": "execute_result",
          "data": {
            "text/plain": [
              "'sudh'"
            ],
            "application/vnd.google.colaboratory.intrinsic+json": {
              "type": "string"
            }
          },
          "metadata": {},
          "execution_count": 15
        }
      ]
    },
    {
      "cell_type": "code",
      "source": [
        "b"
      ],
      "metadata": {
        "colab": {
          "base_uri": "https://localhost:8080/"
        },
        "id": "DtzqTysKWV0n",
        "outputId": "3c449a8f-171d-479c-d138-a4c16653020f"
      },
      "execution_count": null,
      "outputs": [
        {
          "output_type": "execute_result",
          "data": {
            "text/plain": [
              "23"
            ]
          },
          "metadata": {},
          "execution_count": 16
        }
      ]
    },
    {
      "cell_type": "code",
      "source": [
        "v"
      ],
      "metadata": {
        "colab": {
          "base_uri": "https://localhost:8080/",
          "height": 141
        },
        "id": "ypKXZZ5gWWQX",
        "outputId": "4c12b8cb-b143-4942-a89b-927a9a6412d3"
      },
      "execution_count": null,
      "outputs": [
        {
          "output_type": "error",
          "ename": "NameError",
          "evalue": "name 'v' is not defined",
          "traceback": [
            "\u001b[0;31m---------------------------------------------------------------------------\u001b[0m",
            "\u001b[0;31mNameError\u001b[0m                                 Traceback (most recent call last)",
            "\u001b[0;32m<ipython-input-17-d0aa4386ac53>\u001b[0m in \u001b[0;36m<cell line: 0>\u001b[0;34m()\u001b[0m\n\u001b[0;32m----> 1\u001b[0;31m \u001b[0mv\u001b[0m\u001b[0;34m\u001b[0m\u001b[0;34m\u001b[0m\u001b[0m\n\u001b[0m",
            "\u001b[0;31mNameError\u001b[0m: name 'v' is not defined"
          ]
        }
      ]
    },
    {
      "cell_type": "code",
      "source": [
        "c"
      ],
      "metadata": {
        "colab": {
          "base_uri": "https://localhost:8080/"
        },
        "id": "Te5ky2vKWWme",
        "outputId": "9ce85f5c-a179-436c-dc7f-72dd6a689732"
      },
      "execution_count": null,
      "outputs": [
        {
          "output_type": "execute_result",
          "data": {
            "text/plain": [
              "342"
            ]
          },
          "metadata": {},
          "execution_count": 18
        }
      ]
    },
    {
      "cell_type": "code",
      "source": [
        "d"
      ],
      "metadata": {
        "colab": {
          "base_uri": "https://localhost:8080/"
        },
        "id": "kx70i5PyWXD1",
        "outputId": "d76e1a0e-36cb-4f3d-cf0b-a37ce8daf6a1"
      },
      "execution_count": null,
      "outputs": [
        {
          "output_type": "execute_result",
          "data": {
            "text/plain": [
              "[1, 2, 2, 3]"
            ]
          },
          "metadata": {},
          "execution_count": 19
        }
      ]
    },
    {
      "cell_type": "markdown",
      "source": [],
      "metadata": {
        "id": "I4pG5RYcnb2P"
      }
    },
    {
      "cell_type": "markdown",
      "source": [
        "use of function"
      ],
      "metadata": {
        "id": "SJkamNlYneUP"
      }
    },
    {
      "cell_type": "code",
      "source": [
        "def test4():\n",
        "    a= 5+6/7\n",
        "    return a"
      ],
      "metadata": {
        "id": "QNyg2aL8nbgI"
      },
      "execution_count": null,
      "outputs": []
    },
    {
      "cell_type": "code",
      "source": [
        "test4()\n"
      ],
      "metadata": {
        "colab": {
          "base_uri": "https://localhost:8080/"
        },
        "id": "IVrEs6CzWXad",
        "outputId": "aaf24609-2d70-4943-87f0-5bd491d98596"
      },
      "execution_count": null,
      "outputs": [
        {
          "output_type": "execute_result",
          "data": {
            "text/plain": [
              "5.857142857142857"
            ]
          },
          "metadata": {},
          "execution_count": 25
        }
      ]
    },
    {
      "cell_type": "markdown",
      "source": [
        "data called and determined by user, where variable are not deifned , lets define variable , with their data type"
      ],
      "metadata": {
        "id": "qq1cK-ABnwgQ"
      }
    },
    {
      "cell_type": "code",
      "source": [
        "def test5(a,b,c):\n",
        "  d=a+b/c\n",
        "  return d\n",
        "\n"
      ],
      "metadata": {
        "id": "Vm4bFA8anusX"
      },
      "execution_count": null,
      "outputs": []
    },
    {
      "cell_type": "code",
      "source": [
        "test5()"
      ],
      "metadata": {
        "colab": {
          "base_uri": "https://localhost:8080/",
          "height": 141
        },
        "id": "e1Z1olz4oHTn",
        "outputId": "24536a6c-dfc4-426d-f62c-8ee052d11eb6"
      },
      "execution_count": null,
      "outputs": [
        {
          "output_type": "error",
          "ename": "TypeError",
          "evalue": "test5() missing 3 required positional arguments: 'a', 'b', and 'c'",
          "traceback": [
            "\u001b[0;31m---------------------------------------------------------------------------\u001b[0m",
            "\u001b[0;31mTypeError\u001b[0m                                 Traceback (most recent call last)",
            "\u001b[0;32m<ipython-input-28-71ddc826dc0f>\u001b[0m in \u001b[0;36m<cell line: 0>\u001b[0;34m()\u001b[0m\n\u001b[0;32m----> 1\u001b[0;31m \u001b[0mtest5\u001b[0m\u001b[0;34m(\u001b[0m\u001b[0;34m)\u001b[0m\u001b[0;34m\u001b[0m\u001b[0;34m\u001b[0m\u001b[0m\n\u001b[0m",
            "\u001b[0;31mTypeError\u001b[0m: test5() missing 3 required positional arguments: 'a', 'b', and 'c'"
          ]
        }
      ]
    },
    {
      "cell_type": "code",
      "source": [
        "test5(2,4,7)"
      ],
      "metadata": {
        "colab": {
          "base_uri": "https://localhost:8080/"
        },
        "id": "oMbxBRb_oOiH",
        "outputId": "05b12d8f-4fc1-4baa-9150-48aa75f100f3"
      },
      "execution_count": null,
      "outputs": [
        {
          "output_type": "execute_result",
          "data": {
            "text/plain": [
              "2.571428571428571"
            ]
          },
          "metadata": {},
          "execution_count": 29
        }
      ]
    },
    {
      "cell_type": "markdown",
      "source": [
        "Defining a new fucntion and trying to concatinate string, list and other types of variable, which help us to resue code again and again for various purpose"
      ],
      "metadata": {
        "id": "Kg-9CmSRqwQY"
      }
    },
    {
      "cell_type": "code",
      "source": [
        "def test7(a,b):\n",
        "  return a+b"
      ],
      "metadata": {
        "id": "fhE0cWkKrD8C"
      },
      "execution_count": null,
      "outputs": []
    },
    {
      "cell_type": "code",
      "source": [
        "test7(3,4)"
      ],
      "metadata": {
        "colab": {
          "base_uri": "https://localhost:8080/"
        },
        "id": "WKJ7Usw0oZo2",
        "outputId": "5be60daa-5f15-4b24-d679-8dc343a083d5"
      },
      "execution_count": null,
      "outputs": [
        {
          "output_type": "execute_result",
          "data": {
            "text/plain": [
              "7"
            ]
          },
          "metadata": {},
          "execution_count": 31
        }
      ]
    },
    {
      "cell_type": "code",
      "source": [
        "test7('agarwal','Jubin')"
      ],
      "metadata": {
        "colab": {
          "base_uri": "https://localhost:8080/",
          "height": 35
        },
        "id": "D2luDQ5HrMrn",
        "outputId": "797e753c-963f-4a07-959d-7674e11badca"
      },
      "execution_count": null,
      "outputs": [
        {
          "output_type": "execute_result",
          "data": {
            "text/plain": [
              "'agarwalJubin'"
            ],
            "application/vnd.google.colaboratory.intrinsic+json": {
              "type": "string"
            }
          },
          "metadata": {},
          "execution_count": 32
        }
      ]
    },
    {
      "cell_type": "code",
      "source": [
        "test7([1,2,3,4,5,5],[5,6,7])"
      ],
      "metadata": {
        "colab": {
          "base_uri": "https://localhost:8080/"
        },
        "id": "UkWyxIaJrUXg",
        "outputId": "3412902a-a9d9-4147-cf57-bce08aa03a2a"
      },
      "execution_count": null,
      "outputs": [
        {
          "output_type": "execute_result",
          "data": {
            "text/plain": [
              "[1, 2, 3, 4, 5, 5, 5, 6, 7]"
            ]
          },
          "metadata": {},
          "execution_count": 34
        }
      ]
    },
    {
      "cell_type": "markdown",
      "source": [
        "wriitng a fucntion to take out intergers and finally create a list and give the output"
      ],
      "metadata": {
        "id": "8qMZNJl9r4s4"
      }
    },
    {
      "cell_type": "code",
      "source": [
        "l=[1,2,3,3,4,'agarwal','kumar',[1,2,3,4,54,6]]"
      ],
      "metadata": {
        "id": "wsZKsr_orZsn"
      },
      "execution_count": null,
      "outputs": []
    },
    {
      "cell_type": "code",
      "source": [
        "l1=[]\n",
        "for i in l:\n",
        "    if type(i)==int or type(i)==float:\n",
        "      l1.append(i)\n"
      ],
      "metadata": {
        "id": "mCpAJFoUsG5I"
      },
      "execution_count": null,
      "outputs": []
    },
    {
      "cell_type": "code",
      "source": [
        "l1\n"
      ],
      "metadata": {
        "colab": {
          "base_uri": "https://localhost:8080/"
        },
        "id": "t2xPPugVsfcg",
        "outputId": "7ec14fbd-24e8-4fd3-fa39-2dfe215aa5b6"
      },
      "execution_count": null,
      "outputs": [
        {
          "output_type": "execute_result",
          "data": {
            "text/plain": [
              "[1, 2, 3, 3, 4]"
            ]
          },
          "metadata": {},
          "execution_count": 60
        }
      ]
    },
    {
      "cell_type": "code",
      "source": [
        "def test8(l):\n",
        "    l1=[]\n",
        "    for i in l:\n",
        "      if type(i)==int or type(i)==float:\n",
        "        l1.append(i)\n",
        "    return l1"
      ],
      "metadata": {
        "id": "uHtVpLdhsf-y"
      },
      "execution_count": null,
      "outputs": []
    },
    {
      "cell_type": "code",
      "source": [
        "test8(l)"
      ],
      "metadata": {
        "colab": {
          "base_uri": "https://localhost:8080/"
        },
        "id": "RNf1v5nYslg4",
        "outputId": "cf29ae8b-27bd-423c-e59d-ad5e96e55163"
      },
      "execution_count": null,
      "outputs": [
        {
          "output_type": "execute_result",
          "data": {
            "text/plain": [
              "[1, 2, 3, 3, 4]"
            ]
          },
          "metadata": {},
          "execution_count": 62
        }
      ]
    },
    {
      "cell_type": "code",
      "source": [
        "l"
      ],
      "metadata": {
        "colab": {
          "base_uri": "https://localhost:8080/"
        },
        "id": "4tQvVWw0tGxn",
        "outputId": "319293af-2851-441c-f219-f788ab562a6a"
      },
      "execution_count": null,
      "outputs": [
        {
          "output_type": "execute_result",
          "data": {
            "text/plain": [
              "[1, 2, 3, 3, 4, 'agarwal', 'kumar', [1, 2, 3, 4, 54, 6]]"
            ]
          },
          "metadata": {},
          "execution_count": 63
        }
      ]
    },
    {
      "cell_type": "code",
      "source": [
        "def test9(a):\n",
        " l=[]\n",
        " for i in a :\n",
        "    if type(i)== list:\n",
        "      for j in i:\n",
        "        l.append(j)\n",
        "    else:\n",
        "       if type(i)== int or type  (i) ==float:\n",
        "           l.append(i)\n",
        " return l\n",
        "\n"
      ],
      "metadata": {
        "id": "IPAPbRctt55Q"
      },
      "execution_count": null,
      "outputs": []
    },
    {
      "cell_type": "code",
      "source": [
        "test9(l)"
      ],
      "metadata": {
        "colab": {
          "base_uri": "https://localhost:8080/"
        },
        "id": "F927khVmwtsx",
        "outputId": "f38accdc-e3ec-4fda-88f9-439dd7ab019f"
      },
      "execution_count": null,
      "outputs": [
        {
          "output_type": "execute_result",
          "data": {
            "text/plain": [
              "[1, 2, 3, 3, 4, 1, 2, 3, 4, 54, 6]"
            ]
          },
          "metadata": {},
          "execution_count": 81
        }
      ]
    },
    {
      "cell_type": "code",
      "source": [
        "def test10(a):\n",
        "  ''' this is my fucntion to extract numeric data'''\n",
        "  l=[]\n",
        "  for i in a :\n",
        "    if type(i)== list:\n",
        "      for j in i:\n",
        "        l.append(j)\n",
        "    else:\n",
        "       if type(i)== int or type(i) ==float:\n",
        "           l.append(i)\n",
        "  return l\n"
      ],
      "metadata": {
        "id": "iaKhaVI1xJ3p"
      },
      "execution_count": null,
      "outputs": []
    },
    {
      "cell_type": "markdown",
      "source": [
        "making paramters dynamic"
      ],
      "metadata": {
        "id": "sp3ToDwTya9J"
      }
    },
    {
      "cell_type": "code",
      "source": [
        "def test11(a,b):\n",
        "  return a+b\n"
      ],
      "metadata": {
        "id": "WHW2eHrxxzsZ"
      },
      "execution_count": null,
      "outputs": []
    },
    {
      "cell_type": "markdown",
      "source": [
        "##args*: with * you can pass n nomber of element in a fucntion , which will be a tuple"
      ],
      "metadata": {
        "id": "vJHb_easzDEa"
      }
    },
    {
      "cell_type": "code",
      "source": [
        "def test12(*args):\n",
        "  return args"
      ],
      "metadata": {
        "id": "QZiEKycMygi5"
      },
      "execution_count": null,
      "outputs": []
    },
    {
      "cell_type": "code",
      "source": [
        "type(test12())"
      ],
      "metadata": {
        "colab": {
          "base_uri": "https://localhost:8080/"
        },
        "id": "oMVpqpXdyo9q",
        "outputId": "57a288de-1364-4072-d4bb-6953728b65ba"
      },
      "execution_count": null,
      "outputs": [
        {
          "output_type": "execute_result",
          "data": {
            "text/plain": [
              "tuple"
            ]
          },
          "metadata": {},
          "execution_count": 98
        }
      ]
    },
    {
      "cell_type": "code",
      "source": [
        "test12(1,2,3)"
      ],
      "metadata": {
        "colab": {
          "base_uri": "https://localhost:8080/"
        },
        "id": "UjsIhWgMywiR",
        "outputId": "286fc556-047f-4b58-c3e6-cef77bb762d4"
      },
      "execution_count": null,
      "outputs": [
        {
          "output_type": "execute_result",
          "data": {
            "text/plain": [
              "(1, 2, 3)"
            ]
          },
          "metadata": {},
          "execution_count": 99
        }
      ]
    },
    {
      "cell_type": "code",
      "source": [
        "test12(1,2,3,'sudh','Kumar',[1,2,3,4])"
      ],
      "metadata": {
        "colab": {
          "base_uri": "https://localhost:8080/"
        },
        "id": "DK4cQ2rMy2rS",
        "outputId": "85931520-3d48-4b57-c1c5-6f53a439b9c0"
      },
      "execution_count": null,
      "outputs": [
        {
          "output_type": "execute_result",
          "data": {
            "text/plain": [
              "(1, 2, 3, 'sudh', 'Kumar', [1, 2, 3, 4])"
            ]
          },
          "metadata": {},
          "execution_count": 102
        }
      ]
    },
    {
      "cell_type": "code",
      "source": [],
      "metadata": {
        "id": "BAE8ETKbfjyB"
      },
      "execution_count": null,
      "outputs": []
    },
    {
      "cell_type": "markdown",
      "source": [
        "**lamda functions/one liner function**\n"
      ],
      "metadata": {
        "id": "NagqQ50Dis5U"
      }
    },
    {
      "cell_type": "markdown",
      "source": [
        "n**p"
      ],
      "metadata": {
        "id": "d9j17bb4jQ77"
      }
    },
    {
      "cell_type": "code",
      "source": [
        "n=3\n",
        "p=2\n",
        "\n",
        "\n",
        "\n"
      ],
      "metadata": {
        "id": "pYSr1vL9y8vR"
      },
      "execution_count": 1,
      "outputs": []
    },
    {
      "cell_type": "code",
      "source": [
        "def test(n,p):\n",
        "  return n**p"
      ],
      "metadata": {
        "id": "GHgE-L7FjUUc"
      },
      "execution_count": 2,
      "outputs": []
    },
    {
      "cell_type": "code",
      "source": [
        "test(3,2)"
      ],
      "metadata": {
        "id": "6KSFhw20jan7",
        "outputId": "eecb476c-887b-405e-94ce-9fff72bae33d",
        "colab": {
          "base_uri": "https://localhost:8080/"
        }
      },
      "execution_count": 3,
      "outputs": [
        {
          "output_type": "execute_result",
          "data": {
            "text/plain": [
              "9"
            ]
          },
          "metadata": {},
          "execution_count": 3
        }
      ]
    },
    {
      "cell_type": "code",
      "source": [
        "a= lambda n,p:n**p"
      ],
      "metadata": {
        "id": "fkKWrYaWjcFz"
      },
      "execution_count": 8,
      "outputs": []
    },
    {
      "cell_type": "code",
      "source": [
        "a(3,2)"
      ],
      "metadata": {
        "id": "_-L_cAJJjhHL",
        "outputId": "bf25072b-e179-4648-f57d-cfc62a77ecd6",
        "colab": {
          "base_uri": "https://localhost:8080/"
        }
      },
      "execution_count": 9,
      "outputs": [
        {
          "output_type": "execute_result",
          "data": {
            "text/plain": [
              "9"
            ]
          },
          "metadata": {},
          "execution_count": 9
        }
      ]
    },
    {
      "cell_type": "code",
      "source": [
        "##next example"
      ],
      "metadata": {
        "id": "4qScmAV0zpb-"
      },
      "execution_count": 10,
      "outputs": []
    },
    {
      "cell_type": "code",
      "source": [],
      "metadata": {
        "id": "QjjjM-5ez7YQ"
      },
      "execution_count": null,
      "outputs": []
    },
    {
      "cell_type": "code",
      "source": [
        "add = lambda x,y: x+y"
      ],
      "metadata": {
        "id": "GFqe2_Myz0oM"
      },
      "execution_count": 16,
      "outputs": []
    },
    {
      "cell_type": "code",
      "source": [
        "add (4,5)"
      ],
      "metadata": {
        "id": "eCUIFpCSz4F1",
        "outputId": "6127bea8-6a97-4070-dc3b-8dd61b326a5e",
        "colab": {
          "base_uri": "https://localhost:8080/"
        }
      },
      "execution_count": 18,
      "outputs": [
        {
          "output_type": "execute_result",
          "data": {
            "text/plain": [
              "9"
            ]
          },
          "metadata": {},
          "execution_count": 18
        }
      ]
    },
    {
      "cell_type": "code",
      "source": [
        "c_to_f= lambda c: (9/5)*c+32"
      ],
      "metadata": {
        "id": "HZmmwcuJ0Bd1"
      },
      "execution_count": 19,
      "outputs": []
    },
    {
      "cell_type": "code",
      "source": [
        "c_to_f((9/5)*56+32)"
      ],
      "metadata": {
        "id": "cy0OqtCE44Nw",
        "outputId": "f67abdaa-1086-4823-a7e5-303a3a8ee53e",
        "colab": {
          "base_uri": "https://localhost:8080/"
        }
      },
      "execution_count": 23,
      "outputs": [
        {
          "output_type": "execute_result",
          "data": {
            "text/plain": [
              "271.04"
            ]
          },
          "metadata": {},
          "execution_count": 23
        }
      ]
    },
    {
      "cell_type": "code",
      "source": [
        "## next example"
      ],
      "metadata": {
        "id": "c7yilVKD5ASR"
      },
      "execution_count": 24,
      "outputs": []
    },
    {
      "cell_type": "code",
      "source": [
        "finding_max= lambda x,y: x if x>y else y"
      ],
      "metadata": {
        "id": "sOcSX0jd5k8a"
      },
      "execution_count": 26,
      "outputs": []
    },
    {
      "cell_type": "code",
      "source": [
        "finding_max(32,78)"
      ],
      "metadata": {
        "id": "74MphwoL6IrQ",
        "outputId": "c1c09fc2-7c6a-452b-e101-b211623c2054",
        "colab": {
          "base_uri": "https://localhost:8080/"
        }
      },
      "execution_count": 27,
      "outputs": [
        {
          "output_type": "execute_result",
          "data": {
            "text/plain": [
              "78"
            ]
          },
          "metadata": {},
          "execution_count": 27
        }
      ]
    },
    {
      "cell_type": "code",
      "source": [
        "s= 'jubin agarwal'"
      ],
      "metadata": {
        "id": "lMQjzxfN6NU5"
      },
      "execution_count": 28,
      "outputs": []
    },
    {
      "cell_type": "code",
      "source": [
        "find_len= lambda s: len(s)"
      ],
      "metadata": {
        "id": "JGsZdMsF6WcY"
      },
      "execution_count": 29,
      "outputs": []
    },
    {
      "cell_type": "code",
      "source": [
        "find_len(s)"
      ],
      "metadata": {
        "id": "oT_CGepf6ZgR",
        "outputId": "75495fec-795d-4bef-ef32-4f4fbadf88dd",
        "colab": {
          "base_uri": "https://localhost:8080/"
        }
      },
      "execution_count": 30,
      "outputs": [
        {
          "output_type": "execute_result",
          "data": {
            "text/plain": [
              "13"
            ]
          },
          "metadata": {},
          "execution_count": 30
        }
      ]
    },
    {
      "cell_type": "markdown",
      "source": [
        "##Map, reduce and filter function"
      ],
      "metadata": {
        "id": "Yvk2_HuM6jw6"
      }
    },
    {
      "cell_type": "code",
      "source": [
        "l=[2,3,4,5,6,7]"
      ],
      "metadata": {
        "id": "k63XvQ6c6bWA"
      },
      "execution_count": 37,
      "outputs": []
    },
    {
      "cell_type": "code",
      "source": [
        "def test(l):\n",
        "  l1=[]\n",
        "  for i in l:\n",
        "    l1.append(i**2)\n",
        "  return l1"
      ],
      "metadata": {
        "id": "qP52PJpB7fcZ"
      },
      "execution_count": 40,
      "outputs": []
    },
    {
      "cell_type": "code",
      "source": [
        "test (l)"
      ],
      "metadata": {
        "id": "5pGsUpr97r2J",
        "outputId": "1e27258d-f2c5-4913-b50c-fe9d670b52d3",
        "colab": {
          "base_uri": "https://localhost:8080/"
        }
      },
      "execution_count": 41,
      "outputs": [
        {
          "output_type": "execute_result",
          "data": {
            "text/plain": [
              "[4, 9, 16, 25, 36, 49]"
            ]
          },
          "metadata": {},
          "execution_count": 41
        }
      ]
    },
    {
      "cell_type": "code",
      "source": [
        "def sq(x):\n",
        "  return x**2"
      ],
      "metadata": {
        "id": "WGMxmOKu7zW5"
      },
      "execution_count": 42,
      "outputs": []
    },
    {
      "cell_type": "code",
      "source": [
        "list(map(sq,l))"
      ],
      "metadata": {
        "id": "iKclbrg5-U6x",
        "outputId": "b4d2dfe4-2545-45cb-a023-8756bdb33a8d",
        "colab": {
          "base_uri": "https://localhost:8080/"
        }
      },
      "execution_count": 47,
      "outputs": [
        {
          "output_type": "execute_result",
          "data": {
            "text/plain": [
              "[4, 9, 16, 25, 36, 49]"
            ]
          },
          "metadata": {},
          "execution_count": 47
        }
      ]
    },
    {
      "cell_type": "code",
      "source": [
        "list(map(lambda x: x**2,l))"
      ],
      "metadata": {
        "id": "y90U0RTl-WjJ",
        "outputId": "2cde9d9f-ce3c-41f3-aa9c-3e4db8c849a7",
        "colab": {
          "base_uri": "https://localhost:8080/"
        }
      },
      "execution_count": 48,
      "outputs": [
        {
          "output_type": "execute_result",
          "data": {
            "text/plain": [
              "[4, 9, 16, 25, 36, 49]"
            ]
          },
          "metadata": {},
          "execution_count": 48
        }
      ]
    },
    {
      "cell_type": "markdown",
      "source": [
        "##take l1 and l2 and add both the elements of list  and then index wise add them"
      ],
      "metadata": {
        "id": "h1Mrp9-fAPGz"
      }
    },
    {
      "cell_type": "code",
      "source": [
        "l1=[1,2,3,4,5]\n",
        "l2=[4,5,5,5,7]\n",
        "\n",
        "list(map(lambda x,y:x+y,l1,l2))"
      ],
      "metadata": {
        "id": "GKN36NMo_UaC",
        "outputId": "1e2a25df-41e2-49a5-95eb-0298cbfc8f76",
        "colab": {
          "base_uri": "https://localhost:8080/"
        }
      },
      "execution_count": 49,
      "outputs": [
        {
          "output_type": "execute_result",
          "data": {
            "text/plain": [
              "[5, 7, 8, 9, 12]"
            ]
          },
          "metadata": {},
          "execution_count": 49
        }
      ]
    },
    {
      "cell_type": "code",
      "source": [
        "def add(x,y):\n",
        "  return x+y"
      ],
      "metadata": {
        "id": "lyay652wAeNq"
      },
      "execution_count": 50,
      "outputs": []
    },
    {
      "cell_type": "code",
      "source": [
        "list(map(add,l1,l2))"
      ],
      "metadata": {
        "id": "1L6MIYVwBrbi",
        "outputId": "8d430ba1-a9e6-4413-f077-b16e68ee29b0",
        "colab": {
          "base_uri": "https://localhost:8080/"
        }
      },
      "execution_count": 51,
      "outputs": [
        {
          "output_type": "execute_result",
          "data": {
            "text/plain": [
              "[5, 7, 8, 9, 12]"
            ]
          },
          "metadata": {},
          "execution_count": 51
        }
      ]
    },
    {
      "cell_type": "code",
      "source": [
        "s= 'pwskills'\n",
        "list(map(lambda s: s.upper(),s))"
      ],
      "metadata": {
        "id": "cBOdg1BLBwWZ",
        "outputId": "ce46fdc0-a061-439e-a5b2-7492860ce8ff",
        "colab": {
          "base_uri": "https://localhost:8080/"
        }
      },
      "execution_count": 52,
      "outputs": [
        {
          "output_type": "execute_result",
          "data": {
            "text/plain": [
              "['P', 'W', 'S', 'K', 'I', 'L', 'L', 'S']"
            ]
          },
          "metadata": {},
          "execution_count": 52
        }
      ]
    },
    {
      "cell_type": "code",
      "source": [
        "from functools import reduce"
      ],
      "metadata": {
        "id": "3-MS6wZtCBTC"
      },
      "execution_count": 53,
      "outputs": []
    },
    {
      "cell_type": "code",
      "source": [
        "l=[1,2,3,4,5,56]"
      ],
      "metadata": {
        "id": "gSwYcDOgCZIy"
      },
      "execution_count": 54,
      "outputs": []
    },
    {
      "cell_type": "markdown",
      "source": [
        "##reduce fucntion can only be used with two parameters"
      ],
      "metadata": {
        "id": "ZtfzgUgxJ6ow"
      }
    },
    {
      "cell_type": "code",
      "source": [
        "reduce(lambda x,y : x+y,l)"
      ],
      "metadata": {
        "id": "uRe3gx08Cixy",
        "outputId": "af059140-67b1-4084-948c-4126825c5e44",
        "colab": {
          "base_uri": "https://localhost:8080/"
        }
      },
      "execution_count": 57,
      "outputs": [
        {
          "output_type": "execute_result",
          "data": {
            "text/plain": [
              "71"
            ]
          },
          "metadata": {},
          "execution_count": 57
        }
      ]
    },
    {
      "cell_type": "code",
      "source": [
        "reduce(lambda x,y : x*y,l )"
      ],
      "metadata": {
        "id": "Q5LDzyq7I3QX",
        "outputId": "2959d931-53f7-4ffa-b441-6d822f26a79f",
        "colab": {
          "base_uri": "https://localhost:8080/"
        }
      },
      "execution_count": 58,
      "outputs": [
        {
          "output_type": "execute_result",
          "data": {
            "text/plain": [
              "6720"
            ]
          },
          "metadata": {},
          "execution_count": 58
        }
      ]
    },
    {
      "cell_type": "code",
      "source": [
        "l"
      ],
      "metadata": {
        "id": "jqMDGlucTLaL",
        "outputId": "213e4fd7-f1dd-4609-a195-2fa4391c0cc4",
        "colab": {
          "base_uri": "https://localhost:8080/"
        }
      },
      "execution_count": 59,
      "outputs": [
        {
          "output_type": "execute_result",
          "data": {
            "text/plain": [
              "[1, 2, 3, 4, 5, 56]"
            ]
          },
          "metadata": {},
          "execution_count": 59
        }
      ]
    },
    {
      "cell_type": "code",
      "source": [
        "reduce(lambda x,y : x if x>y else y, l)"
      ],
      "metadata": {
        "id": "MWxysCToTMgU",
        "outputId": "b569de05-7da2-49f7-e7be-c4642f78528a",
        "colab": {
          "base_uri": "https://localhost:8080/"
        }
      },
      "execution_count": 61,
      "outputs": [
        {
          "output_type": "execute_result",
          "data": {
            "text/plain": [
              "56"
            ]
          },
          "metadata": {},
          "execution_count": 61
        }
      ]
    },
    {
      "cell_type": "code",
      "source": [
        "##apply filter for even  no."
      ],
      "metadata": {
        "id": "RQ7K0IuUTWwi"
      },
      "execution_count": 62,
      "outputs": []
    },
    {
      "cell_type": "code",
      "source": [
        "list(filter(lambda x: x%2==0,l))"
      ],
      "metadata": {
        "id": "h7zijCpNT-zb",
        "outputId": "45c99b36-675a-45f2-802c-41f237891d56",
        "colab": {
          "base_uri": "https://localhost:8080/"
        }
      },
      "execution_count": 63,
      "outputs": [
        {
          "output_type": "execute_result",
          "data": {
            "text/plain": [
              "[2, 4, 56]"
            ]
          },
          "metadata": {},
          "execution_count": 63
        }
      ]
    },
    {
      "cell_type": "code",
      "source": [
        "##apply filter for odd no."
      ],
      "metadata": {
        "id": "XhKKxKWIUCKD"
      },
      "execution_count": 64,
      "outputs": []
    },
    {
      "cell_type": "code",
      "source": [
        "list(filter(lambda x: x%2!=0,l))"
      ],
      "metadata": {
        "id": "d5XRrP1BUWGq",
        "outputId": "a69e177d-8b76-4964-8166-3d3fcfe2d996",
        "colab": {
          "base_uri": "https://localhost:8080/"
        }
      },
      "execution_count": 67,
      "outputs": [
        {
          "output_type": "execute_result",
          "data": {
            "text/plain": [
              "[1, 3, 5]"
            ]
          },
          "metadata": {},
          "execution_count": 67
        }
      ]
    },
    {
      "cell_type": "code",
      "source": [
        "l2 = [-3,4,5,6,-1,-5]"
      ],
      "metadata": {
        "id": "OiWwr5qmUcUM"
      },
      "execution_count": 69,
      "outputs": []
    },
    {
      "cell_type": "code",
      "source": [
        "list(filter(lambda x: x<0,l2))"
      ],
      "metadata": {
        "id": "4tG7Q_AMUkZi",
        "outputId": "628fb843-34fc-4ed7-b8ce-ce9c4f8bdea5",
        "colab": {
          "base_uri": "https://localhost:8080/"
        }
      },
      "execution_count": 70,
      "outputs": [
        {
          "output_type": "execute_result",
          "data": {
            "text/plain": [
              "[-3, -1, -5]"
            ]
          },
          "metadata": {},
          "execution_count": 70
        }
      ]
    },
    {
      "cell_type": "code",
      "source": [
        "list(filter(lambda x: x>0,l2))"
      ],
      "metadata": {
        "id": "3bzrSb5iUqdM",
        "outputId": "76cb33aa-193c-46e5-f511-521ed5c06ad1",
        "colab": {
          "base_uri": "https://localhost:8080/"
        }
      },
      "execution_count": 71,
      "outputs": [
        {
          "output_type": "execute_result",
          "data": {
            "text/plain": [
              "[4, 5, 6]"
            ]
          },
          "metadata": {},
          "execution_count": 71
        }
      ]
    },
    {
      "cell_type": "markdown",
      "source": [
        "getting lenth of element from a list with length of lesser than 6"
      ],
      "metadata": {
        "id": "BJeX4iChVK9N"
      }
    },
    {
      "cell_type": "code",
      "source": [
        "l3=['Jubin','Aagarwal','Gwalior', 'Satyadev nagar']"
      ],
      "metadata": {
        "id": "G41FLGfsUtMD"
      },
      "execution_count": 73,
      "outputs": []
    },
    {
      "cell_type": "code",
      "source": [
        "list(filter(lambda x: len(x)<6, l3))"
      ],
      "metadata": {
        "id": "qlCXq3UoU0EC",
        "outputId": "544b07c3-afe7-4b2b-db48-7a76865cc000",
        "colab": {
          "base_uri": "https://localhost:8080/"
        }
      },
      "execution_count": 77,
      "outputs": [
        {
          "output_type": "execute_result",
          "data": {
            "text/plain": [
              "['Jubin']"
            ]
          },
          "metadata": {},
          "execution_count": 77
        }
      ]
    },
    {
      "cell_type": "code",
      "source": [],
      "metadata": {
        "id": "1cI4iDNfU9Qi"
      },
      "execution_count": null,
      "outputs": []
    }
  ]
}