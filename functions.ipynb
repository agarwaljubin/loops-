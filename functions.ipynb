{
  "nbformat": 4,
  "nbformat_minor": 0,
  "metadata": {
    "colab": {
      "provenance": [],
      "authorship_tag": "ABX9TyMXZ1OSieQhUbKxZER66OlX",
      "include_colab_link": true
    },
    "kernelspec": {
      "name": "python3",
      "display_name": "Python 3"
    },
    "language_info": {
      "name": "python"
    }
  },
  "cells": [
    {
      "cell_type": "markdown",
      "metadata": {
        "id": "view-in-github",
        "colab_type": "text"
      },
      "source": [
        "<a href=\"https://colab.research.google.com/github/agarwaljubin/loops-/blob/main/functions.ipynb\" target=\"_parent\"><img src=\"https://colab.research.google.com/assets/colab-badge.svg\" alt=\"Open In Colab\"/></a>"
      ]
    },
    {
      "cell_type": "markdown",
      "source": [
        "# **Let's get's started with fucntions**\n",
        "- what we will study:\n",
        "1. defining a funtion\n",
        "2. mapping the fucntion with a variable.\n",
        "3. multiple ways to introduce and eclare the fucntion in a program"
      ],
      "metadata": {
        "id": "y7V7sR2rRshW"
      }
    },
    {
      "cell_type": "code",
      "execution_count": 1,
      "metadata": {
        "colab": {
          "base_uri": "https://localhost:8080/"
        },
        "id": "jGkxvxa4RrYQ",
        "outputId": "4ca233f7-4621-400a-b0e3-60962b1f68c6"
      },
      "outputs": [
        {
          "output_type": "stream",
          "name": "stdout",
          "text": [
            "this is my print\n"
          ]
        }
      ],
      "source": [
        "print('this is my print')"
      ]
    },
    {
      "cell_type": "code",
      "source": [
        "l=[223,556,675]"
      ],
      "metadata": {
        "id": "gxFiJqRvSRYe"
      },
      "execution_count": 2,
      "outputs": []
    },
    {
      "cell_type": "code",
      "source": [
        "len(l)"
      ],
      "metadata": {
        "colab": {
          "base_uri": "https://localhost:8080/"
        },
        "id": "0JjxunhrSVVG",
        "outputId": "b63af562-0a85-4962-deff-a1304ba35c0f"
      },
      "execution_count": 3,
      "outputs": [
        {
          "output_type": "execute_result",
          "data": {
            "text/plain": [
              "3"
            ]
          },
          "metadata": {},
          "execution_count": 3
        }
      ]
    },
    {
      "cell_type": "code",
      "source": [
        "def test1():\n",
        "  print('this is my first function')"
      ],
      "metadata": {
        "id": "0tdEvFAoSWXN"
      },
      "execution_count": 4,
      "outputs": []
    },
    {
      "cell_type": "code",
      "source": [
        "test1()"
      ],
      "metadata": {
        "colab": {
          "base_uri": "https://localhost:8080/"
        },
        "id": "Q1NHi_syU-m_",
        "outputId": "f24d48d5-e46f-4cc2-83d5-0b89fbc68b86"
      },
      "execution_count": 6,
      "outputs": [
        {
          "output_type": "stream",
          "name": "stdout",
          "text": [
            "this is my first function\n"
          ]
        }
      ]
    },
    {
      "cell_type": "code",
      "source": [
        "def test2():\n",
        "  return 'This is my first fucntion'"
      ],
      "metadata": {
        "id": "sSqbSiEAU_qt"
      },
      "execution_count": 9,
      "outputs": []
    },
    {
      "cell_type": "code",
      "source": [
        "test2()"
      ],
      "metadata": {
        "colab": {
          "base_uri": "https://localhost:8080/",
          "height": 35
        },
        "id": "89RoTIj_V1L-",
        "outputId": "8d9660d1-ba82-4000-cb71-598f19ed0eec"
      },
      "execution_count": 10,
      "outputs": [
        {
          "output_type": "execute_result",
          "data": {
            "text/plain": [
              "'This is my first fucntion'"
            ],
            "application/vnd.google.colaboratory.intrinsic+json": {
              "type": "string"
            }
          },
          "metadata": {},
          "execution_count": 10
        }
      ]
    },
    {
      "cell_type": "code",
      "source": [
        "test2() + 'sudh'"
      ],
      "metadata": {
        "colab": {
          "base_uri": "https://localhost:8080/",
          "height": 35
        },
        "id": "B3dnZ0QWV3wO",
        "outputId": "323fbfdf-a1cf-4c7b-845a-ec0ed8ff994d"
      },
      "execution_count": 11,
      "outputs": [
        {
          "output_type": "execute_result",
          "data": {
            "text/plain": [
              "'This is my first fucntionsudh'"
            ],
            "application/vnd.google.colaboratory.intrinsic+json": {
              "type": "string"
            }
          },
          "metadata": {},
          "execution_count": 11
        }
      ]
    },
    {
      "cell_type": "code",
      "source": [
        "def test3():\n",
        "  return'sudh',23,342,[1,2,2,3]"
      ],
      "metadata": {
        "id": "15Hrp5RrV69e"
      },
      "execution_count": 12,
      "outputs": []
    },
    {
      "cell_type": "code",
      "source": [
        "test3()"
      ],
      "metadata": {
        "colab": {
          "base_uri": "https://localhost:8080/"
        },
        "id": "SVo16kNzWGYe",
        "outputId": "30606185-0011-49ac-b8ab-133dcd614afd"
      },
      "execution_count": 13,
      "outputs": [
        {
          "output_type": "execute_result",
          "data": {
            "text/plain": [
              "('sudh', 23, 342, [1, 2, 2, 3])"
            ]
          },
          "metadata": {},
          "execution_count": 13
        }
      ]
    },
    {
      "cell_type": "code",
      "source": [
        "a,b,c,d=test3()"
      ],
      "metadata": {
        "id": "poEVP5QfWHl2"
      },
      "execution_count": 14,
      "outputs": []
    },
    {
      "cell_type": "code",
      "source": [
        "a"
      ],
      "metadata": {
        "colab": {
          "base_uri": "https://localhost:8080/",
          "height": 35
        },
        "id": "qQ8t2woPWVRG",
        "outputId": "71477ac7-b171-46f4-cfda-5c3e4779887e"
      },
      "execution_count": 15,
      "outputs": [
        {
          "output_type": "execute_result",
          "data": {
            "text/plain": [
              "'sudh'"
            ],
            "application/vnd.google.colaboratory.intrinsic+json": {
              "type": "string"
            }
          },
          "metadata": {},
          "execution_count": 15
        }
      ]
    },
    {
      "cell_type": "code",
      "source": [
        "b"
      ],
      "metadata": {
        "colab": {
          "base_uri": "https://localhost:8080/"
        },
        "id": "DtzqTysKWV0n",
        "outputId": "3c449a8f-171d-479c-d138-a4c16653020f"
      },
      "execution_count": 16,
      "outputs": [
        {
          "output_type": "execute_result",
          "data": {
            "text/plain": [
              "23"
            ]
          },
          "metadata": {},
          "execution_count": 16
        }
      ]
    },
    {
      "cell_type": "code",
      "source": [
        "v"
      ],
      "metadata": {
        "colab": {
          "base_uri": "https://localhost:8080/",
          "height": 141
        },
        "id": "ypKXZZ5gWWQX",
        "outputId": "4c12b8cb-b143-4942-a89b-927a9a6412d3"
      },
      "execution_count": 17,
      "outputs": [
        {
          "output_type": "error",
          "ename": "NameError",
          "evalue": "name 'v' is not defined",
          "traceback": [
            "\u001b[0;31m---------------------------------------------------------------------------\u001b[0m",
            "\u001b[0;31mNameError\u001b[0m                                 Traceback (most recent call last)",
            "\u001b[0;32m<ipython-input-17-d0aa4386ac53>\u001b[0m in \u001b[0;36m<cell line: 0>\u001b[0;34m()\u001b[0m\n\u001b[0;32m----> 1\u001b[0;31m \u001b[0mv\u001b[0m\u001b[0;34m\u001b[0m\u001b[0;34m\u001b[0m\u001b[0m\n\u001b[0m",
            "\u001b[0;31mNameError\u001b[0m: name 'v' is not defined"
          ]
        }
      ]
    },
    {
      "cell_type": "code",
      "source": [
        "c"
      ],
      "metadata": {
        "colab": {
          "base_uri": "https://localhost:8080/"
        },
        "id": "Te5ky2vKWWme",
        "outputId": "9ce85f5c-a179-436c-dc7f-72dd6a689732"
      },
      "execution_count": 18,
      "outputs": [
        {
          "output_type": "execute_result",
          "data": {
            "text/plain": [
              "342"
            ]
          },
          "metadata": {},
          "execution_count": 18
        }
      ]
    },
    {
      "cell_type": "code",
      "source": [
        "d"
      ],
      "metadata": {
        "colab": {
          "base_uri": "https://localhost:8080/"
        },
        "id": "kx70i5PyWXD1",
        "outputId": "d76e1a0e-36cb-4f3d-cf0b-a37ce8daf6a1"
      },
      "execution_count": 19,
      "outputs": [
        {
          "output_type": "execute_result",
          "data": {
            "text/plain": [
              "[1, 2, 2, 3]"
            ]
          },
          "metadata": {},
          "execution_count": 19
        }
      ]
    },
    {
      "cell_type": "markdown",
      "source": [],
      "metadata": {
        "id": "I4pG5RYcnb2P"
      }
    },
    {
      "cell_type": "markdown",
      "source": [
        "use of function"
      ],
      "metadata": {
        "id": "SJkamNlYneUP"
      }
    },
    {
      "cell_type": "code",
      "source": [
        "def test4():\n",
        "    a= 5+6/7\n",
        "    return a"
      ],
      "metadata": {
        "id": "QNyg2aL8nbgI"
      },
      "execution_count": 23,
      "outputs": []
    },
    {
      "cell_type": "code",
      "source": [
        "test4()\n"
      ],
      "metadata": {
        "colab": {
          "base_uri": "https://localhost:8080/"
        },
        "id": "IVrEs6CzWXad",
        "outputId": "aaf24609-2d70-4943-87f0-5bd491d98596"
      },
      "execution_count": 25,
      "outputs": [
        {
          "output_type": "execute_result",
          "data": {
            "text/plain": [
              "5.857142857142857"
            ]
          },
          "metadata": {},
          "execution_count": 25
        }
      ]
    },
    {
      "cell_type": "markdown",
      "source": [
        "data called and determined by user, where variable are not deifned , lets define variable , with their data type"
      ],
      "metadata": {
        "id": "qq1cK-ABnwgQ"
      }
    },
    {
      "cell_type": "code",
      "source": [
        "def test5(a,b,c):\n",
        "  d=a+b/c\n",
        "  return d\n",
        "\n"
      ],
      "metadata": {
        "id": "Vm4bFA8anusX"
      },
      "execution_count": 27,
      "outputs": []
    },
    {
      "cell_type": "code",
      "source": [
        "test5()"
      ],
      "metadata": {
        "colab": {
          "base_uri": "https://localhost:8080/",
          "height": 141
        },
        "id": "e1Z1olz4oHTn",
        "outputId": "24536a6c-dfc4-426d-f62c-8ee052d11eb6"
      },
      "execution_count": 28,
      "outputs": [
        {
          "output_type": "error",
          "ename": "TypeError",
          "evalue": "test5() missing 3 required positional arguments: 'a', 'b', and 'c'",
          "traceback": [
            "\u001b[0;31m---------------------------------------------------------------------------\u001b[0m",
            "\u001b[0;31mTypeError\u001b[0m                                 Traceback (most recent call last)",
            "\u001b[0;32m<ipython-input-28-71ddc826dc0f>\u001b[0m in \u001b[0;36m<cell line: 0>\u001b[0;34m()\u001b[0m\n\u001b[0;32m----> 1\u001b[0;31m \u001b[0mtest5\u001b[0m\u001b[0;34m(\u001b[0m\u001b[0;34m)\u001b[0m\u001b[0;34m\u001b[0m\u001b[0;34m\u001b[0m\u001b[0m\n\u001b[0m",
            "\u001b[0;31mTypeError\u001b[0m: test5() missing 3 required positional arguments: 'a', 'b', and 'c'"
          ]
        }
      ]
    },
    {
      "cell_type": "code",
      "source": [
        "test5(2,4,7)"
      ],
      "metadata": {
        "colab": {
          "base_uri": "https://localhost:8080/"
        },
        "id": "oMbxBRb_oOiH",
        "outputId": "05b12d8f-4fc1-4baa-9150-48aa75f100f3"
      },
      "execution_count": 29,
      "outputs": [
        {
          "output_type": "execute_result",
          "data": {
            "text/plain": [
              "2.571428571428571"
            ]
          },
          "metadata": {},
          "execution_count": 29
        }
      ]
    },
    {
      "cell_type": "markdown",
      "source": [
        "Defining a new fucntion and trying to concatinate string, list and other types of variable, which help us to resue code again and again for various purpose"
      ],
      "metadata": {
        "id": "Kg-9CmSRqwQY"
      }
    },
    {
      "cell_type": "code",
      "source": [
        "def test7(a,b):\n",
        "  return a+b"
      ],
      "metadata": {
        "id": "fhE0cWkKrD8C"
      },
      "execution_count": 30,
      "outputs": []
    },
    {
      "cell_type": "code",
      "source": [
        "test7(3,4)"
      ],
      "metadata": {
        "colab": {
          "base_uri": "https://localhost:8080/"
        },
        "id": "WKJ7Usw0oZo2",
        "outputId": "5be60daa-5f15-4b24-d679-8dc343a083d5"
      },
      "execution_count": 31,
      "outputs": [
        {
          "output_type": "execute_result",
          "data": {
            "text/plain": [
              "7"
            ]
          },
          "metadata": {},
          "execution_count": 31
        }
      ]
    },
    {
      "cell_type": "code",
      "source": [
        "test7('agarwal','Jubin')"
      ],
      "metadata": {
        "colab": {
          "base_uri": "https://localhost:8080/",
          "height": 35
        },
        "id": "D2luDQ5HrMrn",
        "outputId": "797e753c-963f-4a07-959d-7674e11badca"
      },
      "execution_count": 32,
      "outputs": [
        {
          "output_type": "execute_result",
          "data": {
            "text/plain": [
              "'agarwalJubin'"
            ],
            "application/vnd.google.colaboratory.intrinsic+json": {
              "type": "string"
            }
          },
          "metadata": {},
          "execution_count": 32
        }
      ]
    },
    {
      "cell_type": "code",
      "source": [
        "test7([1,2,3,4,5,5],[5,6,7])"
      ],
      "metadata": {
        "colab": {
          "base_uri": "https://localhost:8080/"
        },
        "id": "UkWyxIaJrUXg",
        "outputId": "3412902a-a9d9-4147-cf57-bce08aa03a2a"
      },
      "execution_count": 34,
      "outputs": [
        {
          "output_type": "execute_result",
          "data": {
            "text/plain": [
              "[1, 2, 3, 4, 5, 5, 5, 6, 7]"
            ]
          },
          "metadata": {},
          "execution_count": 34
        }
      ]
    },
    {
      "cell_type": "markdown",
      "source": [
        "wriitng a fucntion to take out intergers and finally create a list and give the output"
      ],
      "metadata": {
        "id": "8qMZNJl9r4s4"
      }
    },
    {
      "cell_type": "code",
      "source": [
        "l=[1,2,3,3,4,'agarwal','kumar',[1,2,3,4,54,6]]"
      ],
      "metadata": {
        "id": "wsZKsr_orZsn"
      },
      "execution_count": 35,
      "outputs": []
    },
    {
      "cell_type": "code",
      "source": [
        "l1=[]\n",
        "for i in l:\n",
        "    if type(i)==int or type(i)==float:\n",
        "      l1.append(i)\n",
        ""
      ],
      "metadata": {
        "id": "mCpAJFoUsG5I"
      },
      "execution_count": 59,
      "outputs": []
    },
    {
      "cell_type": "code",
      "source": [
        "l1\n"
      ],
      "metadata": {
        "colab": {
          "base_uri": "https://localhost:8080/"
        },
        "id": "t2xPPugVsfcg",
        "outputId": "7ec14fbd-24e8-4fd3-fa39-2dfe215aa5b6"
      },
      "execution_count": 60,
      "outputs": [
        {
          "output_type": "execute_result",
          "data": {
            "text/plain": [
              "[1, 2, 3, 3, 4]"
            ]
          },
          "metadata": {},
          "execution_count": 60
        }
      ]
    },
    {
      "cell_type": "code",
      "source": [
        "def test8(l):\n",
        "    l1=[]\n",
        "    for i in l:\n",
        "      if type(i)==int or type(i)==float:\n",
        "        l1.append(i)\n",
        "    return l1"
      ],
      "metadata": {
        "id": "uHtVpLdhsf-y"
      },
      "execution_count": 61,
      "outputs": []
    },
    {
      "cell_type": "code",
      "source": [
        "test8(l)"
      ],
      "metadata": {
        "colab": {
          "base_uri": "https://localhost:8080/"
        },
        "id": "RNf1v5nYslg4",
        "outputId": "cf29ae8b-27bd-423c-e59d-ad5e96e55163"
      },
      "execution_count": 62,
      "outputs": [
        {
          "output_type": "execute_result",
          "data": {
            "text/plain": [
              "[1, 2, 3, 3, 4]"
            ]
          },
          "metadata": {},
          "execution_count": 62
        }
      ]
    },
    {
      "cell_type": "code",
      "source": [
        "l"
      ],
      "metadata": {
        "colab": {
          "base_uri": "https://localhost:8080/"
        },
        "id": "4tQvVWw0tGxn",
        "outputId": "319293af-2851-441c-f219-f788ab562a6a"
      },
      "execution_count": 63,
      "outputs": [
        {
          "output_type": "execute_result",
          "data": {
            "text/plain": [
              "[1, 2, 3, 3, 4, 'agarwal', 'kumar', [1, 2, 3, 4, 54, 6]]"
            ]
          },
          "metadata": {},
          "execution_count": 63
        }
      ]
    },
    {
      "cell_type": "code",
      "source": [
        "def test9(a):\n",
        " l=[]\n",
        " for i in a :\n",
        "    if type(i)== list:\n",
        "      for j in i:\n",
        "        l.append(j)\n",
        "    else:\n",
        "       if type(i)== int or type  (i) ==float:\n",
        "           l.append(i)\n",
        " return l\n",
        "\n"
      ],
      "metadata": {
        "id": "IPAPbRctt55Q"
      },
      "execution_count": 79,
      "outputs": []
    },
    {
      "cell_type": "code",
      "source": [
        "test9(l)"
      ],
      "metadata": {
        "colab": {
          "base_uri": "https://localhost:8080/"
        },
        "id": "F927khVmwtsx",
        "outputId": "f38accdc-e3ec-4fda-88f9-439dd7ab019f"
      },
      "execution_count": 81,
      "outputs": [
        {
          "output_type": "execute_result",
          "data": {
            "text/plain": [
              "[1, 2, 3, 3, 4, 1, 2, 3, 4, 54, 6]"
            ]
          },
          "metadata": {},
          "execution_count": 81
        }
      ]
    },
    {
      "cell_type": "code",
      "source": [
        "def test10(a):\n",
        "  ''' this is my fucntion to extract numeric data'''\n",
        "  l=[]\n",
        "  for i in a :\n",
        "    if type(i)== list:\n",
        "      for j in i:\n",
        "        l.append(j)\n",
        "    else:\n",
        "       if type(i)== int or type(i) ==float:\n",
        "           l.append(i)\n",
        "  return l\n",
        ""
      ],
      "metadata": {
        "id": "iaKhaVI1xJ3p"
      },
      "execution_count": 87,
      "outputs": []
    },
    {
      "cell_type": "markdown",
      "source": [
        "making paramters dynamic"
      ],
      "metadata": {
        "id": "sp3ToDwTya9J"
      }
    },
    {
      "cell_type": "code",
      "source": [
        "def test11(a,b):\n",
        "  return a+b\n",
        ""
      ],
      "metadata": {
        "id": "WHW2eHrxxzsZ"
      },
      "execution_count": 95,
      "outputs": []
    },
    {
      "cell_type": "markdown",
      "source": [
        "##args*: with * you can pass n nomber of element in a fucntion , which will be a tuple"
      ],
      "metadata": {
        "id": "vJHb_easzDEa"
      }
    },
    {
      "cell_type": "code",
      "source": [
        "def test12(*args):\n",
        "  return args"
      ],
      "metadata": {
        "id": "QZiEKycMygi5"
      },
      "execution_count": 97,
      "outputs": []
    },
    {
      "cell_type": "code",
      "source": [
        "type(test12())"
      ],
      "metadata": {
        "colab": {
          "base_uri": "https://localhost:8080/"
        },
        "id": "oMVpqpXdyo9q",
        "outputId": "57a288de-1364-4072-d4bb-6953728b65ba"
      },
      "execution_count": 98,
      "outputs": [
        {
          "output_type": "execute_result",
          "data": {
            "text/plain": [
              "tuple"
            ]
          },
          "metadata": {},
          "execution_count": 98
        }
      ]
    },
    {
      "cell_type": "code",
      "source": [
        "test12(1,2,3)"
      ],
      "metadata": {
        "colab": {
          "base_uri": "https://localhost:8080/"
        },
        "id": "UjsIhWgMywiR",
        "outputId": "286fc556-047f-4b58-c3e6-cef77bb762d4"
      },
      "execution_count": 99,
      "outputs": [
        {
          "output_type": "execute_result",
          "data": {
            "text/plain": [
              "(1, 2, 3)"
            ]
          },
          "metadata": {},
          "execution_count": 99
        }
      ]
    },
    {
      "cell_type": "code",
      "source": [
        "test12(1,2,3,'sudh','Kumar',[1,2,3,4])"
      ],
      "metadata": {
        "colab": {
          "base_uri": "https://localhost:8080/"
        },
        "id": "DK4cQ2rMy2rS",
        "outputId": "85931520-3d48-4b57-c1c5-6f53a439b9c0"
      },
      "execution_count": 102,
      "outputs": [
        {
          "output_type": "execute_result",
          "data": {
            "text/plain": [
              "(1, 2, 3, 'sudh', 'Kumar', [1, 2, 3, 4])"
            ]
          },
          "metadata": {},
          "execution_count": 102
        }
      ]
    },
    {
      "cell_type": "code",
      "source": [
        ""
      ],
      "metadata": {
        "id": "BAE8ETKbfjyB"
      },
      "execution_count": null,
      "outputs": []
    },
    {
      "cell_type": "code",
      "source": [
        "\n",
        "\n",
        ""
      ],
      "metadata": {
        "id": "pYSr1vL9y8vR"
      },
      "execution_count": null,
      "outputs": []
    }
  ]
}