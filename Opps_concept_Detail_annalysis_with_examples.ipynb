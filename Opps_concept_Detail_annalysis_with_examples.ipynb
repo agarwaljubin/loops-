{
  "nbformat": 4,
  "nbformat_minor": 0,
  "metadata": {
    "colab": {
      "provenance": [],
      "authorship_tag": "ABX9TyMcxE1H9zg3EZzKtmBzktpy",
      "include_colab_link": true
    },
    "kernelspec": {
      "name": "python3",
      "display_name": "Python 3"
    },
    "language_info": {
      "name": "python"
    }
  },
  "cells": [
    {
      "cell_type": "markdown",
      "metadata": {
        "id": "view-in-github",
        "colab_type": "text"
      },
      "source": [
        "<a href=\"https://colab.research.google.com/github/agarwaljubin/loops-/blob/main/Opps_concept_Detail_annalysis_with_examples.ipynb\" target=\"_parent\"><img src=\"https://colab.research.google.com/assets/colab-badge.svg\" alt=\"Open In Colab\"/></a>"
      ]
    },
    {
      "cell_type": "markdown",
      "source": [
        ">>class practise-OOps object oriented programming"
      ],
      "metadata": {
        "id": "8VJTcFk_G5Mp"
      }
    },
    {
      "cell_type": "code",
      "source": [],
      "metadata": {
        "id": "SP15cYk2G0cg"
      },
      "execution_count": null,
      "outputs": []
    },
    {
      "cell_type": "markdown",
      "source": [],
      "metadata": {
        "id": "fquKn-R0Gz-d"
      }
    },
    {
      "cell_type": "code",
      "source": [
        "a=1"
      ],
      "metadata": {
        "id": "R8OSezf_GzMg"
      },
      "execution_count": null,
      "outputs": []
    },
    {
      "cell_type": "code",
      "source": [
        "print(type(a))\n"
      ],
      "metadata": {
        "colab": {
          "base_uri": "https://localhost:8080/"
        },
        "id": "gf8pz8JcLjNp",
        "outputId": "32c27d43-9499-4bb2-f18b-2a583512e324"
      },
      "execution_count": null,
      "outputs": [
        {
          "output_type": "stream",
          "name": "stdout",
          "text": [
            "<class 'int'>\n"
          ]
        }
      ]
    },
    {
      "cell_type": "markdown",
      "source": [],
      "metadata": {
        "id": "hMBjFp9OKWrb"
      }
    },
    {
      "cell_type": "code",
      "execution_count": null,
      "metadata": {
        "colab": {
          "base_uri": "https://localhost:8080/"
        },
        "id": "P2t3p8xDGx4J",
        "outputId": "c8e91f0b-8b5e-4417-f4f8-c658bde3143a"
      },
      "outputs": [
        {
          "output_type": "stream",
          "name": "stdout",
          "text": [
            "<class 'str'>\n"
          ]
        }
      ],
      "source": [
        "print(type(\"pwskills\"))"
      ]
    },
    {
      "cell_type": "code",
      "source": [
        "class test:\n",
        "  pass\n"
      ],
      "metadata": {
        "id": "vG9mvwszNFz2"
      },
      "execution_count": null,
      "outputs": []
    },
    {
      "cell_type": "code",
      "source": [
        "a= test()"
      ],
      "metadata": {
        "id": "u2ccizvXQ3qn"
      },
      "execution_count": null,
      "outputs": []
    },
    {
      "cell_type": "code",
      "source": [
        "type(a)"
      ],
      "metadata": {
        "colab": {
          "base_uri": "https://localhost:8080/"
        },
        "id": "f3hDoyAwSq1d",
        "outputId": "e8a74be8-d25f-47cb-ffc4-8480c2f40fa4"
      },
      "execution_count": null,
      "outputs": [
        {
          "output_type": "execute_result",
          "data": {
            "text/plain": [
              "__main__.test"
            ]
          },
          "metadata": {},
          "execution_count": 10
        }
      ]
    },
    {
      "cell_type": "code",
      "source": [
        "print(type(a))"
      ],
      "metadata": {
        "colab": {
          "base_uri": "https://localhost:8080/"
        },
        "id": "-FzGVfowSs-N",
        "outputId": "caef8729-3f8d-495b-9d93-75c6f920effc"
      },
      "execution_count": null,
      "outputs": [
        {
          "output_type": "stream",
          "name": "stdout",
          "text": [
            "<class '__main__.test'>\n"
          ]
        }
      ]
    },
    {
      "cell_type": "markdown",
      "source": [
        ">>Defining a class pwskills\n"
      ],
      "metadata": {
        "id": "DgX0GN8rUI_-"
      }
    },
    {
      "cell_type": "code",
      "source": [
        "class pwskills:\n",
        "  def welcome_msg(self):\n",
        "    print(\"welcome to pwskills\")"
      ],
      "metadata": {
        "id": "XfvKqJVfSv2c"
      },
      "execution_count": null,
      "outputs": []
    },
    {
      "cell_type": "markdown",
      "source": [
        "Defining a variable or object or instance for >>jubin=pwskills()"
      ],
      "metadata": {
        "id": "Ac3UalKKULgd"
      }
    },
    {
      "cell_type": "code",
      "source": [
        "Jubin= pwskills()"
      ],
      "metadata": {
        "id": "HENpvbEHT-UW"
      },
      "execution_count": null,
      "outputs": []
    },
    {
      "cell_type": "markdown",
      "source": [
        "Variable Jubin belongs to class pwskills"
      ],
      "metadata": {
        "id": "nkDVIaUIUgMk"
      }
    },
    {
      "cell_type": "code",
      "source": [
        "type(Jubin)"
      ],
      "metadata": {
        "colab": {
          "base_uri": "https://localhost:8080/"
        },
        "id": "mRpUn5oMUCg0",
        "outputId": "4ce107c1-19c7-4857-f8c3-0a7dc8b97db7"
      },
      "execution_count": null,
      "outputs": [
        {
          "output_type": "execute_result",
          "data": {
            "text/plain": [
              "__main__.pwskills"
            ]
          },
          "metadata": {},
          "execution_count": 31
        }
      ]
    },
    {
      "cell_type": "markdown",
      "source": [
        "The error specifies that you have not bind the method with the class, for that reason we use the the fucntion ..self to bind the method to class"
      ],
      "metadata": {
        "id": "q0j-Ptd4U4QF"
      }
    },
    {
      "cell_type": "code",
      "source": [],
      "metadata": {
        "id": "nqO6Dvd4U_bV"
      },
      "execution_count": null,
      "outputs": []
    },
    {
      "cell_type": "code",
      "source": [
        "Jubin.welcome_msg()"
      ],
      "metadata": {
        "colab": {
          "base_uri": "https://localhost:8080/"
        },
        "id": "pH9ZAe-TUvOY",
        "outputId": "553044f3-8bfe-43cc-ead9-5d84339f289d"
      },
      "execution_count": null,
      "outputs": [
        {
          "output_type": "stream",
          "name": "stdout",
          "text": [
            "welcome to pwskills\n"
          ]
        }
      ]
    },
    {
      "cell_type": "code",
      "source": [
        "print(a)"
      ],
      "metadata": {
        "colab": {
          "base_uri": "https://localhost:8080/"
        },
        "id": "649tlhpJUDMF",
        "outputId": "299469cd-2b2d-48d9-c55a-a2a18b3307b4"
      },
      "execution_count": null,
      "outputs": [
        {
          "output_type": "stream",
          "name": "stdout",
          "text": [
            "<__main__.pwskills object at 0x7dee54831710>\n"
          ]
        }
      ]
    },
    {
      "cell_type": "code",
      "source": [
        "Jubin.welcome_msg()"
      ],
      "metadata": {
        "colab": {
          "base_uri": "https://localhost:8080/"
        },
        "id": "e59mquLNUFPE",
        "outputId": "1c1965cd-e36f-4522-f10b-f060808537a5"
      },
      "execution_count": null,
      "outputs": [
        {
          "output_type": "stream",
          "name": "stdout",
          "text": [
            "welcome to pwskills\n"
          ]
        }
      ]
    },
    {
      "cell_type": "code",
      "source": [
        "gaurav= pwskills()"
      ],
      "metadata": {
        "id": "csE1PFg0Wboz"
      },
      "execution_count": null,
      "outputs": []
    },
    {
      "cell_type": "code",
      "source": [
        "gaurav.welcome_msg()"
      ],
      "metadata": {
        "colab": {
          "base_uri": "https://localhost:8080/"
        },
        "id": "TraVrNNNWuv7",
        "outputId": "546b8fa8-f401-4c6e-97ac-7c9f98a69a70"
      },
      "execution_count": null,
      "outputs": [
        {
          "output_type": "stream",
          "name": "stdout",
          "text": [
            "welcome to pwskills\n"
          ]
        }
      ]
    },
    {
      "cell_type": "markdown",
      "source": [
        ">>how to pass details in the class-__init__ is a inbuilt fucntion , used for passing data inside the class"
      ],
      "metadata": {
        "id": "vvrPSTmTW8D0"
      }
    },
    {
      "cell_type": "code",
      "source": [
        "class pwskills1:\n",
        "  def __init__(self,phone_number,email_id,student_id):\n",
        "    self.phone_number=phone_number\n",
        "    self.email_id=email_id\n",
        "    self.student_id=student_id\n",
        "\n",
        "  def return_student_details(self):\n",
        "      return self.student_id,self.phone_number,self.email_id"
      ],
      "metadata": {
        "id": "4j_AnboMW0Li"
      },
      "execution_count": null,
      "outputs": []
    },
    {
      "cell_type": "code",
      "source": [],
      "metadata": {
        "id": "-fZXmBzTYf37"
      },
      "execution_count": null,
      "outputs": []
    },
    {
      "cell_type": "code",
      "source": [
        "jubin = pwskills1(734537547832, \"jubinagrawal@gmail.com\", 202)"
      ],
      "metadata": {
        "id": "f02VlxtoZbGc"
      },
      "execution_count": null,
      "outputs": []
    },
    {
      "cell_type": "code",
      "source": [
        "jubin.return_student_details()"
      ],
      "metadata": {
        "colab": {
          "base_uri": "https://localhost:8080/"
        },
        "id": "G0TySN1JZyOL",
        "outputId": "62378e4b-b3f7-445d-c94d-4847617cadbc"
      },
      "execution_count": null,
      "outputs": [
        {
          "output_type": "execute_result",
          "data": {
            "text/plain": [
              "(202, 734537547832, 'jubinagrawal@gmail.com')"
            ]
          },
          "metadata": {},
          "execution_count": 57
        }
      ]
    },
    {
      "cell_type": "code",
      "source": [
        "jubin.email_id"
      ],
      "metadata": {
        "colab": {
          "base_uri": "https://localhost:8080/",
          "height": 35
        },
        "id": "0OEmgHoScwXU",
        "outputId": "42b62b29-fa2b-46cb-8af1-bf60293364ba"
      },
      "execution_count": null,
      "outputs": [
        {
          "output_type": "execute_result",
          "data": {
            "text/plain": [
              "'jubinagrawal@gmail.com'"
            ],
            "application/vnd.google.colaboratory.intrinsic+json": {
              "type": "string"
            }
          },
          "metadata": {},
          "execution_count": 71
        }
      ]
    },
    {
      "cell_type": "code",
      "source": [
        "gaurav=  pwskills1(74657578,\"gaurav@gmail.com\",203)"
      ],
      "metadata": {
        "id": "1EMzT2CMZ9Ud"
      },
      "execution_count": null,
      "outputs": []
    },
    {
      "cell_type": "code",
      "source": [
        "gaurav.return_student_details()"
      ],
      "metadata": {
        "colab": {
          "base_uri": "https://localhost:8080/"
        },
        "id": "pRMW55EDbSzM",
        "outputId": "c7b49708-9922-42f3-84e2-d1cfbad6a646"
      },
      "execution_count": null,
      "outputs": [
        {
          "output_type": "execute_result",
          "data": {
            "text/plain": [
              "(203, 74657578, 'gaurav@gmail.com')"
            ]
          },
          "metadata": {},
          "execution_count": 64
        }
      ]
    },
    {
      "cell_type": "markdown",
      "source": [
        ">>Why we use self-self bascially act as a pointer that link the object , vaiable or method to the class"
      ],
      "metadata": {
        "id": "ZD_JyQ78cQaE"
      }
    },
    {
      "cell_type": "code",
      "source": [
        "class pwskills2:\n",
        "  def __init__(self,phone_number,email_id,student_id):\n",
        "    self.phone_number1=phone_number\n",
        "    self.email_id1=email_id\n",
        "    self.student_id1=student_id\n",
        "\n",
        "  def return_student_details(self):\n",
        "      return self.student_id1,self.phone_number1,self.email_id1"
      ],
      "metadata": {
        "id": "ZxTWMNfqbZjr"
      },
      "execution_count": null,
      "outputs": []
    },
    {
      "cell_type": "code",
      "source": [
        "sudh= pwskills2(432423423,\"sudh@gmail.com\",101)"
      ],
      "metadata": {
        "id": "MwBw_NNZcVN7"
      },
      "execution_count": null,
      "outputs": []
    },
    {
      "cell_type": "code",
      "source": [
        "sudh.phone_number1"
      ],
      "metadata": {
        "colab": {
          "base_uri": "https://localhost:8080/"
        },
        "id": "hSffu78Kca2k",
        "outputId": "1e683c34-751e-423c-a883-86cf52f38e53"
      },
      "execution_count": null,
      "outputs": [
        {
          "output_type": "execute_result",
          "data": {
            "text/plain": [
              "432423423"
            ]
          },
          "metadata": {},
          "execution_count": 80
        }
      ]
    },
    {
      "cell_type": "code",
      "source": [
        "sudh.email_id1"
      ],
      "metadata": {
        "colab": {
          "base_uri": "https://localhost:8080/",
          "height": 35
        },
        "id": "GPtJGrrBcbzD",
        "outputId": "f5a9412f-7dec-41d3-8edb-e621402a34d4"
      },
      "execution_count": null,
      "outputs": [
        {
          "output_type": "execute_result",
          "data": {
            "text/plain": [
              "'sudh@gmail.com'"
            ],
            "application/vnd.google.colaboratory.intrinsic+json": {
              "type": "string"
            }
          },
          "metadata": {},
          "execution_count": 81
        }
      ]
    },
    {
      "cell_type": "code",
      "source": [
        "sudh.return_student_details()"
      ],
      "metadata": {
        "colab": {
          "base_uri": "https://localhost:8080/"
        },
        "id": "r_xBt9cidSjz",
        "outputId": "98302905-52c0-4b40-90d6-653631201b95"
      },
      "execution_count": null,
      "outputs": [
        {
          "output_type": "execute_result",
          "data": {
            "text/plain": [
              "(101, 432423423, 'sudh@gmail.com')"
            ]
          },
          "metadata": {},
          "execution_count": 86
        }
      ]
    },
    {
      "cell_type": "markdown",
      "source": [],
      "metadata": {
        "id": "zk9Zp8gifLoU"
      }
    },
    {
      "cell_type": "markdown",
      "source": [
        ">>self is not a defined keyword or a reserved keyword  in python and thats why can be used with other names also"
      ],
      "metadata": {
        "id": "s4djJv2xfWer"
      }
    },
    {
      "cell_type": "code",
      "source": [
        "class pwskills2:\n",
        "  def __init__(delta,phone_number,email_id,student_id):\n",
        "    delta.phone_number1=phone_number\n",
        "    delta.email_id1=email_id\n",
        "    delta.student_id1=student_id\n",
        "\n",
        "  def return_student_details(delta):\n",
        "      return delta.student_id1,delta.phone_number1,delta.email_id1"
      ],
      "metadata": {
        "id": "X8x1ezqqeQIz"
      },
      "execution_count": null,
      "outputs": []
    },
    {
      "cell_type": "code",
      "source": [
        "rohan= pwskills2(432423423,\"rohan@gmail.com\",101)"
      ],
      "metadata": {
        "id": "twa0dXKHfnab"
      },
      "execution_count": null,
      "outputs": []
    },
    {
      "cell_type": "code",
      "source": [
        "rohan.email_id1"
      ],
      "metadata": {
        "colab": {
          "base_uri": "https://localhost:8080/",
          "height": 35
        },
        "id": "MpvpMP8jfuqb",
        "outputId": "34945b90-15d9-4f87-d3a5-bac74a858613"
      },
      "execution_count": null,
      "outputs": [
        {
          "output_type": "execute_result",
          "data": {
            "text/plain": [
              "'rohan@gmail.com'"
            ],
            "application/vnd.google.colaboratory.intrinsic+json": {
              "type": "string"
            }
          },
          "metadata": {},
          "execution_count": 95
        }
      ]
    },
    {
      "cell_type": "code",
      "source": [
        "rohan.return_student_details()"
      ],
      "metadata": {
        "id": "d189qjVEf51r",
        "outputId": "82790c6c-19b9-4cc4-9cd6-3792fc4fc997",
        "colab": {
          "base_uri": "https://localhost:8080/"
        }
      },
      "execution_count": null,
      "outputs": [
        {
          "output_type": "execute_result",
          "data": {
            "text/plain": [
              "(101, 432423423, 'rohan@gmail.com')"
            ]
          },
          "metadata": {},
          "execution_count": 97
        }
      ]
    },
    {
      "cell_type": "markdown",
      "source": [
        ">> Polymorphism- behavior of fucntion is not changing , if passed with multiple data such as string ,list"
      ],
      "metadata": {
        "id": "erTC0lKhft-b"
      }
    },
    {
      "cell_type": "code",
      "source": [
        "def test(a,b):\n",
        "  return a+b"
      ],
      "metadata": {
        "id": "HBpGtPLEMEUJ"
      },
      "execution_count": 98,
      "outputs": []
    },
    {
      "cell_type": "code",
      "source": [
        "test(3,2)"
      ],
      "metadata": {
        "colab": {
          "base_uri": "https://localhost:8080/"
        },
        "id": "CiPqi0CcMWrz",
        "outputId": "a265561f-349b-4140-9181-1a0e29fe2f5d"
      },
      "execution_count": 99,
      "outputs": [
        {
          "output_type": "execute_result",
          "data": {
            "text/plain": [
              "5"
            ]
          },
          "metadata": {},
          "execution_count": 99
        }
      ]
    },
    {
      "cell_type": "code",
      "source": [
        "test(\"sudh\",\"kumar\")"
      ],
      "metadata": {
        "colab": {
          "base_uri": "https://localhost:8080/",
          "height": 35
        },
        "id": "ioIjZv_SMYbR",
        "outputId": "f73463f9-e75a-4524-d0bf-d7d3f803099a"
      },
      "execution_count": 100,
      "outputs": [
        {
          "output_type": "execute_result",
          "data": {
            "text/plain": [
              "'sudhkumar'"
            ],
            "application/vnd.google.colaboratory.intrinsic+json": {
              "type": "string"
            }
          },
          "metadata": {},
          "execution_count": 100
        }
      ]
    },
    {
      "cell_type": "code",
      "source": [
        " test([2,3,4,5,6],[4,4,4,5,6])"
      ],
      "metadata": {
        "colab": {
          "base_uri": "https://localhost:8080/"
        },
        "id": "3Z7ps7_YMh15",
        "outputId": "4d84e53e-e215-473d-a247-6a77b6c6d92c"
      },
      "execution_count": 102,
      "outputs": [
        {
          "output_type": "execute_result",
          "data": {
            "text/plain": [
              "[2, 3, 4, 5, 6, 4, 4, 4, 5, 6]"
            ]
          },
          "metadata": {},
          "execution_count": 102
        }
      ]
    },
    {
      "cell_type": "markdown",
      "source": [
        "polymorphism in class"
      ],
      "metadata": {
        "id": "MSRi3t7qR5d2"
      }
    },
    {
      "cell_type": "markdown",
      "source": [
        "creating 1st class"
      ],
      "metadata": {
        "id": "09Dw0qfvSmXJ"
      }
    },
    {
      "cell_type": "code",
      "source": [
        "class data_science:\n",
        "    def syllabus(self):\n",
        "        print(\"this is my syllabus for data science\")"
      ],
      "metadata": {
        "id": "wlmtEW-nRmcW"
      },
      "execution_count": 104,
      "outputs": []
    },
    {
      "cell_type": "markdown",
      "source": [
        "creating 2nd class"
      ],
      "metadata": {
        "id": "avbDu2qiSpG1"
      }
    },
    {
      "cell_type": "code",
      "source": [
        "class web_dev:\n",
        "\n",
        "    def syllabus(self):\n",
        "        print(\"this is my sylabus for web_dev\")"
      ],
      "metadata": {
        "id": "Xs9g6QUgR9r9"
      },
      "execution_count": 105,
      "outputs": []
    },
    {
      "cell_type": "markdown",
      "source": [
        "creating an extra fucntion out of the class"
      ],
      "metadata": {
        "id": "HrE7jQICSq7e"
      }
    },
    {
      "cell_type": "code",
      "source": [
        "def class_parcer(class_obj):\n",
        "  for i in class_obj:\n",
        "    i.syllabus()"
      ],
      "metadata": {
        "id": "IWLAILoKSWcW"
      },
      "execution_count": 107,
      "outputs": []
    },
    {
      "cell_type": "markdown",
      "source": [
        "creating two object for both of the class but external"
      ],
      "metadata": {
        "id": "cdOyEAwLTNFV"
      }
    },
    {
      "cell_type": "code",
      "source": [
        "data_science= data_science()"
      ],
      "metadata": {
        "id": "krL0MvVTS0Vt"
      },
      "execution_count": 108,
      "outputs": []
    },
    {
      "cell_type": "code",
      "source": [
        "web_de= web_dev()"
      ],
      "metadata": {
        "id": "aC8m11D5TQQU"
      },
      "execution_count": 109,
      "outputs": []
    },
    {
      "cell_type": "markdown",
      "source": [
        "putting both the object in class_obj"
      ],
      "metadata": {
        "id": "gPJeNEOlTiyW"
      }
    },
    {
      "cell_type": "code",
      "source": [
        "class_obj=[data_science,web_de]"
      ],
      "metadata": {
        "id": "YK5RO6GJTVSW"
      },
      "execution_count": 110,
      "outputs": []
    },
    {
      "cell_type": "code",
      "source": [
        "class_parcer(class_obj)"
      ],
      "metadata": {
        "colab": {
          "base_uri": "https://localhost:8080/"
        },
        "id": "9cdKhRGMTqhu",
        "outputId": "40c02b4f-6661-4cb9-b668-40aa5b8f0c1a"
      },
      "execution_count": 111,
      "outputs": [
        {
          "output_type": "stream",
          "name": "stdout",
          "text": [
            "this is my syllabus for data science\n",
            "this is my sylabus for web_dev\n"
          ]
        }
      ]
    },
    {
      "cell_type": "markdown",
      "source": [
        ">>**encapsulation**"
      ],
      "metadata": {
        "id": "plRnQBgYdgJf"
      }
    },
    {
      "cell_type": "code",
      "source": [
        "class test:\n",
        "\n",
        "  def __init__(self,a,b):\n",
        "    self.a= a\n",
        "    self.b=b"
      ],
      "metadata": {
        "id": "16dNkHr-Tv8s"
      },
      "execution_count": 113,
      "outputs": []
    },
    {
      "cell_type": "code",
      "source": [
        "t= test(23,34)"
      ],
      "metadata": {
        "id": "Q1VUY8NId6vZ"
      },
      "execution_count": 114,
      "outputs": []
    },
    {
      "cell_type": "code",
      "source": [
        "t.a=2345"
      ],
      "metadata": {
        "id": "6QE8y5dod_fs"
      },
      "execution_count": 115,
      "outputs": []
    },
    {
      "cell_type": "code",
      "source": [
        "t"
      ],
      "metadata": {
        "colab": {
          "base_uri": "https://localhost:8080/"
        },
        "id": "bDM9gXTveVrs",
        "outputId": "9c012803-2d34-4587-9e43-956941322056"
      },
      "execution_count": 116,
      "outputs": [
        {
          "output_type": "execute_result",
          "data": {
            "text/plain": [
              "<__main__.test at 0x7dee31c87010>"
            ]
          },
          "metadata": {},
          "execution_count": 116
        }
      ]
    },
    {
      "cell_type": "code",
      "source": [
        "t.a"
      ],
      "metadata": {
        "colab": {
          "base_uri": "https://localhost:8080/"
        },
        "id": "Jl_EP2NFeV_K",
        "outputId": "d3847d65-5062-4ba3-fbe7-fa0b96ef3566"
      },
      "execution_count": 117,
      "outputs": [
        {
          "output_type": "execute_result",
          "data": {
            "text/plain": [
              "2345"
            ]
          },
          "metadata": {},
          "execution_count": 117
        }
      ]
    },
    {
      "cell_type": "code",
      "source": [
        "t.b=574678"
      ],
      "metadata": {
        "id": "o-s8ZUB9eW5z"
      },
      "execution_count": 119,
      "outputs": []
    },
    {
      "cell_type": "code",
      "source": [
        "t.b"
      ],
      "metadata": {
        "colab": {
          "base_uri": "https://localhost:8080/"
        },
        "id": "F_ZSgcSoekPj",
        "outputId": "97bcdafc-63e4-4e70-dc36-3e911c86a7cb"
      },
      "execution_count": 120,
      "outputs": [
        {
          "output_type": "execute_result",
          "data": {
            "text/plain": [
              "574678"
            ]
          },
          "metadata": {},
          "execution_count": 120
        }
      ]
    },
    {
      "cell_type": "markdown",
      "source": [
        "self.__year- here__ double underscore will hide the object and thus will be not visible to the **user**"
      ],
      "metadata": {
        "id": "Eyh_UJYDf99L"
      }
    },
    {
      "cell_type": "code",
      "source": [
        "class car:\n",
        "  def __init__(self,year,make,model,speed):\n",
        "    self.__year=year\n",
        "    self.__make=make\n",
        "    self.__model=model\n",
        "    self.__speed=0\n",
        "\n",
        "  def set_speed(self,speed):\n",
        "      self.__speed=0 if speed <0 else speed\n",
        "  def get_speed(self):\n",
        "      return self.__speed"
      ],
      "metadata": {
        "id": "NTozbBEfemHD"
      },
      "execution_count": 142,
      "outputs": []
    },
    {
      "cell_type": "code",
      "source": [
        "c=car(2021,\"toyata\",\"innova\",12)"
      ],
      "metadata": {
        "id": "v5_nLHvugPsO"
      },
      "execution_count": 144,
      "outputs": []
    },
    {
      "cell_type": "markdown",
      "source": [
        ">here we see that object can not idenitfy the attribut mentioned inside the method and thus cannot be accessed"
      ],
      "metadata": {
        "id": "FulpXyyfgswE"
      }
    },
    {
      "cell_type": "code",
      "source": [
        "c._car__year"
      ],
      "metadata": {
        "colab": {
          "base_uri": "https://localhost:8080/"
        },
        "id": "N5mksAzqgWsc",
        "outputId": "171c8bfb-a406-40d0-ac10-208b6b813950"
      },
      "execution_count": 133,
      "outputs": [
        {
          "output_type": "execute_result",
          "data": {
            "text/plain": [
              "2021"
            ]
          },
          "metadata": {},
          "execution_count": 133
        }
      ]
    },
    {
      "cell_type": "code",
      "source": [
        "c._car__make"
      ],
      "metadata": {
        "colab": {
          "base_uri": "https://localhost:8080/",
          "height": 35
        },
        "id": "dYpySB3Tgd3D",
        "outputId": "b2f1b5ff-618b-4dfc-bcbc-9132d9d23bb2"
      },
      "execution_count": 134,
      "outputs": [
        {
          "output_type": "execute_result",
          "data": {
            "text/plain": [
              "'toyata'"
            ],
            "application/vnd.google.colaboratory.intrinsic+json": {
              "type": "string"
            }
          },
          "metadata": {},
          "execution_count": 134
        }
      ]
    },
    {
      "cell_type": "code",
      "source": [
        "c._car__model"
      ],
      "metadata": {
        "colab": {
          "base_uri": "https://localhost:8080/",
          "height": 35
        },
        "id": "KS0WpnN1hK2C",
        "outputId": "1246188e-235d-4dc5-93f3-ca87b0214b8e"
      },
      "execution_count": 135,
      "outputs": [
        {
          "output_type": "execute_result",
          "data": {
            "text/plain": [
              "'innova'"
            ],
            "application/vnd.google.colaboratory.intrinsic+json": {
              "type": "string"
            }
          },
          "metadata": {},
          "execution_count": 135
        }
      ]
    },
    {
      "cell_type": "code",
      "source": [
        "c._car__make"
      ],
      "metadata": {
        "colab": {
          "base_uri": "https://localhost:8080/",
          "height": 35
        },
        "id": "VhXy8nRBhMzL",
        "outputId": "6ed91eac-d221-4e88-c8ae-47415b9ffc7a"
      },
      "execution_count": 136,
      "outputs": [
        {
          "output_type": "execute_result",
          "data": {
            "text/plain": [
              "'toyata'"
            ],
            "application/vnd.google.colaboratory.intrinsic+json": {
              "type": "string"
            }
          },
          "metadata": {},
          "execution_count": 136
        }
      ]
    },
    {
      "cell_type": "code",
      "source": [
        "c.get_speed()"
      ],
      "metadata": {
        "colab": {
          "base_uri": "https://localhost:8080/"
        },
        "id": "xsQxgRVvhOqd",
        "outputId": "b53d7ff3-7067-4a4b-cdd3-62d3a6d9cfad"
      },
      "execution_count": 145,
      "outputs": [
        {
          "output_type": "execute_result",
          "data": {
            "text/plain": [
              "0"
            ]
          },
          "metadata": {},
          "execution_count": 145
        }
      ]
    },
    {
      "cell_type": "code",
      "source": [
        "c.set_speed(-3245)"
      ],
      "metadata": {
        "id": "eGAQ30QAkLon"
      },
      "execution_count": 146,
      "outputs": []
    },
    {
      "cell_type": "code",
      "source": [
        "c.set_speed(3245)"
      ],
      "metadata": {
        "id": "y-diua8TkP5W"
      },
      "execution_count": 147,
      "outputs": []
    },
    {
      "cell_type": "code",
      "source": [
        "c.get_speed()"
      ],
      "metadata": {
        "colab": {
          "base_uri": "https://localhost:8080/"
        },
        "id": "lkLg61u8kTM-",
        "outputId": "bea23665-a6d5-4cb0-aeb1-b85f0f23f5ae"
      },
      "execution_count": 148,
      "outputs": [
        {
          "output_type": "execute_result",
          "data": {
            "text/plain": [
              "3245"
            ]
          },
          "metadata": {},
          "execution_count": 148
        }
      ]
    },
    {
      "cell_type": "code",
      "source": [
        "class bank_account:\n",
        "  def __init__(self,balance):\n",
        "    self.__balance=balance\n",
        "\n",
        "  def deposit(self,amount):\n",
        "    self.__balance=self.__balance+amount\n",
        "\n",
        "  def withdraw(self,amount):\n",
        "      if self.__balance>=amount:\n",
        "        self.__balance=self.__balance-amount\n",
        "        return True\n",
        "      else:\n",
        "        return False\n",
        "\n",
        "  def get_balance(self):\n",
        "      return self.__balance\n",
        ""
      ],
      "metadata": {
        "id": "HPRTxIW1kULX"
      },
      "execution_count": 149,
      "outputs": []
    },
    {
      "cell_type": "code",
      "source": [
        "sudh= bank_account(100)"
      ],
      "metadata": {
        "id": "MpvKEjpZnL_o"
      },
      "execution_count": 152,
      "outputs": []
    },
    {
      "cell_type": "code",
      "source": [
        "sudh.get_balance()"
      ],
      "metadata": {
        "colab": {
          "base_uri": "https://localhost:8080/"
        },
        "id": "1PoIdJUtnOr2",
        "outputId": "107eccd7-e397-489b-ccf5-c1ee0a004ee9"
      },
      "execution_count": 153,
      "outputs": [
        {
          "output_type": "execute_result",
          "data": {
            "text/plain": [
              "100"
            ]
          },
          "metadata": {},
          "execution_count": 153
        }
      ]
    },
    {
      "cell_type": "code",
      "source": [
        "sudh.deposit(5000)"
      ],
      "metadata": {
        "id": "i9u_buYrnX4A"
      },
      "execution_count": 154,
      "outputs": []
    },
    {
      "cell_type": "code",
      "source": [
        "sudh.get_balance()"
      ],
      "metadata": {
        "colab": {
          "base_uri": "https://localhost:8080/"
        },
        "id": "_SNizfn9nbAW",
        "outputId": "2a3da2e0-bd75-424b-d56c-25e11592971b"
      },
      "execution_count": 155,
      "outputs": [
        {
          "output_type": "execute_result",
          "data": {
            "text/plain": [
              "5100"
            ]
          },
          "metadata": {},
          "execution_count": 155
        }
      ]
    },
    {
      "cell_type": "code",
      "source": [
        "sudh.withdraw(2000)"
      ],
      "metadata": {
        "colab": {
          "base_uri": "https://localhost:8080/"
        },
        "id": "6ISM6CifnduN",
        "outputId": "d402ba0c-9bb9-4594-b764-38a06abab68d"
      },
      "execution_count": 156,
      "outputs": [
        {
          "output_type": "execute_result",
          "data": {
            "text/plain": [
              "True"
            ]
          },
          "metadata": {},
          "execution_count": 156
        }
      ]
    },
    {
      "cell_type": "code",
      "source": [
        "sudh.get_balance()"
      ],
      "metadata": {
        "colab": {
          "base_uri": "https://localhost:8080/"
        },
        "id": "FioaG2h9oTeP",
        "outputId": "da0d1b16-fba2-4d13-d8a3-7339fb442e8e"
      },
      "execution_count": 157,
      "outputs": [
        {
          "output_type": "execute_result",
          "data": {
            "text/plain": [
              "3100"
            ]
          },
          "metadata": {},
          "execution_count": 157
        }
      ]
    },
    {
      "cell_type": "code",
      "source": [
        "sudh.withdraw(7000)"
      ],
      "metadata": {
        "colab": {
          "base_uri": "https://localhost:8080/"
        },
        "id": "7punzeXgoY-m",
        "outputId": "acb4d4c7-5311-43ac-8106-918b842a1670"
      },
      "execution_count": 158,
      "outputs": [
        {
          "output_type": "execute_result",
          "data": {
            "text/plain": [
              "False"
            ]
          },
          "metadata": {},
          "execution_count": 158
        }
      ]
    },
    {
      "cell_type": "code",
      "source": [
        "sudh.withdraw(3100)"
      ],
      "metadata": {
        "colab": {
          "base_uri": "https://localhost:8080/"
        },
        "id": "DlDixfokogU3",
        "outputId": "89e18b29-d778-465c-ab88-8d7614e85b61"
      },
      "execution_count": 159,
      "outputs": [
        {
          "output_type": "execute_result",
          "data": {
            "text/plain": [
              "True"
            ]
          },
          "metadata": {},
          "execution_count": 159
        }
      ]
    },
    {
      "cell_type": "code",
      "source": [
        "sudh.get_balance()"
      ],
      "metadata": {
        "colab": {
          "base_uri": "https://localhost:8080/"
        },
        "id": "12PUeZqhoqcO",
        "outputId": "c6e4d527-edc6-4c7b-db3d-6978037136d2"
      },
      "execution_count": 161,
      "outputs": [
        {
          "output_type": "execute_result",
          "data": {
            "text/plain": [
              "0"
            ]
          },
          "metadata": {},
          "execution_count": 161
        }
      ]
    },
    {
      "cell_type": "markdown",
      "source": [
        ">>inheritance- reusing same method in differetn classes again and again"
      ],
      "metadata": {
        "id": "wrxm82JEo1RX"
      }
    },
    {
      "cell_type": "code",
      "source": [
        "class test:\n",
        "\n",
        "  def test_method(self):\n",
        "    return \"this is my first class\""
      ],
      "metadata": {
        "id": "k8kWIwsjos_e"
      },
      "execution_count": 162,
      "outputs": []
    },
    {
      "cell_type": "code",
      "source": [
        "class child_test(test):\n",
        "  pass"
      ],
      "metadata": {
        "id": "OJIV6Gz5qg4W"
      },
      "execution_count": 166,
      "outputs": []
    },
    {
      "cell_type": "code",
      "source": [
        "child_test_obj=child_test()"
      ],
      "metadata": {
        "id": "e-Ez0FjYqlsu"
      },
      "execution_count": 169,
      "outputs": []
    },
    {
      "cell_type": "code",
      "source": [
        "child_test_obj.test_method()"
      ],
      "metadata": {
        "colab": {
          "base_uri": "https://localhost:8080/",
          "height": 35
        },
        "id": "Id8SNk5xq6j-",
        "outputId": "b4955295-41a1-4e59-ee77-0c452b33285f"
      },
      "execution_count": 171,
      "outputs": [
        {
          "output_type": "execute_result",
          "data": {
            "text/plain": [
              "'this is my first class'"
            ],
            "application/vnd.google.colaboratory.intrinsic+json": {
              "type": "string"
            }
          },
          "metadata": {},
          "execution_count": 171
        }
      ]
    },
    {
      "cell_type": "code",
      "source": [
        "class class1:\n",
        "\n",
        "  def test_class(self):\n",
        "    return \"this si a method from class1\""
      ],
      "metadata": {
        "id": "SPMfjcSTrAhO"
      },
      "execution_count": 180,
      "outputs": []
    },
    {
      "cell_type": "code",
      "source": [
        "class class2(class1):\n",
        "  def test_class2(self):\n",
        "    return \"this is a method from class 2\""
      ],
      "metadata": {
        "id": "Av0gYjKey5AT"
      },
      "execution_count": 179,
      "outputs": []
    },
    {
      "cell_type": "code",
      "source": [
        "class class3(class2):\n",
        "  pass"
      ],
      "metadata": {
        "id": "9ubajK9czFOi"
      },
      "execution_count": 178,
      "outputs": []
    },
    {
      "cell_type": "code",
      "source": [
        "obj_class3=class3()"
      ],
      "metadata": {
        "id": "zPb2MNlQzNMp"
      },
      "execution_count": 175,
      "outputs": []
    },
    {
      "cell_type": "code",
      "source": [
        "obj_class3.test_class()"
      ],
      "metadata": {
        "colab": {
          "base_uri": "https://localhost:8080/",
          "height": 35
        },
        "id": "3AqZBoSszVSC",
        "outputId": "0f6fd3f2-8165-4cd4-d9b2-ed2d06de33ef"
      },
      "execution_count": 182,
      "outputs": [
        {
          "output_type": "execute_result",
          "data": {
            "text/plain": [
              "'this si a method from class1'"
            ],
            "application/vnd.google.colaboratory.intrinsic+json": {
              "type": "string"
            }
          },
          "metadata": {},
          "execution_count": 182
        }
      ]
    },
    {
      "cell_type": "code",
      "source": [
        "obj_class3.test_class2()"
      ],
      "metadata": {
        "colab": {
          "base_uri": "https://localhost:8080/",
          "height": 35
        },
        "id": "yb2CnzzszX47",
        "outputId": "6e0d3123-c5cf-4072-d121-2925a6e12477"
      },
      "execution_count": 183,
      "outputs": [
        {
          "output_type": "execute_result",
          "data": {
            "text/plain": [
              "'this is a method from class 2'"
            ],
            "application/vnd.google.colaboratory.intrinsic+json": {
              "type": "string"
            }
          },
          "metadata": {},
          "execution_count": 183
        }
      ]
    },
    {
      "cell_type": "markdown",
      "source": [
        "multiple inheritance"
      ],
      "metadata": {
        "id": "m5IaOVOd2WSR"
      }
    },
    {
      "cell_type": "code",
      "source": [
        "class class1:\n",
        "  def test_class1(self):\n",
        "    return \"this si a class1\""
      ],
      "metadata": {
        "id": "GoyqhVtezmJh"
      },
      "execution_count": 200,
      "outputs": []
    },
    {
      "cell_type": "code",
      "source": [
        "class class2:\n",
        "\n",
        "  def test_class2(self):\n",
        "    return\"this is class2\"\n"
      ],
      "metadata": {
        "id": "eB49zHAV2dWB"
      },
      "execution_count": 199,
      "outputs": []
    },
    {
      "cell_type": "code",
      "source": [
        "class class3(class1, class2):\n",
        "  pass\n"
      ],
      "metadata": {
        "id": "221U160u2j6I"
      },
      "execution_count": 208,
      "outputs": []
    },
    {
      "cell_type": "code",
      "source": [
        "obj_class3= class3()"
      ],
      "metadata": {
        "id": "AiJ7Pgu42lTp"
      },
      "execution_count": 209,
      "outputs": []
    },
    {
      "cell_type": "code",
      "source": [
        "obj_class3.test_class1()"
      ],
      "metadata": {
        "colab": {
          "base_uri": "https://localhost:8080/",
          "height": 35
        },
        "id": "1DODdRlt2x7Y",
        "outputId": "8f4e791f-127c-4137-fd9a-96a01b77cc44"
      },
      "execution_count": 210,
      "outputs": [
        {
          "output_type": "execute_result",
          "data": {
            "text/plain": [
              "'this si a class1'"
            ],
            "application/vnd.google.colaboratory.intrinsic+json": {
              "type": "string"
            }
          },
          "metadata": {},
          "execution_count": 210
        }
      ]
    },
    {
      "cell_type": "code",
      "source": [
        "obj_class3.test_class2()"
      ],
      "metadata": {
        "colab": {
          "base_uri": "https://localhost:8080/",
          "height": 35
        },
        "id": "F8gl_Qwn24DQ",
        "outputId": "2c7025ee-3377-41e3-ae64-a8b3d0c77f26"
      },
      "execution_count": 211,
      "outputs": [
        {
          "output_type": "execute_result",
          "data": {
            "text/plain": [
              "'this is class2'"
            ],
            "application/vnd.google.colaboratory.intrinsic+json": {
              "type": "string"
            }
          },
          "metadata": {},
          "execution_count": 211
        }
      ]
    },
    {
      "cell_type": "markdown",
      "source": [
        "Abstraction"
      ],
      "metadata": {
        "id": "rOmufOc33giD"
      }
    },
    {
      "cell_type": "code",
      "source": [
        "import abc\n",
        "class pwskills:\n",
        "  @abc.abstractmethod\n",
        "  def students_details(self):\n",
        "    pass\n",
        "\n",
        "  @abc.abstractmethod\n",
        "  def student_assignment(self):\n",
        "    pass\n",
        "\n",
        "  @abc.abstractmethod\n",
        "  def student_marks(self):\n",
        "    pass\n",
        "\n",
        ""
      ],
      "metadata": {
        "id": "N62QUJ-g3EZD"
      },
      "execution_count": 214,
      "outputs": []
    },
    {
      "cell_type": "code",
      "source": [
        "class student_details(pwskills):\n",
        "\n",
        "  def student_details(self):\n",
        "    return \"this is a meth for taking student details\"\n",
        "\n",
        "  def student_assignment(self):\n",
        "    return \"this is a meth for assing details for a perticualt student\"\n"
      ],
      "metadata": {
        "id": "flKZnZYh330o"
      },
      "execution_count": 223,
      "outputs": []
    },
    {
      "cell_type": "code",
      "source": [
        "class data_science_masters(pwskills):\n",
        "\n",
        "  def student_details(self):\n",
        "    return \"this will return a student details for data science masters\"\n",
        "\n",
        "  def student_assignment(self):\n",
        "    return \"this will give you a student assignment details for data science masters\""
      ],
      "metadata": {
        "id": "OK9wSJ3K6DUR"
      },
      "execution_count": 227,
      "outputs": []
    },
    {
      "cell_type": "code",
      "source": [
        "dsm= data_science_masters()\n",
        "dsm.student_details()"
      ],
      "metadata": {
        "colab": {
          "base_uri": "https://localhost:8080/",
          "height": 35
        },
        "id": "VVgpOvdj6FiB",
        "outputId": "2f24b810-99be-494f-b790-cd80a0369a44"
      },
      "execution_count": 228,
      "outputs": [
        {
          "output_type": "execute_result",
          "data": {
            "text/plain": [
              "'this will return a student details for data science masters'"
            ],
            "application/vnd.google.colaboratory.intrinsic+json": {
              "type": "string"
            }
          },
          "metadata": {},
          "execution_count": 228
        }
      ]
    },
    {
      "cell_type": "code",
      "source": [
        "sd= student_details()\n",
        "sd.student_details()"
      ],
      "metadata": {
        "colab": {
          "base_uri": "https://localhost:8080/",
          "height": 35
        },
        "id": "28N7WYFs6ilv",
        "outputId": "2c0e0a97-3d66-4e47-edd8-89bdb757a7f3"
      },
      "execution_count": 226,
      "outputs": [
        {
          "output_type": "execute_result",
          "data": {
            "text/plain": [
              "'this is a meth for taking student details'"
            ],
            "application/vnd.google.colaboratory.intrinsic+json": {
              "type": "string"
            }
          },
          "metadata": {},
          "execution_count": 226
        }
      ]
    },
    {
      "cell_type": "code",
      "source": [],
      "metadata": {
        "id": "VL8vD7ao6mtA"
      },
      "execution_count": null,
      "outputs": []
    }
  ]
}