{
  "nbformat": 4,
  "nbformat_minor": 0,
  "metadata": {
    "colab": {
      "provenance": [],
      "authorship_tag": "ABX9TyNS+uAFSC4smiv0z78ytgCw",
      "include_colab_link": true
    },
    "kernelspec": {
      "name": "python3",
      "display_name": "Python 3"
    },
    "language_info": {
      "name": "python"
    }
  },
  "cells": [
    {
      "cell_type": "markdown",
      "metadata": {
        "id": "view-in-github",
        "colab_type": "text"
      },
      "source": [
        "<a href=\"https://colab.research.google.com/github/agarwaljubin/loops-/blob/main/class.ipynb\" target=\"_parent\"><img src=\"https://colab.research.google.com/assets/colab-badge.svg\" alt=\"Open In Colab\"/></a>"
      ]
    },
    {
      "cell_type": "code",
      "execution_count": null,
      "metadata": {
        "id": "kkYM0Dj8YGvJ"
      },
      "outputs": [],
      "source": [
        "class pwskills:\n",
        "  def welcome_msg(self):\n",
        "   print(\"welcome to pwskills\")"
      ]
    },
    {
      "cell_type": "code",
      "source": [
        "rohan = pwskills()"
      ],
      "metadata": {
        "id": "TmZU2CM3YLV0"
      },
      "execution_count": null,
      "outputs": []
    },
    {
      "cell_type": "code",
      "source": [
        "print(type(rohan))"
      ],
      "metadata": {
        "colab": {
          "base_uri": "https://localhost:8080/"
        },
        "id": "nA2wxIvgYbFR",
        "outputId": "6425e0a8-c5dc-4adf-ddfe-af20103f3197"
      },
      "execution_count": null,
      "outputs": [
        {
          "output_type": "stream",
          "name": "stdout",
          "text": [
            "<class '__main__.pwskills'>\n"
          ]
        }
      ]
    },
    {
      "cell_type": "code",
      "source": [
        "rohan.welcome_msg()"
      ],
      "metadata": {
        "colab": {
          "base_uri": "https://localhost:8080/"
        },
        "id": "Qa1bpUC6Yoa5",
        "outputId": "c354eec3-b822-419e-8b96-5f5c63a5f88b"
      },
      "execution_count": null,
      "outputs": [
        {
          "output_type": "stream",
          "name": "stdout",
          "text": [
            "welcome to pwskills\n"
          ]
        }
      ]
    },
    {
      "cell_type": "code",
      "source": [
        "jubin= pwskills()"
      ],
      "metadata": {
        "id": "zV3hk9CbZSTp"
      },
      "execution_count": null,
      "outputs": []
    },
    {
      "cell_type": "code",
      "source": [
        "jubin.welcome_msg()"
      ],
      "metadata": {
        "colab": {
          "base_uri": "https://localhost:8080/"
        },
        "id": "K3h6F3pkbDO5",
        "outputId": "7db1abc7-db60-492d-d240-273aa4bb0ed4"
      },
      "execution_count": null,
      "outputs": [
        {
          "output_type": "stream",
          "name": "stdout",
          "text": [
            "welcome to pwskills\n"
          ]
        }
      ]
    },
    {
      "cell_type": "markdown",
      "source": [
        "Here we create aclass specific to a object"
      ],
      "metadata": {
        "id": "BBloW83dbXpx"
      }
    },
    {
      "cell_type": "code",
      "source": [
        "class pwskills1:\n",
        "\n",
        "    def __init__(self,phone_number,email_id,student_id):\n",
        "        self.phone_number = phone_number\n",
        "        self.email_id = email_id\n",
        "        self.student_id = student_id\n",
        "    def return_student_details(self):\n",
        "            return self.student_id,self.phone_number,self.email_id\n"
      ],
      "metadata": {
        "id": "SLfki0ogbFv5"
      },
      "execution_count": null,
      "outputs": []
    },
    {
      "cell_type": "code",
      "source": [
        "rohan= pwskills1()##(when their is no data assign to the variable than we will get an error becuase we use the fucntion here initialization , which require specific data for the variable )"
      ],
      "metadata": {
        "colab": {
          "base_uri": "https://localhost:8080/",
          "height": 176
        },
        "id": "FnqTXpjiberp",
        "outputId": "8acae358-f2d1-4da7-f5a6-7a5e286bf1c2"
      },
      "execution_count": null,
      "outputs": [
        {
          "output_type": "error",
          "ename": "TypeError",
          "evalue": "pwskills1.__init__() missing 3 required positional arguments: 'phone_number', 'email_id', and 'student_id'",
          "traceback": [
            "\u001b[0;31m---------------------------------------------------------------------------\u001b[0m",
            "\u001b[0;31mTypeError\u001b[0m                                 Traceback (most recent call last)",
            "\u001b[0;32m<ipython-input-46-a245d6ed90d8>\u001b[0m in \u001b[0;36m<cell line: 0>\u001b[0;34m()\u001b[0m\n\u001b[0;32m----> 1\u001b[0;31m \u001b[0mrohan\u001b[0m\u001b[0;34m=\u001b[0m \u001b[0mpwskills1\u001b[0m\u001b[0;34m(\u001b[0m\u001b[0;34m)\u001b[0m\u001b[0;31m##(when their is no data assign to the variable than we will get an error becuase we use the fucntion here initialization , which require specific data for the variable )\u001b[0m\u001b[0;34m\u001b[0m\u001b[0;34m\u001b[0m\u001b[0m\n\u001b[0m",
            "\u001b[0;31mTypeError\u001b[0m: pwskills1.__init__() missing 3 required positional arguments: 'phone_number', 'email_id', and 'student_id'"
          ]
        }
      ]
    },
    {
      "cell_type": "code",
      "source": [
        "jubin= pwskills1(93786879,\"agrawaljubin@gmail.com\", 8104595)"
      ],
      "metadata": {
        "id": "1Rw_DK_mdQsY"
      },
      "execution_count": null,
      "outputs": []
    },
    {
      "cell_type": "code",
      "source": [
        "jubin.return_student_details()"
      ],
      "metadata": {
        "colab": {
          "base_uri": "https://localhost:8080/"
        },
        "id": "x0teAQ34dxug",
        "outputId": "64c22ee5-279b-48bc-829a-bee0bea002c6"
      },
      "execution_count": null,
      "outputs": [
        {
          "output_type": "execute_result",
          "data": {
            "text/plain": [
              "(8104595, 93786879, 'agrawaljubin@gmail.com')"
            ]
          },
          "metadata": {},
          "execution_count": 64
        }
      ]
    },
    {
      "cell_type": "code",
      "source": [
        "jubin.phone_number"
      ],
      "metadata": {
        "colab": {
          "base_uri": "https://localhost:8080/"
        },
        "id": "BCF-v7fNePFI",
        "outputId": "3b6fba36-1716-44a3-a9c1-9f1b8d525658"
      },
      "execution_count": null,
      "outputs": [
        {
          "output_type": "execute_result",
          "data": {
            "text/plain": [
              "93786879"
            ]
          },
          "metadata": {},
          "execution_count": 66
        }
      ]
    },
    {
      "cell_type": "code",
      "source": [
        "jubin.email_id"
      ],
      "metadata": {
        "colab": {
          "base_uri": "https://localhost:8080/",
          "height": 35
        },
        "id": "H1j0eCuUjQ1P",
        "outputId": "5f5243e8-c97c-4a36-ead6-892ca31a149a"
      },
      "execution_count": null,
      "outputs": [
        {
          "output_type": "execute_result",
          "data": {
            "text/plain": [
              "'agrawaljubin@gmail.com'"
            ],
            "application/vnd.google.colaboratory.intrinsic+json": {
              "type": "string"
            }
          },
          "metadata": {},
          "execution_count": 69
        }
      ]
    },
    {
      "cell_type": "code",
      "source": [
        "gaurav= pwskills1(937868780,\"agrawalgaurav@gmail.com\", 8104597)"
      ],
      "metadata": {
        "id": "L-LCXY2XhdaY"
      },
      "execution_count": null,
      "outputs": []
    },
    {
      "cell_type": "code",
      "source": [
        "gaurav.return_student_details()"
      ],
      "metadata": {
        "colab": {
          "base_uri": "https://localhost:8080/"
        },
        "id": "jr7otYxHhqzI",
        "outputId": "adac6380-52d3-44b8-98f5-173b18791b3b"
      },
      "execution_count": null,
      "outputs": [
        {
          "output_type": "execute_result",
          "data": {
            "text/plain": [
              "(8104597, 937868780, 'agrawalgaurav@gmail.com')"
            ]
          },
          "metadata": {},
          "execution_count": 53
        }
      ]
    },
    {
      "cell_type": "markdown",
      "source": [
        "analysing self keyword"
      ],
      "metadata": {
        "id": "wXnsi0hBinJI"
      }
    },
    {
      "cell_type": "code",
      "source": [
        "class pwskills2:\n",
        "\n",
        "    def __init__(self,phone_number,email_id,student_id):\n",
        "        self.phone_number1 = phone_number\n",
        "        self.email_id1 = email_id\n",
        "        self.student_id1 = student_id\n",
        "    def return_student_details(self):\n",
        "            return self.student_id1,self.phone_number1,self.email_id1"
      ],
      "metadata": {
        "id": "t71vEqolhtXw"
      },
      "execution_count": null,
      "outputs": []
    },
    {
      "cell_type": "code",
      "source": [
        "sudhanshu= pwskills2(937868780,\"agrawalsudhanshu@gmail.com\", 8104597)"
      ],
      "metadata": {
        "id": "_EhAoYlSitX5"
      },
      "execution_count": null,
      "outputs": []
    },
    {
      "cell_type": "code",
      "source": [
        "sudhanshu"
      ],
      "metadata": {
        "colab": {
          "base_uri": "https://localhost:8080/"
        },
        "id": "T3y8xNuJi0-g",
        "outputId": "2217b58b-d5c3-4063-d11b-1a12081476dc"
      },
      "execution_count": null,
      "outputs": [
        {
          "output_type": "execute_result",
          "data": {
            "text/plain": [
              "<__main__.pwskills2 at 0x7daf6703b810>"
            ]
          },
          "metadata": {},
          "execution_count": 144
        }
      ]
    },
    {
      "cell_type": "code",
      "source": [
        "sudhanshu.phone_number1"
      ],
      "metadata": {
        "colab": {
          "base_uri": "https://localhost:8080/"
        },
        "id": "5dx_BdPSi18Y",
        "outputId": "62a68bdb-c487-4011-d3c7-ff727f17664d"
      },
      "execution_count": null,
      "outputs": [
        {
          "output_type": "execute_result",
          "data": {
            "text/plain": [
              "937868780"
            ]
          },
          "metadata": {},
          "execution_count": 146
        }
      ]
    },
    {
      "cell_type": "code",
      "source": [
        "sudhanshu.return_student_details()"
      ],
      "metadata": {
        "colab": {
          "base_uri": "https://localhost:8080/"
        },
        "id": "bZ7G7USAjcRY",
        "outputId": "c0231ebb-8d24-4d8d-fa4e-38d9d3d16586"
      },
      "execution_count": null,
      "outputs": [
        {
          "output_type": "execute_result",
          "data": {
            "text/plain": [
              "(8104597, 937868780, 'agrawalsudhanshu@gmail.com')"
            ]
          },
          "metadata": {},
          "execution_count": 147
        }
      ]
    },
    {
      "cell_type": "markdown",
      "source": [
        "about the key word self - we can use any keyword instead of self if we want becuase self is not a reserve keyword in python"
      ],
      "metadata": {
        "id": "QVaiFtYpmVp_"
      }
    },
    {
      "cell_type": "code",
      "source": [
        "class pwskills2:\n",
        "\n",
        "    def __init__(Jub,phone_number,email_id,student_id):\n",
        "        Jub.phone_number1 = phone_number\n",
        "        Jub.email_id1 = email_id\n",
        "        Jub.student_id1 = student_id\n",
        "    def return_student_details(Jub):\n",
        "            return Jub.student_id1,Jub.phone_number1,Jub.email_id1"
      ],
      "metadata": {
        "id": "lwbPEzj0kIsa"
      },
      "execution_count": null,
      "outputs": []
    },
    {
      "cell_type": "code",
      "source": [
        "Jubin= pwskills2(937868780,\"agrawaljubin@gmail.com\", 8104597)"
      ],
      "metadata": {
        "id": "pto-rB_umlww"
      },
      "execution_count": null,
      "outputs": []
    },
    {
      "cell_type": "code",
      "source": [
        "Jubin.phone_number1"
      ],
      "metadata": {
        "colab": {
          "base_uri": "https://localhost:8080/"
        },
        "id": "y53P8I3NmnzH",
        "outputId": "92d60545-b5e0-4322-9a76-84c481025a3f"
      },
      "execution_count": null,
      "outputs": [
        {
          "output_type": "execute_result",
          "data": {
            "text/plain": [
              "937868780"
            ]
          },
          "metadata": {},
          "execution_count": 106
        }
      ]
    },
    {
      "cell_type": "markdown",
      "source": [
        "Undestanding very imp concept polymorphism in OOPS- multiple behavior in a different different kind of situation"
      ],
      "metadata": {
        "id": "XuX6Qtd8nSWn"
      }
    },
    {
      "cell_type": "code",
      "source": [
        "def test(a,b):\n",
        "  return a+b"
      ],
      "metadata": {
        "id": "kXe0vBuZm61g"
      },
      "execution_count": null,
      "outputs": []
    },
    {
      "cell_type": "code",
      "source": [
        "test(3,4)"
      ],
      "metadata": {
        "colab": {
          "base_uri": "https://localhost:8080/"
        },
        "id": "uybcUn6IqVK7",
        "outputId": "113adb64-f9de-4ee1-e30f-a5a28e7f010a"
      },
      "execution_count": null,
      "outputs": [
        {
          "output_type": "execute_result",
          "data": {
            "text/plain": [
              "7"
            ]
          },
          "metadata": {},
          "execution_count": 110
        }
      ]
    },
    {
      "cell_type": "code",
      "source": [
        "test(\"jubin\",\"agrawal\")"
      ],
      "metadata": {
        "colab": {
          "base_uri": "https://localhost:8080/",
          "height": 35
        },
        "id": "5ZqAYj9wqY-L",
        "outputId": "d091fab6-be12-4650-d781-2dca78676838"
      },
      "execution_count": null,
      "outputs": [
        {
          "output_type": "execute_result",
          "data": {
            "text/plain": [
              "'jubinagrawal'"
            ],
            "application/vnd.google.colaboratory.intrinsic+json": {
              "type": "string"
            }
          },
          "metadata": {},
          "execution_count": 111
        }
      ]
    },
    {
      "cell_type": "code",
      "source": [
        "test([1,2,3,4],[5,6,7,8])"
      ],
      "metadata": {
        "colab": {
          "base_uri": "https://localhost:8080/"
        },
        "id": "PJTmyaY7qjqc",
        "outputId": "b90b3dba-40ee-46e9-efaf-ef214f37dffc"
      },
      "execution_count": null,
      "outputs": [
        {
          "output_type": "execute_result",
          "data": {
            "text/plain": [
              "[1, 2, 3, 4, 5, 6, 7, 8]"
            ]
          },
          "metadata": {},
          "execution_count": 112
        }
      ]
    },
    {
      "cell_type": "markdown",
      "source": [
        "..here we see that using different type of input such as list ,string, variable, the base fucntion is not changing but doing the same operation and this is called an entity showing multiple behavior is called polymorphism"
      ],
      "metadata": {
        "id": "qL7ZxCa9rEgb"
      }
    },
    {
      "cell_type": "code",
      "source": [
        "class data_science:\n",
        "  def syllabus(self):\n",
        "    print(\"this is my syllabus for data science\")"
      ],
      "metadata": {
        "id": "g6mW8MjsrA5T"
      },
      "execution_count": null,
      "outputs": []
    },
    {
      "cell_type": "code",
      "source": [
        "class web_dev:\n",
        "  def syllabus(self):\n",
        "    print(\"this is my syllabus for web dev\")"
      ],
      "metadata": {
        "id": "YSVUFFLSreMj"
      },
      "execution_count": null,
      "outputs": []
    },
    {
      "cell_type": "code",
      "source": [
        "def class_parcer(class_object):\n",
        "  for i in class_obj:\n",
        "    i.syllabus()"
      ],
      "metadata": {
        "id": "cwXMXTg2sT67"
      },
      "execution_count": null,
      "outputs": []
    },
    {
      "cell_type": "code",
      "source": [
        "data_science= data_science()"
      ],
      "metadata": {
        "id": "Z0pCKIbOsw1D"
      },
      "execution_count": null,
      "outputs": []
    },
    {
      "cell_type": "code",
      "source": [
        "web_dev= web_dev()"
      ],
      "metadata": {
        "id": "9qCaF9ctsymD"
      },
      "execution_count": null,
      "outputs": []
    },
    {
      "cell_type": "code",
      "source": [
        "class_obj=[data_science,web_dev]"
      ],
      "metadata": {
        "id": "D0iy0WcPszcT"
      },
      "execution_count": null,
      "outputs": []
    },
    {
      "cell_type": "code",
      "source": [
        "class_parcer(class_obj)"
      ],
      "metadata": {
        "colab": {
          "base_uri": "https://localhost:8080/"
        },
        "id": "Hfe3VRE5s9Sj",
        "outputId": "b7180724-0fcd-471b-a54e-38ef9d44009f"
      },
      "execution_count": null,
      "outputs": [
        {
          "output_type": "stream",
          "name": "stdout",
          "text": [
            "this is my syllabus for data science\n",
            "this is my syllabus for web dev\n"
          ]
        }
      ]
    },
    {
      "cell_type": "code",
      "source": [
        "#Encapsulation"
      ],
      "metadata": {
        "id": "DcboAp4ls-Cb"
      },
      "execution_count": null,
      "outputs": []
    },
    {
      "cell_type": "code",
      "source": [
        "class test:\n",
        "\n",
        "  def __init__(self,a,b):\n",
        "    self.a=a\n",
        "    self.b=b"
      ],
      "metadata": {
        "id": "wh5z2nofv4EL"
      },
      "execution_count": null,
      "outputs": []
    },
    {
      "cell_type": "code",
      "source": [
        "t = test(23,34)"
      ],
      "metadata": {
        "id": "nQeZCZCLwCMy"
      },
      "execution_count": null,
      "outputs": []
    },
    {
      "cell_type": "code",
      "source": [
        "t.a=234534"
      ],
      "metadata": {
        "id": "ZWx65CPGwFWK"
      },
      "execution_count": null,
      "outputs": []
    },
    {
      "cell_type": "code",
      "source": [
        "t.a"
      ],
      "metadata": {
        "colab": {
          "base_uri": "https://localhost:8080/"
        },
        "id": "guO94y9qwMHj",
        "outputId": "3e2ad3b6-52c6-46e4-d4d5-7b79b832cb0a"
      },
      "execution_count": null,
      "outputs": [
        {
          "output_type": "execute_result",
          "data": {
            "text/plain": [
              "234534"
            ]
          },
          "metadata": {},
          "execution_count": 127
        }
      ]
    },
    {
      "cell_type": "code",
      "source": [
        "class car:\n",
        "  def __init__(self,year,make,model,speed):\n",
        "    self.__year=year\n",
        "    self.__make=make\n",
        "    self.__model=model\n",
        "    self.__speed=0\n",
        "\n",
        "  def set_speed(self,speed):\n",
        "      self.__speed=0 if speed<0 else speed\n",
        "\n",
        "  def get_speed(self):\n",
        "      return self.__speed"
      ],
      "metadata": {
        "id": "vsA1THa3wNGq"
      },
      "execution_count": null,
      "outputs": []
    },
    {
      "cell_type": "code",
      "source": [
        "c= car(20212,\"toyota\",\"innova\",12)"
      ],
      "metadata": {
        "id": "7Jmw3J1VxSQC"
      },
      "execution_count": null,
      "outputs": []
    },
    {
      "cell_type": "code",
      "source": [
        "c._car__year"
      ],
      "metadata": {
        "colab": {
          "base_uri": "https://localhost:8080/"
        },
        "id": "8sh8MmNTxUN6",
        "outputId": "c8a7887f-e4fc-4615-b815-c2ccb418f8ee"
      },
      "execution_count": null,
      "outputs": [
        {
          "output_type": "execute_result",
          "data": {
            "text/plain": [
              "20212"
            ]
          },
          "metadata": {},
          "execution_count": 183
        }
      ]
    },
    {
      "cell_type": "code",
      "source": [
        "c._car__make"
      ],
      "metadata": {
        "colab": {
          "base_uri": "https://localhost:8080/",
          "height": 35
        },
        "id": "Pmp3aKtcxuzC",
        "outputId": "1788327e-a31b-4ee1-95bb-5920b77fb805"
      },
      "execution_count": null,
      "outputs": [
        {
          "output_type": "execute_result",
          "data": {
            "text/plain": [
              "'toyota'"
            ],
            "application/vnd.google.colaboratory.intrinsic+json": {
              "type": "string"
            }
          },
          "metadata": {},
          "execution_count": 184
        }
      ]
    },
    {
      "cell_type": "code",
      "source": [
        "c.set_speed(-8483)"
      ],
      "metadata": {
        "id": "n1wmoPTCHDFr"
      },
      "execution_count": null,
      "outputs": []
    },
    {
      "cell_type": "code",
      "source": [
        "c.get_speed()"
      ],
      "metadata": {
        "colab": {
          "base_uri": "https://localhost:8080/"
        },
        "id": "3FWIELGHH70C",
        "outputId": "01d020bd-34c7-441b-83c7-3bc3998885ab"
      },
      "execution_count": null,
      "outputs": [
        {
          "output_type": "execute_result",
          "data": {
            "text/plain": [
              "0"
            ]
          },
          "metadata": {},
          "execution_count": 191
        }
      ]
    },
    {
      "cell_type": "code",
      "source": [
        "c.set_speed(535)"
      ],
      "metadata": {
        "id": "z86ZqpgkIWS6"
      },
      "execution_count": null,
      "outputs": []
    },
    {
      "cell_type": "code",
      "source": [
        "c.get_speed()"
      ],
      "metadata": {
        "colab": {
          "base_uri": "https://localhost:8080/"
        },
        "id": "oui6qeqqR3zk",
        "outputId": "82648c25-5a48-4548-e88d-41e9c3f42a4e"
      },
      "execution_count": null,
      "outputs": [
        {
          "output_type": "execute_result",
          "data": {
            "text/plain": [
              "535"
            ]
          },
          "metadata": {},
          "execution_count": 193
        }
      ]
    },
    {
      "cell_type": "code",
      "source": [
        "##more examples of incapsulation\n"
      ],
      "metadata": {
        "id": "_BxvUnKgR5Bc"
      },
      "execution_count": null,
      "outputs": []
    },
    {
      "cell_type": "code",
      "source": [
        "##class bank_account:\n",
        "  def __init__(self,balance):\n",
        "    self.__balance=balance\n",
        "\n",
        "  def deposit(self,amount):\n",
        "    self.__balance=self.__balance+amount\n",
        "\n",
        "  def withdraw(self,amount):\n",
        "    if self.__balance>=amount:\n",
        "      self.__balance=self.__balance-amount\n",
        "      return True\n",
        "    else:\n",
        "      return False\n",
        "  def deposit(self,amount):\n",
        "    self.__balance=self.__balance+amount\n",
        "\n",
        "  def withdraw(self,amount):\n",
        "    if self.__balance>=amount:\n",
        "      self.__balance=self.__balance-amount\n",
        "      return True\n",
        "    else:\n",
        "      return False"
      ],
      "metadata": {
        "id": "t3ASX1XfTCus"
      },
      "execution_count": null,
      "outputs": []
    },
    {
      "cell_type": "code",
      "source": [
        "class bank_account:\n",
        "  def __init__(self,balance):\n",
        "    self.__balance=balance\n",
        "\n",
        "  def deposit(self,amount):\n",
        "    self.__balance=self.__balance+amount\n",
        "\n",
        "  def withdraw(self,amount):\n",
        "    if self.__balance>=amount:\n",
        "      self.__balance=self.__balance-amount\n",
        "      return True\n",
        "    else:\n",
        "      return False\n",
        "  def get_balance(self):\n",
        "        return self.__balance"
      ],
      "metadata": {
        "id": "3yhjGMURTEos"
      },
      "execution_count": null,
      "outputs": []
    },
    {
      "cell_type": "code",
      "source": [
        "Jubin=bank_account(1000)"
      ],
      "metadata": {
        "id": "KeXt2ypEcuEY"
      },
      "execution_count": null,
      "outputs": []
    },
    {
      "cell_type": "code",
      "source": [
        "Jubin.get_balance()"
      ],
      "metadata": {
        "colab": {
          "base_uri": "https://localhost:8080/"
        },
        "id": "M2v6FHoQdIrQ",
        "outputId": "285c12e4-d7ff-469f-96bc-71f8f68045f3"
      },
      "execution_count": null,
      "outputs": [
        {
          "output_type": "execute_result",
          "data": {
            "text/plain": [
              "1000"
            ]
          },
          "metadata": {},
          "execution_count": 216
        }
      ]
    },
    {
      "cell_type": "code",
      "source": [
        "Jubin.deposit(5000)"
      ],
      "metadata": {
        "id": "B8b05YSJdtH3"
      },
      "execution_count": null,
      "outputs": []
    },
    {
      "cell_type": "code",
      "source": [
        "Jubin.get_balance()"
      ],
      "metadata": {
        "colab": {
          "base_uri": "https://localhost:8080/"
        },
        "id": "MfR2Nf0MeMrf",
        "outputId": "5a525d0c-c6f4-4cb5-f3cd-4e25ebdcc948"
      },
      "execution_count": null,
      "outputs": [
        {
          "output_type": "execute_result",
          "data": {
            "text/plain": [
              "11000"
            ]
          },
          "metadata": {},
          "execution_count": 221
        }
      ]
    },
    {
      "cell_type": "code",
      "source": [
        "Jubin.withdraw(7000)"
      ],
      "metadata": {
        "colab": {
          "base_uri": "https://localhost:8080/"
        },
        "id": "sp1hTGcEefb-",
        "outputId": "ff040660-117d-4200-df9e-67e7270d64a8"
      },
      "execution_count": null,
      "outputs": [
        {
          "output_type": "execute_result",
          "data": {
            "text/plain": [
              "True"
            ]
          },
          "metadata": {},
          "execution_count": 224
        }
      ]
    },
    {
      "cell_type": "code",
      "source": [
        "Jubin.withdraw(400000)"
      ],
      "metadata": {
        "colab": {
          "base_uri": "https://localhost:8080/"
        },
        "id": "5z8T07G4ekNR",
        "outputId": "22cc313e-57e0-45ed-92cf-a4d940835b54"
      },
      "execution_count": null,
      "outputs": [
        {
          "output_type": "execute_result",
          "data": {
            "text/plain": [
              "False"
            ]
          },
          "metadata": {},
          "execution_count": 225
        }
      ]
    },
    {
      "cell_type": "code",
      "source": [
        "Jubin.get_balance()"
      ],
      "metadata": {
        "colab": {
          "base_uri": "https://localhost:8080/"
        },
        "id": "Vri-sl0iettn",
        "outputId": "9046467d-224f-447d-da16-fe5c3781ce0b"
      },
      "execution_count": null,
      "outputs": [
        {
          "output_type": "execute_result",
          "data": {
            "text/plain": [
              "11000"
            ]
          },
          "metadata": {},
          "execution_count": 227
        }
      ]
    },
    {
      "cell_type": "markdown",
      "source": [
        "##Inheritance\n",
        ">>multilevel inheritance"
      ],
      "metadata": {
        "id": "kZ90ugUTfXiw"
      }
    },
    {
      "cell_type": "code",
      "source": [
        "class test:\n",
        "\n",
        "  def test_meth(self):\n",
        "    return\"this is my first class\""
      ],
      "metadata": {
        "id": "122ZE61pe-8X"
      },
      "execution_count": null,
      "outputs": []
    },
    {
      "cell_type": "code",
      "source": [
        "class child_test(test):\n",
        "  pass"
      ],
      "metadata": {
        "id": "-Dq99cndhTD4"
      },
      "execution_count": null,
      "outputs": []
    },
    {
      "cell_type": "code",
      "source": [
        "child_test_obj=child_test()"
      ],
      "metadata": {
        "id": "-DhwOkpKhaho"
      },
      "execution_count": null,
      "outputs": []
    },
    {
      "cell_type": "code",
      "source": [
        "child_test_obj.test_meth()"
      ],
      "metadata": {
        "colab": {
          "base_uri": "https://localhost:8080/",
          "height": 35
        },
        "id": "a5-m3teIhpZ_",
        "outputId": "5da3b3d4-97a6-4f6a-fd17-cd2dd3f598c8"
      },
      "execution_count": null,
      "outputs": [
        {
          "output_type": "execute_result",
          "data": {
            "text/plain": [
              "'this is my first class'"
            ],
            "application/vnd.google.colaboratory.intrinsic+json": {
              "type": "string"
            }
          },
          "metadata": {},
          "execution_count": 262
        }
      ]
    },
    {
      "cell_type": "code",
      "source": [
        "class class1:\n",
        "\n",
        "  def test_class1(self):\n",
        "    return\"this is a method from class1\""
      ],
      "metadata": {
        "id": "yxroxfwYh332"
      },
      "execution_count": null,
      "outputs": []
    },
    {
      "cell_type": "code",
      "source": [
        "class class2(class1):\n",
        "  def test_class2(self):\n",
        "    return \"this is a meth from class 2\""
      ],
      "metadata": {
        "id": "-NIJ_2QRjAE3"
      },
      "execution_count": null,
      "outputs": []
    },
    {
      "cell_type": "code",
      "source": [
        "class class3(class2):\n",
        " pass"
      ],
      "metadata": {
        "id": "NeBSjLamjKr3"
      },
      "execution_count": null,
      "outputs": []
    },
    {
      "cell_type": "code",
      "source": [
        "object_class3= class3()\n"
      ],
      "metadata": {
        "id": "HgOirq8UjOEu"
      },
      "execution_count": null,
      "outputs": []
    },
    {
      "cell_type": "code",
      "source": [
        "object_class3.test_class1()"
      ],
      "metadata": {
        "colab": {
          "base_uri": "https://localhost:8080/",
          "height": 35
        },
        "id": "E2xgoa1pjbYH",
        "outputId": "3067ad25-c007-4535-b872-83171c25ca32"
      },
      "execution_count": null,
      "outputs": [
        {
          "output_type": "execute_result",
          "data": {
            "text/plain": [
              "'this is a method from class1'"
            ],
            "application/vnd.google.colaboratory.intrinsic+json": {
              "type": "string"
            }
          },
          "metadata": {},
          "execution_count": 275
        }
      ]
    },
    {
      "cell_type": "code",
      "source": [
        "object_class3.test_class2()"
      ],
      "metadata": {
        "colab": {
          "base_uri": "https://localhost:8080/",
          "height": 35
        },
        "id": "pJdnDb8ljfqX",
        "outputId": "aca18a64-93d9-47c6-aefc-31ef11202a4a"
      },
      "execution_count": null,
      "outputs": [
        {
          "output_type": "execute_result",
          "data": {
            "text/plain": [
              "'this is a meth from class 2'"
            ],
            "application/vnd.google.colaboratory.intrinsic+json": {
              "type": "string"
            }
          },
          "metadata": {},
          "execution_count": 276
        }
      ]
    },
    {
      "cell_type": "markdown",
      "source": [
        "multiple inheritance"
      ],
      "metadata": {
        "id": "miMYwRD3lGDY"
      }
    },
    {
      "cell_type": "code",
      "source": [
        "class class1:\n",
        "  def test_class1(self):\n",
        "    return\"this is a class1\""
      ],
      "metadata": {
        "id": "1FJCneuMkYQm"
      },
      "execution_count": null,
      "outputs": []
    },
    {
      "cell_type": "code",
      "source": [
        "class class2:\n",
        "  def test_class2(self):\n",
        "    return\"this is a class2\""
      ],
      "metadata": {
        "id": "U7mxsxhkkatv"
      },
      "execution_count": null,
      "outputs": []
    },
    {
      "cell_type": "code",
      "source": [
        "class class3(class1,class2):\n",
        "  pass\n"
      ],
      "metadata": {
        "id": "W5iliLsQlOpH"
      },
      "execution_count": null,
      "outputs": []
    },
    {
      "cell_type": "code",
      "source": [
        "object_class3=class3()"
      ],
      "metadata": {
        "id": "W2YnOSqalUDH"
      },
      "execution_count": null,
      "outputs": []
    },
    {
      "cell_type": "code",
      "source": [
        "object_class3.test_class2()"
      ],
      "metadata": {
        "colab": {
          "base_uri": "https://localhost:8080/",
          "height": 35
        },
        "id": "xTrriq_dlcSe",
        "outputId": "d949619d-3e8e-4905-d1a3-9d191350cc04"
      },
      "execution_count": null,
      "outputs": [
        {
          "output_type": "execute_result",
          "data": {
            "text/plain": [
              "'this is a class2'"
            ],
            "application/vnd.google.colaboratory.intrinsic+json": {
              "type": "string"
            }
          },
          "metadata": {},
          "execution_count": 283
        }
      ]
    },
    {
      "cell_type": "code",
      "source": [
        "object_class3.test_class1()"
      ],
      "metadata": {
        "colab": {
          "base_uri": "https://localhost:8080/",
          "height": 35
        },
        "id": "TvA2dcaqlhiV",
        "outputId": "9f384170-054c-4719-ba45-db96f9cc1486"
      },
      "execution_count": null,
      "outputs": [
        {
          "output_type": "execute_result",
          "data": {
            "text/plain": [
              "'this is a method from class1'"
            ],
            "application/vnd.google.colaboratory.intrinsic+json": {
              "type": "string"
            }
          },
          "metadata": {},
          "execution_count": 284
        }
      ]
    },
    {
      "cell_type": "markdown",
      "source": [
        "**Abstract in class**"
      ],
      "metadata": {
        "id": "t-Uw1kxgmAb3"
      }
    },
    {
      "cell_type": "code",
      "source": [
        "import abc\n",
        "class pwskills:\n",
        "  @abc.abstractmethod\n",
        "  def student_details(self):\n",
        "    pass\n",
        "  @abc.abstractmethod\n",
        "  def student_assignment(self):\n",
        "    pass\n",
        "  @abc.abstractmethod\n",
        "  def student_marks(self):\n",
        "      pass"
      ],
      "metadata": {
        "id": "3OI2maMYljS-"
      },
      "execution_count": null,
      "outputs": []
    },
    {
      "cell_type": "code",
      "source": [
        "class student_details(pwskills):\n",
        "  def student_details(self):\n",
        "    return\"this is a meth for taking student details\"\n",
        "  def student_assignment(self):\n",
        "    return\"this is a meth for assing details for a perticualt student\""
      ],
      "metadata": {
        "id": "qWv4SWwLmT5t"
      },
      "execution_count": null,
      "outputs": []
    },
    {
      "cell_type": "code",
      "source": [
        "class data_science_masters(pwskills):\n",
        "  def student_details(self):\n",
        "    return\"this will return a student details for data science masters\"\n",
        "  def student_assignment(self):\n",
        "    return\"this will give you a student assignment details for data science masters\""
      ],
      "metadata": {
        "id": "6R95t8mjnBOu"
      },
      "execution_count": null,
      "outputs": []
    },
    {
      "cell_type": "code",
      "source": [
        "dsm=data_science_masters()\n",
        "dsm.student_details()"
      ],
      "metadata": {
        "colab": {
          "base_uri": "https://localhost:8080/",
          "height": 35
        },
        "id": "oRqPhiJjnCnW",
        "outputId": "c4305c11-8a80-4878-8fcd-c8bb997c4908"
      },
      "execution_count": null,
      "outputs": [
        {
          "output_type": "execute_result",
          "data": {
            "text/plain": [
              "'this will return a student details for data science masters'"
            ],
            "application/vnd.google.colaboratory.intrinsic+json": {
              "type": "string"
            }
          },
          "metadata": {},
          "execution_count": 289
        }
      ]
    },
    {
      "cell_type": "code",
      "source": [
        "sd=student_details()\n",
        "sd.student_details()"
      ],
      "metadata": {
        "colab": {
          "base_uri": "https://localhost:8080/",
          "height": 35
        },
        "id": "7pbKk6Nl3SCx",
        "outputId": "1876dc13-3efa-4b81-d7a8-f027fde7e712"
      },
      "execution_count": null,
      "outputs": [
        {
          "output_type": "execute_result",
          "data": {
            "text/plain": [
              "'this is a meth for taking student details'"
            ],
            "application/vnd.google.colaboratory.intrinsic+json": {
              "type": "string"
            }
          },
          "metadata": {},
          "execution_count": 290
        }
      ]
    },
    {
      "cell_type": "code",
      "source": [
        "sa= student_details()\n",
        "sa.student_assignment()"
      ],
      "metadata": {
        "colab": {
          "base_uri": "https://localhost:8080/",
          "height": 35
        },
        "id": "Ye-5EEaW3WOA",
        "outputId": "2c129062-f06f-4e28-fd8c-f4a9795b3a6a"
      },
      "execution_count": null,
      "outputs": [
        {
          "output_type": "execute_result",
          "data": {
            "text/plain": [
              "'this is a meth for assing details for a perticualt student'"
            ],
            "application/vnd.google.colaboratory.intrinsic+json": {
              "type": "string"
            }
          },
          "metadata": {},
          "execution_count": 299
        }
      ]
    },
    {
      "cell_type": "markdown",
      "source": [
        "decorator"
      ],
      "metadata": {
        "id": "BQgSKyUx4f3S"
      }
    },
    {
      "cell_type": "code",
      "source": [
        "def test():\n",
        " print(\"this is the start of my fun\")\n",
        " print(\"this is my fun to test\")\n",
        " print(4+5)\n",
        " print(\"this is the end of my fun\")\n"
      ],
      "metadata": {
        "id": "bu7tXEB137uY"
      },
      "execution_count": 1,
      "outputs": []
    },
    {
      "cell_type": "code",
      "source": [
        "test()"
      ],
      "metadata": {
        "colab": {
          "base_uri": "https://localhost:8080/"
        },
        "id": "woEvFi785HaA",
        "outputId": "423848ab-3f78-44f0-cbbe-b5d6f23f830d"
      },
      "execution_count": 2,
      "outputs": [
        {
          "output_type": "stream",
          "name": "stdout",
          "text": [
            "this is the start of my fun\n",
            "this is my fun to test\n",
            "9\n",
            "this is the end of my fun\n"
          ]
        }
      ]
    },
    {
      "cell_type": "code",
      "source": [
        "def deco(func):\n",
        "  def inner_dec():\n",
        "    print(\"this is the start of my fun\")\n",
        "    func()\n",
        "    print(\"this is the end of my fun\")\n",
        "  return inner_dec"
      ],
      "metadata": {
        "id": "AZlk8bDi5JcX"
      },
      "execution_count": 4,
      "outputs": []
    },
    {
      "cell_type": "code",
      "source": [
        "@deco\n",
        "def test1():\n",
        "  print(6+7)"
      ],
      "metadata": {
        "id": "wzuhEOZv5so4"
      },
      "execution_count": 7,
      "outputs": []
    },
    {
      "cell_type": "code",
      "source": [
        "test1()"
      ],
      "metadata": {
        "colab": {
          "base_uri": "https://localhost:8080/"
        },
        "id": "nOJZgkBNUoB3",
        "outputId": "01150583-17b0-455c-f273-3fb831210122"
      },
      "execution_count": 8,
      "outputs": [
        {
          "output_type": "stream",
          "name": "stdout",
          "text": [
            "this is the start of my fun\n",
            "13\n",
            "this is the end of my fun\n"
          ]
        }
      ]
    },
    {
      "cell_type": "code",
      "source": [
        "import time\n",
        "\n",
        "def timer_test(func):\n",
        "  def timer_test_inner():\n",
        "    start=time.time()\n",
        "    func()\n",
        "    end=time.time()\n",
        "    print(end-start)\n",
        "  return timer_test_inner"
      ],
      "metadata": {
        "id": "dcHkbN6xU0Z-"
      },
      "execution_count": 35,
      "outputs": []
    },
    {
      "cell_type": "code",
      "source": [
        "def test2():\n",
        "  print(45+78)"
      ],
      "metadata": {
        "id": "e7t91HjIWsbl"
      },
      "execution_count": 36,
      "outputs": []
    },
    {
      "cell_type": "code",
      "source": [
        "test2()"
      ],
      "metadata": {
        "colab": {
          "base_uri": "https://localhost:8080/"
        },
        "id": "b8sFZ5e4XFX9",
        "outputId": "2aea8a3e-10cf-4f5b-8bf8-2602fec0aa51"
      },
      "execution_count": 37,
      "outputs": [
        {
          "output_type": "stream",
          "name": "stdout",
          "text": [
            "123\n"
          ]
        }
      ]
    },
    {
      "cell_type": "code",
      "source": [
        "@timer_test\n",
        "def test2():\n",
        "  print(45+78)"
      ],
      "metadata": {
        "id": "2RpeEJMaXMc1"
      },
      "execution_count": 38,
      "outputs": []
    },
    {
      "cell_type": "code",
      "source": [
        "test2()"
      ],
      "metadata": {
        "colab": {
          "base_uri": "https://localhost:8080/"
        },
        "id": "EM67FZ1QXaNV",
        "outputId": "b6ea0493-ee86-4952-d0ca-1c0e63cb7c1c"
      },
      "execution_count": 40,
      "outputs": [
        {
          "output_type": "stream",
          "name": "stdout",
          "text": [
            "123\n",
            "0.0035643577575683594\n"
          ]
        }
      ]
    },
    {
      "cell_type": "code",
      "source": [
        "@timer_test\n",
        "def test():\n",
        "  for i in range(100000000):\n",
        "    pass"
      ],
      "metadata": {
        "id": "Xtjb5hJxXb8W"
      },
      "execution_count": 43,
      "outputs": []
    },
    {
      "cell_type": "code",
      "source": [
        "test()"
      ],
      "metadata": {
        "colab": {
          "base_uri": "https://localhost:8080/"
        },
        "id": "OndIKhqMYEPe",
        "outputId": "439ddb2d-6bda-45e9-8153-938f681ae0cf"
      },
      "execution_count": 44,
      "outputs": [
        {
          "output_type": "stream",
          "name": "stdout",
          "text": [
            "2.16750168800354\n"
          ]
        }
      ]
    },
    {
      "cell_type": "code",
      "source": [
        "\n"
      ],
      "metadata": {
        "id": "gS8brITOYGRF"
      },
      "execution_count": 44,
      "outputs": []
    },
    {
      "cell_type": "markdown",
      "source": [
        "**Class Method- what is class method and how it is dfifferent from instance mehtod**"
      ],
      "metadata": {
        "id": "Wc8t6SdsYQTO"
      }
    },
    {
      "cell_type": "code",
      "source": [
        "class pwskills:\n",
        "  def __init__(self,name,email):\n",
        "    self.name=name\n",
        "    self.email=email\n",
        "\n",
        "  def students_details(self):\n",
        "    print(self.name,self.email)"
      ],
      "metadata": {
        "id": "WlIywXlcYX6u"
      },
      "execution_count": 61,
      "outputs": []
    },
    {
      "cell_type": "code",
      "source": [
        "pw= pwskills(\"jubin\", \"william.henry.moody@my-own-personal-domain.com\")"
      ],
      "metadata": {
        "id": "-PDnT30cZYft"
      },
      "execution_count": 67,
      "outputs": []
    },
    {
      "cell_type": "code",
      "source": [
        "pw.name"
      ],
      "metadata": {
        "colab": {
          "base_uri": "https://localhost:8080/",
          "height": 36
        },
        "id": "nU7Z9EtMZc1N",
        "outputId": "ed5c198d-5b9b-48ce-f5c8-7a922d405f5b"
      },
      "execution_count": 63,
      "outputs": [
        {
          "output_type": "execute_result",
          "data": {
            "text/plain": [
              "'jubin'"
            ],
            "application/vnd.google.colaboratory.intrinsic+json": {
              "type": "string"
            }
          },
          "metadata": {},
          "execution_count": 63
        }
      ]
    },
    {
      "cell_type": "code",
      "source": [
        "pw.email"
      ],
      "metadata": {
        "colab": {
          "base_uri": "https://localhost:8080/",
          "height": 36
        },
        "id": "evkCxGX4Zj6e",
        "outputId": "51150148-e0ce-4dcc-9b88-88c122ac03c9"
      },
      "execution_count": 64,
      "outputs": [
        {
          "output_type": "execute_result",
          "data": {
            "text/plain": [
              "'william.henry.moody@my-own-personal-domain.com'"
            ],
            "application/vnd.google.colaboratory.intrinsic+json": {
              "type": "string"
            }
          },
          "metadata": {},
          "execution_count": 64
        }
      ]
    },
    {
      "cell_type": "code",
      "source": [
        "pw.students_details()"
      ],
      "metadata": {
        "colab": {
          "base_uri": "https://localhost:8080/"
        },
        "id": "6_vGMR9RZl_V",
        "outputId": "a2794a17-ab87-4213-c022-e8c040f0f4f3"
      },
      "execution_count": 69,
      "outputs": [
        {
          "output_type": "stream",
          "name": "stdout",
          "text": [
            "jubin william.henry.moody@my-own-personal-domain.com\n"
          ]
        }
      ]
    },
    {
      "cell_type": "code",
      "source": [
        "class pwskills:\n",
        "  def __init__(self,name,email):\n",
        "    self.name=name\n",
        "    self.email=email\n",
        "\n",
        "  @classmethod\n",
        "  def details(cls,name,email):\n",
        "     return (cls,name,email)\n",
        "\n",
        "  def students_details(self):\n",
        "    print(self.name,self.email)"
      ],
      "metadata": {
        "id": "sTU3dJrzZqE0"
      },
      "execution_count": 89,
      "outputs": []
    },
    {
      "cell_type": "code",
      "source": [
        "pwskills.details(\"sudh\",\"joseph.mckenna@examplepetstore.com\")\n"
      ],
      "metadata": {
        "colab": {
          "base_uri": "https://localhost:8080/"
        },
        "id": "76fvIfk1eX-U",
        "outputId": "d0d87b75-ba7d-44ec-949d-cfba946fcac1"
      },
      "execution_count": 91,
      "outputs": [
        {
          "output_type": "execute_result",
          "data": {
            "text/plain": [
              "(__main__.pwskills, 'sudh', 'joseph.mckenna@examplepetstore.com')"
            ]
          },
          "metadata": {},
          "execution_count": 91
        }
      ]
    },
    {
      "cell_type": "code",
      "source": [
        "pwskills.details(\"sudh\",\"joseph.mckenna@examplepetstore.com\")"
      ],
      "metadata": {
        "colab": {
          "base_uri": "https://localhost:8080/"
        },
        "id": "Wdd_0L17eb2c",
        "outputId": "a373d9c9-baf6-44dc-f7c9-c6ef69710f23"
      },
      "execution_count": 96,
      "outputs": [
        {
          "output_type": "execute_result",
          "data": {
            "text/plain": [
              "(__main__.pwskills, 'sudh', 'joseph.mckenna@examplepetstore.com')"
            ]
          },
          "metadata": {},
          "execution_count": 96
        }
      ]
    },
    {
      "cell_type": "code",
      "source": [
        "pw= pwskills(\"jubin\", \"william.henry.harrison@example-pet-store.com\")"
      ],
      "metadata": {
        "id": "TPfjuckweoI0"
      },
      "execution_count": 97,
      "outputs": []
    },
    {
      "cell_type": "code",
      "source": [
        "pw.name"
      ],
      "metadata": {
        "colab": {
          "base_uri": "https://localhost:8080/",
          "height": 36
        },
        "id": "VxT-Y0KFeqls",
        "outputId": "f3a7e9bc-ee56-435d-86a7-eff24afa5ac5"
      },
      "execution_count": 98,
      "outputs": [
        {
          "output_type": "execute_result",
          "data": {
            "text/plain": [
              "'jubin'"
            ],
            "application/vnd.google.colaboratory.intrinsic+json": {
              "type": "string"
            }
          },
          "metadata": {},
          "execution_count": 98
        }
      ]
    },
    {
      "cell_type": "code",
      "source": [
        "pw.email"
      ],
      "metadata": {
        "colab": {
          "base_uri": "https://localhost:8080/",
          "height": 36
        },
        "id": "LQWDaKvYfhxK",
        "outputId": "5ab7f966-d374-4239-e07d-a55a4a771563"
      },
      "execution_count": 99,
      "outputs": [
        {
          "output_type": "execute_result",
          "data": {
            "text/plain": [
              "'william.henry.harrison@example-pet-store.com'"
            ],
            "application/vnd.google.colaboratory.intrinsic+json": {
              "type": "string"
            }
          },
          "metadata": {},
          "execution_count": 99
        }
      ]
    },
    {
      "cell_type": "code",
      "source": [
        "pw.students_details()"
      ],
      "metadata": {
        "colab": {
          "base_uri": "https://localhost:8080/"
        },
        "id": "Ili2RvZ5fjvT",
        "outputId": "a974f50a-e0ed-4f57-91a7-0437a6105239"
      },
      "execution_count": 101,
      "outputs": [
        {
          "output_type": "stream",
          "name": "stdout",
          "text": [
            "jubin william.henry.harrison@example-pet-store.com\n"
          ]
        }
      ]
    },
    {
      "cell_type": "markdown",
      "source": [
        "new example- accending a new variable outside the fucntion with help of class method , concept of overloading"
      ],
      "metadata": {
        "id": "KgtgrjNEggK-"
      }
    },
    {
      "cell_type": "code",
      "source": [
        "class pwskills2:\n",
        "\n",
        "  mobile_num=9123456789\n",
        "  def __init__(self,name,email):\n",
        "    self.name=name\n",
        "    self.email=email\n",
        "\n",
        "  @classmethod\n",
        "  def change_num(cls,mobile):\n",
        "    pwskills2.mobile_num=mobile\n",
        "\n",
        "  @classmethod\n",
        "  def details(cls,name,email):\n",
        "     return (cls,name,email)\n",
        "\n",
        "  def students_details(self):\n",
        "    print(self.name,self.email)"
      ],
      "metadata": {
        "id": "TS-JhYpzf4EF"
      },
      "execution_count": 114,
      "outputs": []
    },
    {
      "cell_type": "code",
      "source": [
        "pwskills2.mobile_num"
      ],
      "metadata": {
        "colab": {
          "base_uri": "https://localhost:8080/"
        },
        "id": "uf0u_-e1glJ8",
        "outputId": "fcd3b707-c783-46c9-bf49-47fe3c06a7c9"
      },
      "execution_count": 108,
      "outputs": [
        {
          "output_type": "execute_result",
          "data": {
            "text/plain": [
              "9123456789"
            ]
          },
          "metadata": {},
          "execution_count": 108
        }
      ]
    },
    {
      "cell_type": "code",
      "source": [
        "pwskills2.change_num(7478358)"
      ],
      "metadata": {
        "id": "6R9emH7qgpyc"
      },
      "execution_count": 115,
      "outputs": []
    },
    {
      "cell_type": "code",
      "source": [
        "pwskills2.mobile_num"
      ],
      "metadata": {
        "colab": {
          "base_uri": "https://localhost:8080/"
        },
        "id": "Mi1YarONhlob",
        "outputId": "f3a19056-02e7-4f4c-f964-9c35cd922f08"
      },
      "execution_count": 116,
      "outputs": [
        {
          "output_type": "execute_result",
          "data": {
            "text/plain": [
              "7478358"
            ]
          },
          "metadata": {},
          "execution_count": 116
        }
      ]
    },
    {
      "cell_type": "markdown",
      "source": [
        "ex- accesing the variable inside the method"
      ],
      "metadata": {
        "id": "f-OoQvlliG4Z"
      }
    },
    {
      "cell_type": "code",
      "source": [
        "class pwskills2:\n",
        "\n",
        "  mobile_num=9123456789\n",
        "  def __init__(self,name,email):\n",
        "    self.name=name\n",
        "    self.email=email\n",
        "\n",
        "  @classmethod\n",
        "  def change_num(cls,mobile):\n",
        "    pwskills2.mobile_num=mobile\n",
        "\n",
        "  @classmethod\n",
        "  def details(cls,name,email):\n",
        "     return (cls,name,email)\n",
        "\n",
        "  def students_details(self):\n",
        "    print(self.name,self.email,pwskills2.mobile_num)"
      ],
      "metadata": {
        "id": "LXnBJwAshncs"
      },
      "execution_count": 135,
      "outputs": []
    },
    {
      "cell_type": "code",
      "source": [
        "pw_object=  pwskills2(\"jubin\",\"john.quincy.adams@examplepetstore.com\")"
      ],
      "metadata": {
        "id": "LV73N0hkiGFj"
      },
      "execution_count": 126,
      "outputs": []
    },
    {
      "cell_type": "code",
      "source": [
        "pw_object.students_details()"
      ],
      "metadata": {
        "colab": {
          "base_uri": "https://localhost:8080/"
        },
        "id": "twKg5S92iZZj",
        "outputId": "a67337a5-4871-4ff1-e9cd-bad5cb3f3701"
      },
      "execution_count": 128,
      "outputs": [
        {
          "output_type": "stream",
          "name": "stdout",
          "text": [
            "jubin john.quincy.adams@examplepetstore.com 9123456789\n"
          ]
        }
      ]
    },
    {
      "cell_type": "markdown",
      "source": [
        "##new method , accesing the details through class method by creating a variable"
      ],
      "metadata": {
        "id": "AVvyXcSdjNCk"
      }
    },
    {
      "cell_type": "code",
      "source": [
        "pw= pwskills2.details(\"Jubin\",\"jubinagrawal@gmail.com\")"
      ],
      "metadata": {
        "id": "WJRFcfaTiu_7"
      },
      "execution_count": 142,
      "outputs": []
    },
    {
      "cell_type": "code",
      "source": [
        "pw.students_details()"
      ],
      "metadata": {
        "colab": {
          "base_uri": "https://localhost:8080/",
          "height": 144
        },
        "id": "nBkefCBMjb2D",
        "outputId": "e7a80b9a-8cbb-488b-e15c-7e0570322ae5"
      },
      "execution_count": 143,
      "outputs": [
        {
          "output_type": "error",
          "ename": "AttributeError",
          "evalue": "'tuple' object has no attribute 'students_details'",
          "traceback": [
            "\u001b[0;31m---------------------------------------------------------------------------\u001b[0m",
            "\u001b[0;31mAttributeError\u001b[0m                            Traceback (most recent call last)",
            "\u001b[0;32m<ipython-input-143-31f1ed5dd34b>\u001b[0m in \u001b[0;36m<cell line: 0>\u001b[0;34m()\u001b[0m\n\u001b[0;32m----> 1\u001b[0;31m \u001b[0mpw\u001b[0m\u001b[0;34m.\u001b[0m\u001b[0mstudents_details\u001b[0m\u001b[0;34m(\u001b[0m\u001b[0;34m)\u001b[0m\u001b[0;34m\u001b[0m\u001b[0;34m\u001b[0m\u001b[0m\n\u001b[0m",
            "\u001b[0;31mAttributeError\u001b[0m: 'tuple' object has no attribute 'students_details'"
          ]
        }
      ]
    },
    {
      "cell_type": "markdown",
      "source": [
        "new example"
      ],
      "metadata": {
        "id": "Ib6nESr5kn9k"
      }
    },
    {
      "cell_type": "code",
      "source": [
        "class pwskills3:\n",
        "\n",
        "  mobile_num=9123456789\n",
        "  def __init__(self,name,email):\n",
        "    self.name=name\n",
        "    self.email=email\n",
        "\n",
        "  @classmethod\n",
        "  def change_num(cls,mobile):\n",
        "    pwskills2.mobile_num=mobile\n",
        "\n",
        "  @classmethod\n",
        "  def details(cls,name,email):\n",
        "     return (cls,name,email)\n",
        "\n",
        "  def students_details(self):\n",
        "    print(self.name,self.email,pwskills2.mobile_num)"
      ],
      "metadata": {
        "id": "2Gs9XE3Wjm1j"
      },
      "execution_count": 144,
      "outputs": []
    },
    {
      "cell_type": "markdown",
      "source": [
        "creating a external funciton which is not a part of our class and we will try to add this external fucntion to our class ,\n",
        ">>clas stand for class method"
      ],
      "metadata": {
        "id": "KTHQeV25kvbk"
      }
    },
    {
      "cell_type": "code",
      "source": [
        "def course_details(cls,course_name):\n",
        "  print(\"course name is\",course_name)\n"
      ],
      "metadata": {
        "id": "KgLn8ZNqksTz"
      },
      "execution_count": 145,
      "outputs": []
    },
    {
      "cell_type": "code",
      "source": [
        "pwskills3.course_details=classmethod(course_details)"
      ],
      "metadata": {
        "id": "-q7wHRwylJzj"
      },
      "execution_count": 146,
      "outputs": []
    },
    {
      "cell_type": "code",
      "source": [
        "pwskills3.course_details(\"data science masters\")"
      ],
      "metadata": {
        "colab": {
          "base_uri": "https://localhost:8080/"
        },
        "id": "sFTlvqStlaPT",
        "outputId": "6feb95a0-0662-45b6-ef1f-44a7cbcf13b6"
      },
      "execution_count": 147,
      "outputs": [
        {
          "output_type": "stream",
          "name": "stdout",
          "text": [
            "course name is data science masters\n"
          ]
        }
      ]
    },
    {
      "cell_type": "markdown",
      "source": [
        "##adding new fucntion to the class"
      ],
      "metadata": {
        "id": "TH5bxTjYmJpE"
      }
    },
    {
      "cell_type": "code",
      "source": [
        "def mentor(cls,list_of_mentor):\n",
        "  print(list_of_mentor)"
      ],
      "metadata": {
        "id": "CkrRGK9HmAfT"
      },
      "execution_count": 148,
      "outputs": []
    },
    {
      "cell_type": "code",
      "source": [
        "pwskills3.mentor= classmethod(mentor)"
      ],
      "metadata": {
        "id": "k5B2vA7CmOVD"
      },
      "execution_count": 149,
      "outputs": []
    },
    {
      "cell_type": "code",
      "source": [
        "pwskills3.mentor([\"sudhanshu\",\"krish naik\"])"
      ],
      "metadata": {
        "colab": {
          "base_uri": "https://localhost:8080/"
        },
        "id": "RA_IuN7imY06",
        "outputId": "16599fc0-98cb-4d8f-c0da-0b136afb5ccf"
      },
      "execution_count": 152,
      "outputs": [
        {
          "output_type": "stream",
          "name": "stdout",
          "text": [
            "['sudhanshu', 'krish naik']\n"
          ]
        }
      ]
    },
    {
      "cell_type": "markdown",
      "source": [
        "checking the class blueprint after adding external fucntions in the class~"
      ],
      "metadata": {
        "id": "fbE9RFtgmsQD"
      }
    },
    {
      "cell_type": "markdown",
      "source": [
        "deavtivating functions inside the class"
      ],
      "metadata": {
        "id": "4557tLTcnAt0"
      }
    },
    {
      "cell_type": "code",
      "source": [
        "class pwskills4:\n",
        "\n",
        "  mobile_num=9123456789\n",
        "  def __init__(self,name,email):\n",
        "    self.name=name\n",
        "    self.email=email\n",
        "\n",
        "  @classmethod\n",
        "  def change_num(cls,mobile):\n",
        "    pwskills2.mobile_num=mobile\n",
        "\n",
        "  @classmethod\n",
        "  def details(cls,name,email):\n",
        "     return (cls,name,email)\n",
        "\n",
        "  def students_details(self):\n",
        "    print(self.name,self.email,pwskills2.mobile_num)"
      ],
      "metadata": {
        "id": "BxR03MclmdHD"
      },
      "execution_count": 165,
      "outputs": []
    },
    {
      "cell_type": "markdown",
      "source": [
        "for example deleting change no. function inside the funtion"
      ],
      "metadata": {
        "id": "_QyKKhlvnEST"
      }
    },
    {
      "cell_type": "code",
      "source": [
        "del pwskills4.change_num"
      ],
      "metadata": {
        "id": "uU99pgMNm5bD"
      },
      "execution_count": 166,
      "outputs": []
    },
    {
      "cell_type": "markdown",
      "source": [
        "error ,essage displayed show you , that change no fucntion has been deleted from the class"
      ],
      "metadata": {
        "id": "gwher6kJnQsz"
      }
    },
    {
      "cell_type": "code",
      "source": [
        "pwskills4.change_num(234567)"
      ],
      "metadata": {
        "colab": {
          "base_uri": "https://localhost:8080/",
          "height": 144
        },
        "id": "Yz3xLM4hnLdD",
        "outputId": "906a9a0a-adcc-4bbc-95aa-7f4460a4b52e"
      },
      "execution_count": 167,
      "outputs": [
        {
          "output_type": "error",
          "ename": "AttributeError",
          "evalue": "type object 'pwskills4' has no attribute 'change_num'",
          "traceback": [
            "\u001b[0;31m---------------------------------------------------------------------------\u001b[0m",
            "\u001b[0;31mAttributeError\u001b[0m                            Traceback (most recent call last)",
            "\u001b[0;32m<ipython-input-167-dcca000bc07a>\u001b[0m in \u001b[0;36m<cell line: 0>\u001b[0;34m()\u001b[0m\n\u001b[0;32m----> 1\u001b[0;31m \u001b[0mpwskills4\u001b[0m\u001b[0;34m.\u001b[0m\u001b[0mchange_num\u001b[0m\u001b[0;34m(\u001b[0m\u001b[0;36m234567\u001b[0m\u001b[0;34m)\u001b[0m\u001b[0;34m\u001b[0m\u001b[0;34m\u001b[0m\u001b[0m\n\u001b[0m",
            "\u001b[0;31mAttributeError\u001b[0m: type object 'pwskills4' has no attribute 'change_num'"
          ]
        }
      ]
    },
    {
      "cell_type": "markdown",
      "source": [
        "delting the fucntion with the help of another fucntion"
      ],
      "metadata": {
        "id": "hh3c-SdCnZfj"
      }
    },
    {
      "cell_type": "markdown",
      "source": [
        "error msg shows that due to ..delattr , the fucntion has been deleted from the class"
      ],
      "metadata": {
        "id": "kK2KpSitnlgr"
      }
    },
    {
      "cell_type": "code",
      "source": [
        "delattr(pwskills4,\"details\")"
      ],
      "metadata": {
        "id": "sMZp2YARnO5T"
      },
      "execution_count": 168,
      "outputs": []
    },
    {
      "cell_type": "code",
      "source": [
        "pwskills4.details()"
      ],
      "metadata": {
        "colab": {
          "base_uri": "https://localhost:8080/",
          "height": 144
        },
        "id": "dEcY8HmdngZL",
        "outputId": "c8ec5140-6e96-4ba7-af0a-22fe7bad891e"
      },
      "execution_count": 169,
      "outputs": [
        {
          "output_type": "error",
          "ename": "AttributeError",
          "evalue": "type object 'pwskills4' has no attribute 'details'",
          "traceback": [
            "\u001b[0;31m---------------------------------------------------------------------------\u001b[0m",
            "\u001b[0;31mAttributeError\u001b[0m                            Traceback (most recent call last)",
            "\u001b[0;32m<ipython-input-169-d46ea97e4eaf>\u001b[0m in \u001b[0;36m<cell line: 0>\u001b[0;34m()\u001b[0m\n\u001b[0;32m----> 1\u001b[0;31m \u001b[0mpwskills4\u001b[0m\u001b[0;34m.\u001b[0m\u001b[0mdetails\u001b[0m\u001b[0;34m(\u001b[0m\u001b[0;34m)\u001b[0m\u001b[0;34m\u001b[0m\u001b[0;34m\u001b[0m\u001b[0m\n\u001b[0m",
            "\u001b[0;31mAttributeError\u001b[0m: type object 'pwskills4' has no attribute 'details'"
          ]
        }
      ]
    },
    {
      "cell_type": "markdown",
      "source": [
        "##deleted those fucntion which are not the attribute of classmehtod fucntion"
      ],
      "metadata": {
        "id": "TYntuBB0nvCy"
      }
    },
    {
      "cell_type": "code",
      "source": [
        "delattr(pwskills4,\"students_details\")"
      ],
      "metadata": {
        "id": "Gzn0oFWQnkDq"
      },
      "execution_count": 170,
      "outputs": []
    },
    {
      "cell_type": "markdown",
      "source": [
        "the error msg shows that the fucntion student_details has been deleted from the class"
      ],
      "metadata": {
        "id": "Qdwf7dDPoOR7"
      }
    },
    {
      "cell_type": "code",
      "source": [
        "pwskills4.students_details()"
      ],
      "metadata": {
        "colab": {
          "base_uri": "https://localhost:8080/",
          "height": 144
        },
        "id": "k0WDD1SXn7pT",
        "outputId": "62cbf844-0197-484d-e3b8-5a830258a0cf"
      },
      "execution_count": 171,
      "outputs": [
        {
          "output_type": "error",
          "ename": "AttributeError",
          "evalue": "type object 'pwskills4' has no attribute 'students_details'",
          "traceback": [
            "\u001b[0;31m---------------------------------------------------------------------------\u001b[0m",
            "\u001b[0;31mAttributeError\u001b[0m                            Traceback (most recent call last)",
            "\u001b[0;32m<ipython-input-171-189aa23910e7>\u001b[0m in \u001b[0;36m<cell line: 0>\u001b[0;34m()\u001b[0m\n\u001b[0;32m----> 1\u001b[0;31m \u001b[0mpwskills4\u001b[0m\u001b[0;34m.\u001b[0m\u001b[0mstudents_details\u001b[0m\u001b[0;34m(\u001b[0m\u001b[0;34m)\u001b[0m\u001b[0;34m\u001b[0m\u001b[0;34m\u001b[0m\u001b[0m\n\u001b[0m",
            "\u001b[0;31mAttributeError\u001b[0m: type object 'pwskills4' has no attribute 'students_details'"
          ]
        }
      ]
    },
    {
      "cell_type": "markdown",
      "source": [
        "##trying deleitng the variable from class"
      ],
      "metadata": {
        "id": "5GVhXMuyoZjk"
      }
    },
    {
      "cell_type": "code",
      "source": [
        "delattr(pwskills4,\"mobile_num\")"
      ],
      "metadata": {
        "id": "pcFTU2h4oNjD"
      },
      "execution_count": 173,
      "outputs": []
    },
    {
      "cell_type": "code",
      "source": [
        "pwskills4.mobile_num"
      ],
      "metadata": {
        "colab": {
          "base_uri": "https://localhost:8080/",
          "height": 144
        },
        "id": "dTjvNyOYox4y",
        "outputId": "b722dae9-95c9-43f6-f34d-b0480573ffd8"
      },
      "execution_count": 174,
      "outputs": [
        {
          "output_type": "error",
          "ename": "AttributeError",
          "evalue": "type object 'pwskills4' has no attribute 'mobile_num'",
          "traceback": [
            "\u001b[0;31m---------------------------------------------------------------------------\u001b[0m",
            "\u001b[0;31mAttributeError\u001b[0m                            Traceback (most recent call last)",
            "\u001b[0;32m<ipython-input-174-c54a5a2b27eb>\u001b[0m in \u001b[0;36m<cell line: 0>\u001b[0;34m()\u001b[0m\n\u001b[0;32m----> 1\u001b[0;31m \u001b[0mpwskills4\u001b[0m\u001b[0;34m.\u001b[0m\u001b[0mmobile_num\u001b[0m\u001b[0;34m\u001b[0m\u001b[0;34m\u001b[0m\u001b[0m\n\u001b[0m",
            "\u001b[0;31mAttributeError\u001b[0m: type object 'pwskills4' has no attribute 'mobile_num'"
          ]
        }
      ]
    },
    {
      "cell_type": "markdown",
      "source": [
        "Summary- till now we have seen that how we can pass the data out __init__ function, basically to overload the data with new fucntion , which help us to create new fucntion and edit,del and create them with the help of classmethod"
      ],
      "metadata": {
        "id": "CRY4NHYQpALS"
      }
    },
    {
      "cell_type": "markdown",
      "source": [
        "**Static** **Method**- Creating a fucntion which we can access , without creaitng an object, >>static decorator"
      ],
      "metadata": {
        "id": "gud7alHupYAi"
      }
    },
    {
      "cell_type": "code",
      "source": [
        "class pwskills:\n",
        "\n",
        "  def student_details(self,name,mail_id,number):\n",
        "    print(name,mail_id,number)"
      ],
      "metadata": {
        "id": "QfcC-7Jgo04B"
      },
      "execution_count": 184,
      "outputs": []
    },
    {
      "cell_type": "code",
      "source": [
        "pw= pwskills()"
      ],
      "metadata": {
        "id": "pckT1Ws2rM12"
      },
      "execution_count": 176,
      "outputs": []
    },
    {
      "cell_type": "code",
      "source": [
        "pw.student_details(\"Jubin\",\"agrawaljubin@gmail.com\", 887890880)"
      ],
      "metadata": {
        "id": "lz2Op4MZrh3_",
        "outputId": "96e5e136-e012-4098-d87c-e843798cbbc5",
        "colab": {
          "base_uri": "https://localhost:8080/"
        }
      },
      "execution_count": 185,
      "outputs": [
        {
          "output_type": "stream",
          "name": "stdout",
          "text": [
            "Jubin agrawaljubin@gmail.com 887890880\n"
          ]
        }
      ]
    },
    {
      "cell_type": "code",
      "source": [
        "class pwskills:\n",
        "\n",
        "  def student_details(self,name,mail_id,number):\n",
        "    print(name,mail_id,number)\n",
        "\n",
        "  @staticmethod\n",
        "  def mentor_class(list_mentor):\n",
        "      print(list_mentor)\n",
        "\n",
        "  def mentor(self,mentor_list):\n",
        "        print(mentor_list)\n"
      ],
      "metadata": {
        "id": "_AqY5MqXrp_3"
      },
      "execution_count": 197,
      "outputs": []
    },
    {
      "cell_type": "code",
      "source": [
        "pwskills.mentor_class([\"sudh\",\"krish\"])"
      ],
      "metadata": {
        "id": "iHLIF1-hsL7u",
        "outputId": "b341edfe-f6cb-4408-cc2e-47d4d92bde1e",
        "colab": {
          "base_uri": "https://localhost:8080/"
        }
      },
      "execution_count": 198,
      "outputs": [
        {
          "output_type": "stream",
          "name": "stdout",
          "text": [
            "['sudh', 'krish']\n"
          ]
        }
      ]
    },
    {
      "cell_type": "code",
      "source": [
        "stu1= pwskills()"
      ],
      "metadata": {
        "id": "BjAWAxJYsOLe"
      },
      "execution_count": 199,
      "outputs": []
    },
    {
      "cell_type": "code",
      "source": [
        "stu2=pwskills()"
      ],
      "metadata": {
        "id": "AgnohzzVs9le"
      },
      "execution_count": 200,
      "outputs": []
    },
    {
      "cell_type": "code",
      "source": [
        "stud3= pwskills()"
      ],
      "metadata": {
        "id": "N8WMuBOis-_W"
      },
      "execution_count": 201,
      "outputs": []
    },
    {
      "cell_type": "code",
      "source": [
        "stu1.mentor([\"sudh\",\"krish\"])"
      ],
      "metadata": {
        "id": "mD6a44KStBoF",
        "outputId": "87479893-2715-4e2c-f22f-de86ec47795c",
        "colab": {
          "base_uri": "https://localhost:8080/"
        }
      },
      "execution_count": 202,
      "outputs": [
        {
          "output_type": "stream",
          "name": "stdout",
          "text": [
            "['sudh', 'krish']\n"
          ]
        }
      ]
    },
    {
      "cell_type": "markdown",
      "source": [
        "if we create again and again new object which would not be very useful and efficinet , becuase for every object we have to write new fucntion , which would increase the memory consuption a lot , instead of doing this we can simple use staic method , which would descrease the memory consuption"
      ],
      "metadata": {
        "id": "NPZiyBKot_C-"
      }
    },
    {
      "cell_type": "code",
      "source": [
        "class pwskills2 :\n",
        "\n",
        "  def student_details(self,name,mail_id,number):\n",
        "    print(name,mail_id,number)\n",
        "\n",
        "  @staticmethod\n",
        "  def mentor_class(list_mentor):\n",
        "      print(list_mentor)\n",
        "\n",
        "  @classmethod\n",
        "  def class_name(cls):\n",
        "      cls.mentor_class([\"sudh\",\"krish\"])\n",
        "\n",
        "  def mentor(self,mentor_list):\n",
        "        print(mentor_list)"
      ],
      "metadata": {
        "id": "129XfpKCt6AQ"
      },
      "execution_count": 208,
      "outputs": []
    },
    {
      "cell_type": "code",
      "source": [
        "pwskills2.class_name()"
      ],
      "metadata": {
        "id": "hSP9kENXvQr-",
        "outputId": "11c38aff-0814-4717-fa57-eefeb22bdd41",
        "colab": {
          "base_uri": "https://localhost:8080/"
        }
      },
      "execution_count": 210,
      "outputs": [
        {
          "output_type": "stream",
          "name": "stdout",
          "text": [
            "['sudh', 'krish']\n"
          ]
        }
      ]
    },
    {
      "cell_type": "code",
      "source": [],
      "metadata": {
        "id": "5JDFqt25vSue"
      },
      "execution_count": null,
      "outputs": []
    }
  ]
}