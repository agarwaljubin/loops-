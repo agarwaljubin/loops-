{
  "nbformat": 4,
  "nbformat_minor": 0,
  "metadata": {
    "colab": {
      "provenance": [],
      "authorship_tag": "ABX9TyPzYKdeUABvpuiXX0C70TuF",
      "include_colab_link": true
    },
    "kernelspec": {
      "name": "python3",
      "display_name": "Python 3"
    },
    "language_info": {
      "name": "python"
    }
  },
  "cells": [
    {
      "cell_type": "markdown",
      "metadata": {
        "id": "view-in-github",
        "colab_type": "text"
      },
      "source": [
        "<a href=\"https://colab.research.google.com/github/agarwaljubin/loops-/blob/main/class.ipynb\" target=\"_parent\"><img src=\"https://colab.research.google.com/assets/colab-badge.svg\" alt=\"Open In Colab\"/></a>"
      ]
    },
    {
      "cell_type": "code",
      "execution_count": null,
      "metadata": {
        "id": "kkYM0Dj8YGvJ"
      },
      "outputs": [],
      "source": [
        "class pwskills:\n",
        "  def welcome_msg(self):\n",
        "   print(\"welcome to pwskills\")"
      ]
    },
    {
      "cell_type": "code",
      "source": [
        "rohan = pwskills()"
      ],
      "metadata": {
        "id": "TmZU2CM3YLV0"
      },
      "execution_count": null,
      "outputs": []
    },
    {
      "cell_type": "code",
      "source": [
        "print(type(rohan))"
      ],
      "metadata": {
        "colab": {
          "base_uri": "https://localhost:8080/"
        },
        "id": "nA2wxIvgYbFR",
        "outputId": "6425e0a8-c5dc-4adf-ddfe-af20103f3197"
      },
      "execution_count": null,
      "outputs": [
        {
          "output_type": "stream",
          "name": "stdout",
          "text": [
            "<class '__main__.pwskills'>\n"
          ]
        }
      ]
    },
    {
      "cell_type": "code",
      "source": [
        "rohan.welcome_msg()"
      ],
      "metadata": {
        "colab": {
          "base_uri": "https://localhost:8080/"
        },
        "id": "Qa1bpUC6Yoa5",
        "outputId": "c354eec3-b822-419e-8b96-5f5c63a5f88b"
      },
      "execution_count": null,
      "outputs": [
        {
          "output_type": "stream",
          "name": "stdout",
          "text": [
            "welcome to pwskills\n"
          ]
        }
      ]
    },
    {
      "cell_type": "code",
      "source": [
        "jubin= pwskills()"
      ],
      "metadata": {
        "id": "zV3hk9CbZSTp"
      },
      "execution_count": null,
      "outputs": []
    },
    {
      "cell_type": "code",
      "source": [
        "jubin.welcome_msg()"
      ],
      "metadata": {
        "colab": {
          "base_uri": "https://localhost:8080/"
        },
        "id": "K3h6F3pkbDO5",
        "outputId": "7db1abc7-db60-492d-d240-273aa4bb0ed4"
      },
      "execution_count": null,
      "outputs": [
        {
          "output_type": "stream",
          "name": "stdout",
          "text": [
            "welcome to pwskills\n"
          ]
        }
      ]
    },
    {
      "cell_type": "markdown",
      "source": [
        "Here we create aclass specific to a object"
      ],
      "metadata": {
        "id": "BBloW83dbXpx"
      }
    },
    {
      "cell_type": "code",
      "source": [
        "class pwskills1:\n",
        "\n",
        "    def __init__(self,phone_number,email_id,student_id):\n",
        "        self.phone_number = phone_number\n",
        "        self.email_id = email_id\n",
        "        self.student_id = student_id\n",
        "    def return_student_details(self):\n",
        "            return self.student_id,self.phone_number,self.email_id\n"
      ],
      "metadata": {
        "id": "SLfki0ogbFv5"
      },
      "execution_count": null,
      "outputs": []
    },
    {
      "cell_type": "code",
      "source": [
        "rohan= pwskills1()##(when their is no data assign to the variable than we will get an error becuase we use the fucntion here initialization , which require specific data for the variable )"
      ],
      "metadata": {
        "colab": {
          "base_uri": "https://localhost:8080/",
          "height": 176
        },
        "id": "FnqTXpjiberp",
        "outputId": "8acae358-f2d1-4da7-f5a6-7a5e286bf1c2"
      },
      "execution_count": null,
      "outputs": [
        {
          "output_type": "error",
          "ename": "TypeError",
          "evalue": "pwskills1.__init__() missing 3 required positional arguments: 'phone_number', 'email_id', and 'student_id'",
          "traceback": [
            "\u001b[0;31m---------------------------------------------------------------------------\u001b[0m",
            "\u001b[0;31mTypeError\u001b[0m                                 Traceback (most recent call last)",
            "\u001b[0;32m<ipython-input-46-a245d6ed90d8>\u001b[0m in \u001b[0;36m<cell line: 0>\u001b[0;34m()\u001b[0m\n\u001b[0;32m----> 1\u001b[0;31m \u001b[0mrohan\u001b[0m\u001b[0;34m=\u001b[0m \u001b[0mpwskills1\u001b[0m\u001b[0;34m(\u001b[0m\u001b[0;34m)\u001b[0m\u001b[0;31m##(when their is no data assign to the variable than we will get an error becuase we use the fucntion here initialization , which require specific data for the variable )\u001b[0m\u001b[0;34m\u001b[0m\u001b[0;34m\u001b[0m\u001b[0m\n\u001b[0m",
            "\u001b[0;31mTypeError\u001b[0m: pwskills1.__init__() missing 3 required positional arguments: 'phone_number', 'email_id', and 'student_id'"
          ]
        }
      ]
    },
    {
      "cell_type": "code",
      "source": [
        "jubin= pwskills1(93786879,\"agrawaljubin@gmail.com\", 8104595)"
      ],
      "metadata": {
        "id": "1Rw_DK_mdQsY"
      },
      "execution_count": null,
      "outputs": []
    },
    {
      "cell_type": "code",
      "source": [
        "jubin.return_student_details()"
      ],
      "metadata": {
        "colab": {
          "base_uri": "https://localhost:8080/"
        },
        "id": "x0teAQ34dxug",
        "outputId": "64c22ee5-279b-48bc-829a-bee0bea002c6"
      },
      "execution_count": null,
      "outputs": [
        {
          "output_type": "execute_result",
          "data": {
            "text/plain": [
              "(8104595, 93786879, 'agrawaljubin@gmail.com')"
            ]
          },
          "metadata": {},
          "execution_count": 64
        }
      ]
    },
    {
      "cell_type": "code",
      "source": [
        "jubin.phone_number"
      ],
      "metadata": {
        "colab": {
          "base_uri": "https://localhost:8080/"
        },
        "id": "BCF-v7fNePFI",
        "outputId": "3b6fba36-1716-44a3-a9c1-9f1b8d525658"
      },
      "execution_count": null,
      "outputs": [
        {
          "output_type": "execute_result",
          "data": {
            "text/plain": [
              "93786879"
            ]
          },
          "metadata": {},
          "execution_count": 66
        }
      ]
    },
    {
      "cell_type": "code",
      "source": [
        "jubin.email_id"
      ],
      "metadata": {
        "colab": {
          "base_uri": "https://localhost:8080/",
          "height": 35
        },
        "id": "H1j0eCuUjQ1P",
        "outputId": "5f5243e8-c97c-4a36-ead6-892ca31a149a"
      },
      "execution_count": null,
      "outputs": [
        {
          "output_type": "execute_result",
          "data": {
            "text/plain": [
              "'agrawaljubin@gmail.com'"
            ],
            "application/vnd.google.colaboratory.intrinsic+json": {
              "type": "string"
            }
          },
          "metadata": {},
          "execution_count": 69
        }
      ]
    },
    {
      "cell_type": "code",
      "source": [
        "gaurav= pwskills1(937868780,\"agrawalgaurav@gmail.com\", 8104597)"
      ],
      "metadata": {
        "id": "L-LCXY2XhdaY"
      },
      "execution_count": null,
      "outputs": []
    },
    {
      "cell_type": "code",
      "source": [
        "gaurav.return_student_details()"
      ],
      "metadata": {
        "colab": {
          "base_uri": "https://localhost:8080/"
        },
        "id": "jr7otYxHhqzI",
        "outputId": "adac6380-52d3-44b8-98f5-173b18791b3b"
      },
      "execution_count": null,
      "outputs": [
        {
          "output_type": "execute_result",
          "data": {
            "text/plain": [
              "(8104597, 937868780, 'agrawalgaurav@gmail.com')"
            ]
          },
          "metadata": {},
          "execution_count": 53
        }
      ]
    },
    {
      "cell_type": "markdown",
      "source": [
        "analysing self keyword"
      ],
      "metadata": {
        "id": "wXnsi0hBinJI"
      }
    },
    {
      "cell_type": "code",
      "source": [
        "class pwskills2:\n",
        "\n",
        "    def __init__(self,phone_number,email_id,student_id):\n",
        "        self.phone_number1 = phone_number\n",
        "        self.email_id1 = email_id\n",
        "        self.student_id1 = student_id\n",
        "    def return_student_details(self):\n",
        "            return self.student_id1,self.phone_number1,self.email_id1"
      ],
      "metadata": {
        "id": "t71vEqolhtXw"
      },
      "execution_count": null,
      "outputs": []
    },
    {
      "cell_type": "code",
      "source": [
        "sudhanshu= pwskills2(937868780,\"agrawalsudhanshu@gmail.com\", 8104597)"
      ],
      "metadata": {
        "id": "_EhAoYlSitX5"
      },
      "execution_count": null,
      "outputs": []
    },
    {
      "cell_type": "code",
      "source": [
        "sudhanshu"
      ],
      "metadata": {
        "colab": {
          "base_uri": "https://localhost:8080/"
        },
        "id": "T3y8xNuJi0-g",
        "outputId": "2217b58b-d5c3-4063-d11b-1a12081476dc"
      },
      "execution_count": null,
      "outputs": [
        {
          "output_type": "execute_result",
          "data": {
            "text/plain": [
              "<__main__.pwskills2 at 0x7daf6703b810>"
            ]
          },
          "metadata": {},
          "execution_count": 144
        }
      ]
    },
    {
      "cell_type": "code",
      "source": [
        "sudhanshu.phone_number1"
      ],
      "metadata": {
        "colab": {
          "base_uri": "https://localhost:8080/"
        },
        "id": "5dx_BdPSi18Y",
        "outputId": "62a68bdb-c487-4011-d3c7-ff727f17664d"
      },
      "execution_count": null,
      "outputs": [
        {
          "output_type": "execute_result",
          "data": {
            "text/plain": [
              "937868780"
            ]
          },
          "metadata": {},
          "execution_count": 146
        }
      ]
    },
    {
      "cell_type": "code",
      "source": [
        "sudhanshu.return_student_details()"
      ],
      "metadata": {
        "colab": {
          "base_uri": "https://localhost:8080/"
        },
        "id": "bZ7G7USAjcRY",
        "outputId": "c0231ebb-8d24-4d8d-fa4e-38d9d3d16586"
      },
      "execution_count": null,
      "outputs": [
        {
          "output_type": "execute_result",
          "data": {
            "text/plain": [
              "(8104597, 937868780, 'agrawalsudhanshu@gmail.com')"
            ]
          },
          "metadata": {},
          "execution_count": 147
        }
      ]
    },
    {
      "cell_type": "markdown",
      "source": [
        "about the key word self - we can use any keyword instead of self if we want becuase self is not a reserve keyword in python"
      ],
      "metadata": {
        "id": "QVaiFtYpmVp_"
      }
    },
    {
      "cell_type": "code",
      "source": [
        "class pwskills2:\n",
        "\n",
        "    def __init__(Jub,phone_number,email_id,student_id):\n",
        "        Jub.phone_number1 = phone_number\n",
        "        Jub.email_id1 = email_id\n",
        "        Jub.student_id1 = student_id\n",
        "    def return_student_details(Jub):\n",
        "            return Jub.student_id1,Jub.phone_number1,Jub.email_id1"
      ],
      "metadata": {
        "id": "lwbPEzj0kIsa"
      },
      "execution_count": null,
      "outputs": []
    },
    {
      "cell_type": "code",
      "source": [
        "Jubin= pwskills2(937868780,\"agrawaljubin@gmail.com\", 8104597)"
      ],
      "metadata": {
        "id": "pto-rB_umlww"
      },
      "execution_count": null,
      "outputs": []
    },
    {
      "cell_type": "code",
      "source": [
        "Jubin.phone_number1"
      ],
      "metadata": {
        "colab": {
          "base_uri": "https://localhost:8080/"
        },
        "id": "y53P8I3NmnzH",
        "outputId": "92d60545-b5e0-4322-9a76-84c481025a3f"
      },
      "execution_count": null,
      "outputs": [
        {
          "output_type": "execute_result",
          "data": {
            "text/plain": [
              "937868780"
            ]
          },
          "metadata": {},
          "execution_count": 106
        }
      ]
    },
    {
      "cell_type": "markdown",
      "source": [
        "Undestanding very imp concept polymorphism in OOPS- multiple behavior in a different different kind of situation"
      ],
      "metadata": {
        "id": "XuX6Qtd8nSWn"
      }
    },
    {
      "cell_type": "code",
      "source": [
        "def test(a,b):\n",
        "  return a+b"
      ],
      "metadata": {
        "id": "kXe0vBuZm61g"
      },
      "execution_count": null,
      "outputs": []
    },
    {
      "cell_type": "code",
      "source": [
        "test(3,4)"
      ],
      "metadata": {
        "colab": {
          "base_uri": "https://localhost:8080/"
        },
        "id": "uybcUn6IqVK7",
        "outputId": "113adb64-f9de-4ee1-e30f-a5a28e7f010a"
      },
      "execution_count": null,
      "outputs": [
        {
          "output_type": "execute_result",
          "data": {
            "text/plain": [
              "7"
            ]
          },
          "metadata": {},
          "execution_count": 110
        }
      ]
    },
    {
      "cell_type": "code",
      "source": [
        "test(\"jubin\",\"agrawal\")"
      ],
      "metadata": {
        "colab": {
          "base_uri": "https://localhost:8080/",
          "height": 35
        },
        "id": "5ZqAYj9wqY-L",
        "outputId": "d091fab6-be12-4650-d781-2dca78676838"
      },
      "execution_count": null,
      "outputs": [
        {
          "output_type": "execute_result",
          "data": {
            "text/plain": [
              "'jubinagrawal'"
            ],
            "application/vnd.google.colaboratory.intrinsic+json": {
              "type": "string"
            }
          },
          "metadata": {},
          "execution_count": 111
        }
      ]
    },
    {
      "cell_type": "code",
      "source": [
        "test([1,2,3,4],[5,6,7,8])"
      ],
      "metadata": {
        "colab": {
          "base_uri": "https://localhost:8080/"
        },
        "id": "PJTmyaY7qjqc",
        "outputId": "b90b3dba-40ee-46e9-efaf-ef214f37dffc"
      },
      "execution_count": null,
      "outputs": [
        {
          "output_type": "execute_result",
          "data": {
            "text/plain": [
              "[1, 2, 3, 4, 5, 6, 7, 8]"
            ]
          },
          "metadata": {},
          "execution_count": 112
        }
      ]
    },
    {
      "cell_type": "markdown",
      "source": [
        "..here we see that using different type of input such as list ,string, variable, the base fucntion is not changing but doing the same operation and this is called an entity showing multiple behavior is called polymorphism"
      ],
      "metadata": {
        "id": "qL7ZxCa9rEgb"
      }
    },
    {
      "cell_type": "code",
      "source": [
        "class data_science:\n",
        "  def syllabus(self):\n",
        "    print(\"this is my syllabus for data science\")"
      ],
      "metadata": {
        "id": "g6mW8MjsrA5T"
      },
      "execution_count": null,
      "outputs": []
    },
    {
      "cell_type": "code",
      "source": [
        "class web_dev:\n",
        "  def syllabus(self):\n",
        "    print(\"this is my syllabus for web dev\")"
      ],
      "metadata": {
        "id": "YSVUFFLSreMj"
      },
      "execution_count": null,
      "outputs": []
    },
    {
      "cell_type": "code",
      "source": [
        "def class_parcer(class_object):\n",
        "  for i in class_obj:\n",
        "    i.syllabus()"
      ],
      "metadata": {
        "id": "cwXMXTg2sT67"
      },
      "execution_count": null,
      "outputs": []
    },
    {
      "cell_type": "code",
      "source": [
        "data_science= data_science()"
      ],
      "metadata": {
        "id": "Z0pCKIbOsw1D"
      },
      "execution_count": null,
      "outputs": []
    },
    {
      "cell_type": "code",
      "source": [
        "web_dev= web_dev()"
      ],
      "metadata": {
        "id": "9qCaF9ctsymD"
      },
      "execution_count": null,
      "outputs": []
    },
    {
      "cell_type": "code",
      "source": [
        "class_obj=[data_science,web_dev]"
      ],
      "metadata": {
        "id": "D0iy0WcPszcT"
      },
      "execution_count": null,
      "outputs": []
    },
    {
      "cell_type": "code",
      "source": [
        "class_parcer(class_obj)"
      ],
      "metadata": {
        "colab": {
          "base_uri": "https://localhost:8080/"
        },
        "id": "Hfe3VRE5s9Sj",
        "outputId": "b7180724-0fcd-471b-a54e-38ef9d44009f"
      },
      "execution_count": null,
      "outputs": [
        {
          "output_type": "stream",
          "name": "stdout",
          "text": [
            "this is my syllabus for data science\n",
            "this is my syllabus for web dev\n"
          ]
        }
      ]
    },
    {
      "cell_type": "code",
      "source": [
        "#Encapsulation"
      ],
      "metadata": {
        "id": "DcboAp4ls-Cb"
      },
      "execution_count": null,
      "outputs": []
    },
    {
      "cell_type": "code",
      "source": [
        "class test:\n",
        "\n",
        "  def __init__(self,a,b):\n",
        "    self.a=a\n",
        "    self.b=b"
      ],
      "metadata": {
        "id": "wh5z2nofv4EL"
      },
      "execution_count": null,
      "outputs": []
    },
    {
      "cell_type": "code",
      "source": [
        "t = test(23,34)"
      ],
      "metadata": {
        "id": "nQeZCZCLwCMy"
      },
      "execution_count": null,
      "outputs": []
    },
    {
      "cell_type": "code",
      "source": [
        "t.a=234534"
      ],
      "metadata": {
        "id": "ZWx65CPGwFWK"
      },
      "execution_count": null,
      "outputs": []
    },
    {
      "cell_type": "code",
      "source": [
        "t.a"
      ],
      "metadata": {
        "colab": {
          "base_uri": "https://localhost:8080/"
        },
        "id": "guO94y9qwMHj",
        "outputId": "3e2ad3b6-52c6-46e4-d4d5-7b79b832cb0a"
      },
      "execution_count": null,
      "outputs": [
        {
          "output_type": "execute_result",
          "data": {
            "text/plain": [
              "234534"
            ]
          },
          "metadata": {},
          "execution_count": 127
        }
      ]
    },
    {
      "cell_type": "code",
      "source": [
        "class car:\n",
        "  def __init__(self,year,make,model,speed):\n",
        "    self.__year=year\n",
        "    self.__make=make\n",
        "    self.__model=model\n",
        "    self.__speed=0\n",
        "\n",
        "  def set_speed(self,speed):\n",
        "      self.__speed=0 if speed<0 else speed\n",
        "\n",
        "  def get_speed(self):\n",
        "      return self.__speed"
      ],
      "metadata": {
        "id": "vsA1THa3wNGq"
      },
      "execution_count": null,
      "outputs": []
    },
    {
      "cell_type": "code",
      "source": [
        "c= car(20212,\"toyota\",\"innova\",12)"
      ],
      "metadata": {
        "id": "7Jmw3J1VxSQC"
      },
      "execution_count": null,
      "outputs": []
    },
    {
      "cell_type": "code",
      "source": [
        "c._car__year"
      ],
      "metadata": {
        "colab": {
          "base_uri": "https://localhost:8080/"
        },
        "id": "8sh8MmNTxUN6",
        "outputId": "c8a7887f-e4fc-4615-b815-c2ccb418f8ee"
      },
      "execution_count": null,
      "outputs": [
        {
          "output_type": "execute_result",
          "data": {
            "text/plain": [
              "20212"
            ]
          },
          "metadata": {},
          "execution_count": 183
        }
      ]
    },
    {
      "cell_type": "code",
      "source": [
        "c._car__make"
      ],
      "metadata": {
        "colab": {
          "base_uri": "https://localhost:8080/",
          "height": 35
        },
        "id": "Pmp3aKtcxuzC",
        "outputId": "1788327e-a31b-4ee1-95bb-5920b77fb805"
      },
      "execution_count": null,
      "outputs": [
        {
          "output_type": "execute_result",
          "data": {
            "text/plain": [
              "'toyota'"
            ],
            "application/vnd.google.colaboratory.intrinsic+json": {
              "type": "string"
            }
          },
          "metadata": {},
          "execution_count": 184
        }
      ]
    },
    {
      "cell_type": "code",
      "source": [
        "c.set_speed(-8483)"
      ],
      "metadata": {
        "id": "n1wmoPTCHDFr"
      },
      "execution_count": null,
      "outputs": []
    },
    {
      "cell_type": "code",
      "source": [
        "c.get_speed()"
      ],
      "metadata": {
        "colab": {
          "base_uri": "https://localhost:8080/"
        },
        "id": "3FWIELGHH70C",
        "outputId": "01d020bd-34c7-441b-83c7-3bc3998885ab"
      },
      "execution_count": null,
      "outputs": [
        {
          "output_type": "execute_result",
          "data": {
            "text/plain": [
              "0"
            ]
          },
          "metadata": {},
          "execution_count": 191
        }
      ]
    },
    {
      "cell_type": "code",
      "source": [
        "c.set_speed(535)"
      ],
      "metadata": {
        "id": "z86ZqpgkIWS6"
      },
      "execution_count": null,
      "outputs": []
    },
    {
      "cell_type": "code",
      "source": [
        "c.get_speed()"
      ],
      "metadata": {
        "colab": {
          "base_uri": "https://localhost:8080/"
        },
        "id": "oui6qeqqR3zk",
        "outputId": "82648c25-5a48-4548-e88d-41e9c3f42a4e"
      },
      "execution_count": null,
      "outputs": [
        {
          "output_type": "execute_result",
          "data": {
            "text/plain": [
              "535"
            ]
          },
          "metadata": {},
          "execution_count": 193
        }
      ]
    },
    {
      "cell_type": "code",
      "source": [
        "##more examples of incapsulation\n"
      ],
      "metadata": {
        "id": "_BxvUnKgR5Bc"
      },
      "execution_count": null,
      "outputs": []
    },
    {
      "cell_type": "code",
      "source": [
        "##class bank_account:\n",
        "  def __init__(self,balance):\n",
        "    self.__balance=balance\n",
        "\n",
        "  def deposit(self,amount):\n",
        "    self.__balance=self.__balance+amount\n",
        "\n",
        "  def withdraw(self,amount):\n",
        "    if self.__balance>=amount:\n",
        "      self.__balance=self.__balance-amount\n",
        "      return True\n",
        "    else:\n",
        "      return False\n",
        "  def deposit(self,amount):\n",
        "    self.__balance=self.__balance+amount\n",
        "\n",
        "  def withdraw(self,amount):\n",
        "    if self.__balance>=amount:\n",
        "      self.__balance=self.__balance-amount\n",
        "      return True\n",
        "    else:\n",
        "      return False"
      ],
      "metadata": {
        "id": "t3ASX1XfTCus"
      },
      "execution_count": null,
      "outputs": []
    },
    {
      "cell_type": "code",
      "source": [
        "class bank_account:\n",
        "  def __init__(self,balance):\n",
        "    self.__balance=balance\n",
        "\n",
        "  def deposit(self,amount):\n",
        "    self.__balance=self.__balance+amount\n",
        "\n",
        "  def withdraw(self,amount):\n",
        "    if self.__balance>=amount:\n",
        "      self.__balance=self.__balance-amount\n",
        "      return True\n",
        "    else:\n",
        "      return False\n",
        "  def get_balance(self):\n",
        "        return self.__balance"
      ],
      "metadata": {
        "id": "3yhjGMURTEos"
      },
      "execution_count": null,
      "outputs": []
    },
    {
      "cell_type": "code",
      "source": [
        "Jubin=bank_account(1000)"
      ],
      "metadata": {
        "id": "KeXt2ypEcuEY"
      },
      "execution_count": null,
      "outputs": []
    },
    {
      "cell_type": "code",
      "source": [
        "Jubin.get_balance()"
      ],
      "metadata": {
        "colab": {
          "base_uri": "https://localhost:8080/"
        },
        "id": "M2v6FHoQdIrQ",
        "outputId": "285c12e4-d7ff-469f-96bc-71f8f68045f3"
      },
      "execution_count": null,
      "outputs": [
        {
          "output_type": "execute_result",
          "data": {
            "text/plain": [
              "1000"
            ]
          },
          "metadata": {},
          "execution_count": 216
        }
      ]
    },
    {
      "cell_type": "code",
      "source": [
        "Jubin.deposit(5000)"
      ],
      "metadata": {
        "id": "B8b05YSJdtH3"
      },
      "execution_count": null,
      "outputs": []
    },
    {
      "cell_type": "code",
      "source": [
        "Jubin.get_balance()"
      ],
      "metadata": {
        "colab": {
          "base_uri": "https://localhost:8080/"
        },
        "id": "MfR2Nf0MeMrf",
        "outputId": "5a525d0c-c6f4-4cb5-f3cd-4e25ebdcc948"
      },
      "execution_count": null,
      "outputs": [
        {
          "output_type": "execute_result",
          "data": {
            "text/plain": [
              "11000"
            ]
          },
          "metadata": {},
          "execution_count": 221
        }
      ]
    },
    {
      "cell_type": "code",
      "source": [
        "Jubin.withdraw(7000)"
      ],
      "metadata": {
        "colab": {
          "base_uri": "https://localhost:8080/"
        },
        "id": "sp1hTGcEefb-",
        "outputId": "ff040660-117d-4200-df9e-67e7270d64a8"
      },
      "execution_count": null,
      "outputs": [
        {
          "output_type": "execute_result",
          "data": {
            "text/plain": [
              "True"
            ]
          },
          "metadata": {},
          "execution_count": 224
        }
      ]
    },
    {
      "cell_type": "code",
      "source": [
        "Jubin.withdraw(400000)"
      ],
      "metadata": {
        "colab": {
          "base_uri": "https://localhost:8080/"
        },
        "id": "5z8T07G4ekNR",
        "outputId": "22cc313e-57e0-45ed-92cf-a4d940835b54"
      },
      "execution_count": null,
      "outputs": [
        {
          "output_type": "execute_result",
          "data": {
            "text/plain": [
              "False"
            ]
          },
          "metadata": {},
          "execution_count": 225
        }
      ]
    },
    {
      "cell_type": "code",
      "source": [
        "Jubin.get_balance()"
      ],
      "metadata": {
        "colab": {
          "base_uri": "https://localhost:8080/"
        },
        "id": "Vri-sl0iettn",
        "outputId": "9046467d-224f-447d-da16-fe5c3781ce0b"
      },
      "execution_count": null,
      "outputs": [
        {
          "output_type": "execute_result",
          "data": {
            "text/plain": [
              "11000"
            ]
          },
          "metadata": {},
          "execution_count": 227
        }
      ]
    },
    {
      "cell_type": "markdown",
      "source": [
        "##Inheritance\n",
        ">>multilevel inheritance"
      ],
      "metadata": {
        "id": "kZ90ugUTfXiw"
      }
    },
    {
      "cell_type": "code",
      "source": [
        "class test:\n",
        "\n",
        "  def test_meth(self):\n",
        "    return\"this is my first class\""
      ],
      "metadata": {
        "id": "122ZE61pe-8X"
      },
      "execution_count": null,
      "outputs": []
    },
    {
      "cell_type": "code",
      "source": [
        "class child_test(test):\n",
        "  pass"
      ],
      "metadata": {
        "id": "-Dq99cndhTD4"
      },
      "execution_count": null,
      "outputs": []
    },
    {
      "cell_type": "code",
      "source": [
        "child_test_obj=child_test()"
      ],
      "metadata": {
        "id": "-DhwOkpKhaho"
      },
      "execution_count": null,
      "outputs": []
    },
    {
      "cell_type": "code",
      "source": [
        "child_test_obj.test_meth()"
      ],
      "metadata": {
        "colab": {
          "base_uri": "https://localhost:8080/",
          "height": 35
        },
        "id": "a5-m3teIhpZ_",
        "outputId": "5da3b3d4-97a6-4f6a-fd17-cd2dd3f598c8"
      },
      "execution_count": null,
      "outputs": [
        {
          "output_type": "execute_result",
          "data": {
            "text/plain": [
              "'this is my first class'"
            ],
            "application/vnd.google.colaboratory.intrinsic+json": {
              "type": "string"
            }
          },
          "metadata": {},
          "execution_count": 262
        }
      ]
    },
    {
      "cell_type": "code",
      "source": [
        "class class1:\n",
        "\n",
        "  def test_class1(self):\n",
        "    return\"this is a method from class1\""
      ],
      "metadata": {
        "id": "yxroxfwYh332"
      },
      "execution_count": null,
      "outputs": []
    },
    {
      "cell_type": "code",
      "source": [
        "class class2(class1):\n",
        "  def test_class2(self):\n",
        "    return \"this is a meth from class 2\""
      ],
      "metadata": {
        "id": "-NIJ_2QRjAE3"
      },
      "execution_count": null,
      "outputs": []
    },
    {
      "cell_type": "code",
      "source": [
        "class class3(class2):\n",
        " pass"
      ],
      "metadata": {
        "id": "NeBSjLamjKr3"
      },
      "execution_count": null,
      "outputs": []
    },
    {
      "cell_type": "code",
      "source": [
        "object_class3= class3()\n"
      ],
      "metadata": {
        "id": "HgOirq8UjOEu"
      },
      "execution_count": null,
      "outputs": []
    },
    {
      "cell_type": "code",
      "source": [
        "object_class3.test_class1()"
      ],
      "metadata": {
        "colab": {
          "base_uri": "https://localhost:8080/",
          "height": 35
        },
        "id": "E2xgoa1pjbYH",
        "outputId": "3067ad25-c007-4535-b872-83171c25ca32"
      },
      "execution_count": null,
      "outputs": [
        {
          "output_type": "execute_result",
          "data": {
            "text/plain": [
              "'this is a method from class1'"
            ],
            "application/vnd.google.colaboratory.intrinsic+json": {
              "type": "string"
            }
          },
          "metadata": {},
          "execution_count": 275
        }
      ]
    },
    {
      "cell_type": "code",
      "source": [
        "object_class3.test_class2()"
      ],
      "metadata": {
        "colab": {
          "base_uri": "https://localhost:8080/",
          "height": 35
        },
        "id": "pJdnDb8ljfqX",
        "outputId": "aca18a64-93d9-47c6-aefc-31ef11202a4a"
      },
      "execution_count": null,
      "outputs": [
        {
          "output_type": "execute_result",
          "data": {
            "text/plain": [
              "'this is a meth from class 2'"
            ],
            "application/vnd.google.colaboratory.intrinsic+json": {
              "type": "string"
            }
          },
          "metadata": {},
          "execution_count": 276
        }
      ]
    },
    {
      "cell_type": "markdown",
      "source": [
        "multiple inheritance"
      ],
      "metadata": {
        "id": "miMYwRD3lGDY"
      }
    },
    {
      "cell_type": "code",
      "source": [
        "class class1:\n",
        "  def test_class1(self):\n",
        "    return\"this is a class1\""
      ],
      "metadata": {
        "id": "1FJCneuMkYQm"
      },
      "execution_count": null,
      "outputs": []
    },
    {
      "cell_type": "code",
      "source": [
        "class class2:\n",
        "  def test_class2(self):\n",
        "    return\"this is a class2\""
      ],
      "metadata": {
        "id": "U7mxsxhkkatv"
      },
      "execution_count": null,
      "outputs": []
    },
    {
      "cell_type": "code",
      "source": [
        "class class3(class1,class2):\n",
        "  pass\n"
      ],
      "metadata": {
        "id": "W5iliLsQlOpH"
      },
      "execution_count": null,
      "outputs": []
    },
    {
      "cell_type": "code",
      "source": [
        "object_class3=class3()"
      ],
      "metadata": {
        "id": "W2YnOSqalUDH"
      },
      "execution_count": null,
      "outputs": []
    },
    {
      "cell_type": "code",
      "source": [
        "object_class3.test_class2()"
      ],
      "metadata": {
        "colab": {
          "base_uri": "https://localhost:8080/",
          "height": 35
        },
        "id": "xTrriq_dlcSe",
        "outputId": "d949619d-3e8e-4905-d1a3-9d191350cc04"
      },
      "execution_count": null,
      "outputs": [
        {
          "output_type": "execute_result",
          "data": {
            "text/plain": [
              "'this is a class2'"
            ],
            "application/vnd.google.colaboratory.intrinsic+json": {
              "type": "string"
            }
          },
          "metadata": {},
          "execution_count": 283
        }
      ]
    },
    {
      "cell_type": "code",
      "source": [
        "object_class3.test_class1()"
      ],
      "metadata": {
        "colab": {
          "base_uri": "https://localhost:8080/",
          "height": 35
        },
        "id": "TvA2dcaqlhiV",
        "outputId": "9f384170-054c-4719-ba45-db96f9cc1486"
      },
      "execution_count": null,
      "outputs": [
        {
          "output_type": "execute_result",
          "data": {
            "text/plain": [
              "'this is a method from class1'"
            ],
            "application/vnd.google.colaboratory.intrinsic+json": {
              "type": "string"
            }
          },
          "metadata": {},
          "execution_count": 284
        }
      ]
    },
    {
      "cell_type": "markdown",
      "source": [
        "**Abstract in class**"
      ],
      "metadata": {
        "id": "t-Uw1kxgmAb3"
      }
    },
    {
      "cell_type": "code",
      "source": [
        "import abc\n",
        "class pwskills:\n",
        "  @abc.abstractmethod\n",
        "  def student_details(self):\n",
        "    pass\n",
        "  @abc.abstractmethod\n",
        "  def student_assignment(self):\n",
        "    pass\n",
        "  @abc.abstractmethod\n",
        "  def student_marks(self):\n",
        "      pass"
      ],
      "metadata": {
        "id": "3OI2maMYljS-"
      },
      "execution_count": null,
      "outputs": []
    },
    {
      "cell_type": "code",
      "source": [
        "class student_details(pwskills):\n",
        "  def student_details(self):\n",
        "    return\"this is a meth for taking student details\"\n",
        "  def student_assignment(self):\n",
        "    return\"this is a meth for assing details for a perticualt student\""
      ],
      "metadata": {
        "id": "qWv4SWwLmT5t"
      },
      "execution_count": null,
      "outputs": []
    },
    {
      "cell_type": "code",
      "source": [
        "class data_science_masters(pwskills):\n",
        "  def student_details(self):\n",
        "    return\"this will return a student details for data science masters\"\n",
        "  def student_assignment(self):\n",
        "    return\"this will give you a student assignment details for data science masters\""
      ],
      "metadata": {
        "id": "6R95t8mjnBOu"
      },
      "execution_count": null,
      "outputs": []
    },
    {
      "cell_type": "code",
      "source": [
        "dsm=data_science_masters()\n",
        "dsm.student_details()"
      ],
      "metadata": {
        "colab": {
          "base_uri": "https://localhost:8080/",
          "height": 35
        },
        "id": "oRqPhiJjnCnW",
        "outputId": "c4305c11-8a80-4878-8fcd-c8bb997c4908"
      },
      "execution_count": null,
      "outputs": [
        {
          "output_type": "execute_result",
          "data": {
            "text/plain": [
              "'this will return a student details for data science masters'"
            ],
            "application/vnd.google.colaboratory.intrinsic+json": {
              "type": "string"
            }
          },
          "metadata": {},
          "execution_count": 289
        }
      ]
    },
    {
      "cell_type": "code",
      "source": [
        "sd=student_details()\n",
        "sd.student_details()"
      ],
      "metadata": {
        "colab": {
          "base_uri": "https://localhost:8080/",
          "height": 35
        },
        "id": "7pbKk6Nl3SCx",
        "outputId": "1876dc13-3efa-4b81-d7a8-f027fde7e712"
      },
      "execution_count": null,
      "outputs": [
        {
          "output_type": "execute_result",
          "data": {
            "text/plain": [
              "'this is a meth for taking student details'"
            ],
            "application/vnd.google.colaboratory.intrinsic+json": {
              "type": "string"
            }
          },
          "metadata": {},
          "execution_count": 290
        }
      ]
    },
    {
      "cell_type": "code",
      "source": [
        "sa= student_details()\n",
        "sa.student_assignment()"
      ],
      "metadata": {
        "colab": {
          "base_uri": "https://localhost:8080/",
          "height": 35
        },
        "id": "Ye-5EEaW3WOA",
        "outputId": "2c129062-f06f-4e28-fd8c-f4a9795b3a6a"
      },
      "execution_count": null,
      "outputs": [
        {
          "output_type": "execute_result",
          "data": {
            "text/plain": [
              "'this is a meth for assing details for a perticualt student'"
            ],
            "application/vnd.google.colaboratory.intrinsic+json": {
              "type": "string"
            }
          },
          "metadata": {},
          "execution_count": 299
        }
      ]
    },
    {
      "cell_type": "markdown",
      "source": [
        "decorator"
      ],
      "metadata": {
        "id": "BQgSKyUx4f3S"
      }
    },
    {
      "cell_type": "code",
      "source": [
        "def test():\n",
        " print(\"this is the start of my fun\")\n",
        " print(\"this is my fun to test\")\n",
        " print(4+5)\n",
        " print(\"this is the end of my fun\")\n"
      ],
      "metadata": {
        "id": "bu7tXEB137uY"
      },
      "execution_count": 1,
      "outputs": []
    },
    {
      "cell_type": "code",
      "source": [
        "test()"
      ],
      "metadata": {
        "colab": {
          "base_uri": "https://localhost:8080/"
        },
        "id": "woEvFi785HaA",
        "outputId": "423848ab-3f78-44f0-cbbe-b5d6f23f830d"
      },
      "execution_count": 2,
      "outputs": [
        {
          "output_type": "stream",
          "name": "stdout",
          "text": [
            "this is the start of my fun\n",
            "this is my fun to test\n",
            "9\n",
            "this is the end of my fun\n"
          ]
        }
      ]
    },
    {
      "cell_type": "code",
      "source": [
        "def deco(func):\n",
        "  def inner_dec():\n",
        "    print(\"this is the start of my fun\")\n",
        "    func()\n",
        "    print(\"this is the end of my fun\")\n",
        "  return inner_dec"
      ],
      "metadata": {
        "id": "AZlk8bDi5JcX"
      },
      "execution_count": 4,
      "outputs": []
    },
    {
      "cell_type": "code",
      "source": [],
      "metadata": {
        "id": "wzuhEOZv5so4"
      },
      "execution_count": null,
      "outputs": []
    }
  ]
}