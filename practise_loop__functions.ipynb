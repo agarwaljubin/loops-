{
  "nbformat": 4,
  "nbformat_minor": 0,
  "metadata": {
    "colab": {
      "provenance": [],
      "authorship_tag": "ABX9TyM+9oGWKH41tKorpTKechYX",
      "include_colab_link": true
    },
    "kernelspec": {
      "name": "python3",
      "display_name": "Python 3"
    },
    "language_info": {
      "name": "python"
    }
  },
  "cells": [
    {
      "cell_type": "markdown",
      "metadata": {
        "id": "view-in-github",
        "colab_type": "text"
      },
      "source": [
        "<a href=\"https://colab.research.google.com/github/agarwaljubin/loops-/blob/main/practise_loop__functions.ipynb\" target=\"_parent\"><img src=\"https://colab.research.google.com/assets/colab-badge.svg\" alt=\"Open In Colab\"/></a>"
      ]
    },
    {
      "cell_type": "markdown",
      "source": [
        "\n",
        "\n",
        "> **Loop Practise**\n",
        ">>if else\n",
        ">>for\n",
        ">>while\n",
        "\n"
      ],
      "metadata": {
        "id": "WGwRD77jRRQp"
      }
    },
    {
      "cell_type": "code",
      "execution_count": null,
      "metadata": {
        "id": "dxmlF3cyRQqv"
      },
      "outputs": [],
      "source": [
        "##if else"
      ]
    },
    {
      "cell_type": "code",
      "source": [
        "marks= int(input(\"enter your marks\"))\n",
        "if marks >= 80:\n",
        "  print(\"you will be a part of A0 batch\")\n",
        "elif marks >= 60 and marks < 80:\n",
        "    print(\"you will be a part of A1 batch\")\n",
        "elif marks >= 40 and marks < 60:\n",
        "    print(\"you will be a part of A2 batch\")\n",
        "else:\n",
        "    print(\"you will be a part of A3 batch\")"
      ],
      "metadata": {
        "colab": {
          "base_uri": "https://localhost:8080/"
        },
        "id": "IITgUUSfT4-B",
        "outputId": "324da4d6-bbda-4ac7-e1ac-21c972b7e0c4"
      },
      "execution_count": null,
      "outputs": [
        {
          "output_type": "stream",
          "name": "stdout",
          "text": [
            "enter your marks10\n",
            "you will be a part of A3 batch\n"
          ]
        }
      ]
    },
    {
      "cell_type": "code",
      "source": [
        "Car= int(input(\"enter you budget\"))\n",
        "\n",
        "if Car>= 10000:\n",
        "  print(\"you can buy a porsche\")\n",
        "elif Car >= 5000 and Car < 10000:\n",
        "    print(\"you can buy a bmw\")\n",
        "elif Car >=4000 and Car<6000:\n",
        "      print(\"you can buy a wolksvagen\")\n",
        "else:\n",
        "      print(\"you can buy a mazda\")\n",
        "      print(\"you can buy a wolksvagen\")\n",
        "\n"
      ],
      "metadata": {
        "colab": {
          "base_uri": "https://localhost:8080/"
        },
        "id": "dqbztp7VVx0a",
        "outputId": "2d9ada18-f06b-439b-a030-26fa7e27ed7a"
      },
      "execution_count": null,
      "outputs": [
        {
          "output_type": "stream",
          "name": "stdout",
          "text": [
            "enter you budget50000\n",
            "you can buy a porsche\n"
          ]
        }
      ]
    },
    {
      "cell_type": "code",
      "source": [
        "##checking comparison operator"
      ],
      "metadata": {
        "id": "IL-t4V_zXSII"
      },
      "execution_count": null,
      "outputs": []
    },
    {
      "cell_type": "code",
      "source": [
        "100>=20000"
      ],
      "metadata": {
        "colab": {
          "base_uri": "https://localhost:8080/"
        },
        "id": "jS41k_2eYwMJ",
        "outputId": "1322bd66-2a9e-49c9-f75c-9b29e50c3c30"
      },
      "execution_count": null,
      "outputs": [
        {
          "output_type": "execute_result",
          "data": {
            "text/plain": [
              "False"
            ]
          },
          "metadata": {},
          "execution_count": 17
        }
      ]
    },
    {
      "cell_type": "code",
      "source": [
        "30000>=2000"
      ],
      "metadata": {
        "colab": {
          "base_uri": "https://localhost:8080/"
        },
        "id": "hc8kbxfZYydf",
        "outputId": "215ca42e-798c-49b1-b33f-8436f225aa53"
      },
      "execution_count": null,
      "outputs": [
        {
          "output_type": "execute_result",
          "data": {
            "text/plain": [
              "True"
            ]
          },
          "metadata": {},
          "execution_count": 18
        }
      ]
    },
    {
      "cell_type": "code",
      "source": [
        "Grade=int(input(\"enter your marks\"))\n",
        "if Grade>= 1:\n",
        "  print(\" you have achived a very good result\")\n",
        "elif Grade>=3 and Grade<1:\n",
        "  print(\"your result is jsut passed\")\n",
        "elif Grade>= 2 and Grade< 3:\n",
        "  print(\"you have achived a satisfactory result\")\n",
        "else:\n",
        "    print(\"you have failed\")"
      ],
      "metadata": {
        "colab": {
          "base_uri": "https://localhost:8080/"
        },
        "id": "BZNZWh_2Y3KW",
        "outputId": "0e269149-ce47-4d4c-abc6-42b6bfb7fb87"
      },
      "execution_count": null,
      "outputs": [
        {
          "output_type": "stream",
          "name": "stdout",
          "text": [
            "enter your marks-9\n",
            "you have failed\n"
          ]
        }
      ]
    },
    {
      "cell_type": "code",
      "source": [
        " type(marks)"
      ],
      "metadata": {
        "colab": {
          "base_uri": "https://localhost:8080/"
        },
        "id": "GULIHaJradTo",
        "outputId": "c3ffbb42-7924-4ae6-a7ee-f74f4476471e"
      },
      "execution_count": null,
      "outputs": [
        {
          "output_type": "execute_result",
          "data": {
            "text/plain": [
              "int"
            ]
          },
          "metadata": {},
          "execution_count": 25
        }
      ]
    },
    {
      "cell_type": "code",
      "source": [
        "price=int(input(\"enter price\"))\n",
        "if price>1000:\n",
        "  print('its not affordable')\n",
        "else :\n",
        "  print(' it is affordable')"
      ],
      "metadata": {
        "colab": {
          "base_uri": "https://localhost:8080/"
        },
        "id": "Of_vv5q9fYBH",
        "outputId": "3914adaf-41fb-422a-cf89-0ee57b6d2420"
      },
      "execution_count": null,
      "outputs": [
        {
          "output_type": "stream",
          "name": "stdout",
          "text": [
            "enter price50\n",
            " it is affordable\n"
          ]
        }
      ]
    },
    {
      "cell_type": "markdown",
      "source": [
        "##nested condition\n"
      ],
      "metadata": {
        "id": "YztiRy1WODid"
      }
    },
    {
      "cell_type": "code",
      "source": [
        "price= int(input(\"enter price\"))\n",
        "if price>1000:\n",
        "  print(\"i will not purchase\")\n",
        "if price>5000:\n",
        "  print(\"this is too much\")"
      ],
      "metadata": {
        "id": "vOJOY1GGfykf",
        "colab": {
          "base_uri": "https://localhost:8080/"
        },
        "outputId": "3e55275e-0609-419c-e8a2-805797e6fb2c"
      },
      "execution_count": null,
      "outputs": [
        {
          "output_type": "stream",
          "name": "stdout",
          "text": [
            "enter price5000\n",
            "i will not purchase\n"
          ]
        }
      ]
    },
    {
      "cell_type": "code",
      "source": [
        "price= int(input(\"enter price\"))\n",
        "if price>1000:\n",
        "  print(\"i will not purchase\")\n",
        "if price>5000:\n",
        "  print(\"this is too much\")\n",
        "if price<2000:\n",
        "    print(\"i will not purchase\")"
      ],
      "metadata": {
        "colab": {
          "base_uri": "https://localhost:8080/"
        },
        "id": "_x00XogzN_EI",
        "outputId": "3d29ae70-0e8e-47f4-bd47-44745c833ef4"
      },
      "execution_count": null,
      "outputs": [
        {
          "output_type": "stream",
          "name": "stdout",
          "text": [
            "enter price100\n",
            "i will not purchase\n"
          ]
        }
      ]
    },
    {
      "cell_type": "code",
      "source": [
        "price= int(input(\"enter price\"))\n",
        "if price>1000:\n",
        "  print(\"i will not purchase\")\n",
        "if price>5000:\n",
        "  print(\"this is too much\")\n",
        "if price<2000:\n",
        "    print(\"i will not purchase\")"
      ],
      "metadata": {
        "colab": {
          "base_uri": "https://localhost:8080/"
        },
        "id": "bj1HwW0dOK9v",
        "outputId": "37351d6d-95cc-400c-bb0d-5bf663bc55ec"
      },
      "execution_count": null,
      "outputs": [
        {
          "output_type": "stream",
          "name": "stdout",
          "text": [
            "enter price5000\n",
            "i will not purchase\n"
          ]
        }
      ]
    },
    {
      "cell_type": "code",
      "source": [
        "#l= [1,2,2,3,3,4,4,5]"
      ],
      "metadata": {
        "id": "gVgaqiqMOuq-"
      },
      "execution_count": null,
      "outputs": []
    },
    {
      "cell_type": "code",
      "source": [
        "l[0]+1"
      ],
      "metadata": {
        "colab": {
          "base_uri": "https://localhost:8080/"
        },
        "id": "kh5q1IitO8FV",
        "outputId": "d818a0d8-f778-4b25-993c-3e4c4d7e2c5e"
      },
      "execution_count": null,
      "outputs": [
        {
          "output_type": "execute_result",
          "data": {
            "text/plain": [
              "2"
            ]
          },
          "metadata": {},
          "execution_count": 7
        }
      ]
    },
    {
      "cell_type": "code",
      "source": [
        "l.append(l[0]+1)"
      ],
      "metadata": {
        "id": "r8QoMKCEPzO_"
      },
      "execution_count": null,
      "outputs": []
    },
    {
      "cell_type": "code",
      "source": [
        "l"
      ],
      "metadata": {
        "colab": {
          "base_uri": "https://localhost:8080/"
        },
        "id": "irbssHWZP3kt",
        "outputId": "2b1ecd3d-39cd-4b28-e24a-06a103a19791"
      },
      "execution_count": null,
      "outputs": [
        {
          "output_type": "execute_result",
          "data": {
            "text/plain": [
              "[1, 2, 2, 3, 3, 4, 4, 5, 2, 2]"
            ]
          },
          "metadata": {},
          "execution_count": 12
        }
      ]
    },
    {
      "cell_type": "code",
      "source": [
        "l1=[]"
      ],
      "metadata": {
        "id": "hSwQ1MvXP7tF"
      },
      "execution_count": null,
      "outputs": []
    },
    {
      "cell_type": "code",
      "source": [
        "l1.append(l[0]+1)"
      ],
      "metadata": {
        "id": "TWf5d-SiQAUN"
      },
      "execution_count": null,
      "outputs": []
    },
    {
      "cell_type": "code",
      "source": [
        "l1"
      ],
      "metadata": {
        "colab": {
          "base_uri": "https://localhost:8080/"
        },
        "id": "P4HlVXTuQCeO",
        "outputId": "30fdc8dd-463a-483d-d6c9-8b0cd6f4dc17"
      },
      "execution_count": null,
      "outputs": [
        {
          "output_type": "execute_result",
          "data": {
            "text/plain": [
              "[2]"
            ]
          },
          "metadata": {},
          "execution_count": 15
        }
      ]
    },
    {
      "cell_type": "markdown",
      "source": [
        "###for loop"
      ],
      "metadata": {
        "id": "zMAiW9DwRH6t"
      }
    },
    {
      "cell_type": "code",
      "source": [
        "l2=[2,3,4,5,56,6,7,8]"
      ],
      "metadata": {
        "id": "TmgpJ5UyQDNF"
      },
      "execution_count": null,
      "outputs": []
    },
    {
      "cell_type": "code",
      "source": [
        "for i in l2:\n",
        "  print(i)"
      ],
      "metadata": {
        "colab": {
          "base_uri": "https://localhost:8080/"
        },
        "id": "JbfdDVZ6RQPN",
        "outputId": "dfce6554-7937-4c8f-f018-fda58ead2e9d"
      },
      "execution_count": null,
      "outputs": [
        {
          "output_type": "stream",
          "name": "stdout",
          "text": [
            "2\n",
            "3\n",
            "3\n",
            "4\n",
            "4\n",
            "5\n",
            "5\n",
            "6\n",
            "3\n",
            "3\n"
          ]
        }
      ]
    },
    {
      "cell_type": "markdown",
      "source": [
        "for adding 1 in each element in variable"
      ],
      "metadata": {
        "id": "-cVlr3npT7y9"
      }
    },
    {
      "cell_type": "code",
      "source": [
        "for i in l2:\n",
        "  print(i+1)"
      ],
      "metadata": {
        "colab": {
          "base_uri": "https://localhost:8080/"
        },
        "id": "V3h_GeLNRS1u",
        "outputId": "32b25375-e2a9-463a-b9d7-99daea6414bf"
      },
      "execution_count": null,
      "outputs": [
        {
          "output_type": "stream",
          "name": "stdout",
          "text": [
            "3\n",
            "4\n",
            "5\n",
            "6\n",
            "57\n",
            "7\n",
            "8\n",
            "9\n"
          ]
        }
      ]
    },
    {
      "cell_type": "markdown",
      "source": [
        "## adding 1 in each element and getting a fimnal output as a list"
      ],
      "metadata": {
        "id": "xbJMhIgWT_oc"
      }
    },
    {
      "cell_type": "code",
      "source": [
        "l4=[34,24,556,66,77]"
      ],
      "metadata": {
        "id": "QNb13gAEUdIE"
      },
      "execution_count": null,
      "outputs": []
    },
    {
      "cell_type": "code",
      "source": [
        "l3=[]\n",
        "for i in l4:\n",
        "  print(i+1)\n",
        "  l3.append(i+1)"
      ],
      "metadata": {
        "colab": {
          "base_uri": "https://localhost:8080/"
        },
        "id": "2jHOIHnaT6pN",
        "outputId": "058df7c7-710f-4c2b-c456-1d14fe7f7136"
      },
      "execution_count": null,
      "outputs": [
        {
          "output_type": "stream",
          "name": "stdout",
          "text": [
            "35\n",
            "25\n",
            "557\n",
            "67\n",
            "78\n"
          ]
        }
      ]
    },
    {
      "cell_type": "code",
      "source": [
        "l5=[\"sudh\",\"kumar\",\"pwskills\",\"course\"]"
      ],
      "metadata": {
        "id": "hrF5PJbZUPm9"
      },
      "execution_count": null,
      "outputs": []
    },
    {
      "cell_type": "code",
      "source": [
        "for i in l5:\n",
        "  print(i)"
      ],
      "metadata": {
        "id": "kgL7LhFhUkTM",
        "colab": {
          "base_uri": "https://localhost:8080/"
        },
        "outputId": "4e5d3b0e-9213-45c1-fee7-cd2a51465003"
      },
      "execution_count": null,
      "outputs": [
        {
          "output_type": "stream",
          "name": "stdout",
          "text": [
            "sudh\n",
            "kumar\n",
            "pwskills\n",
            "course\n"
          ]
        }
      ]
    },
    {
      "cell_type": "code",
      "source": [
        "\n",
        "l6=[]\n",
        "for i in l5:\n",
        "  print(i)\n",
        "  l6.append(i.upper())"
      ],
      "metadata": {
        "colab": {
          "base_uri": "https://localhost:8080/"
        },
        "id": "l7DLJr5wB0k8",
        "outputId": "fedb998d-77d4-4ce0-8623-e6a92c75abd9"
      },
      "execution_count": null,
      "outputs": [
        {
          "output_type": "stream",
          "name": "stdout",
          "text": [
            "sudh\n",
            "kumar\n",
            "pwskills\n",
            "course\n"
          ]
        }
      ]
    },
    {
      "cell_type": "code",
      "source": [
        "l6"
      ],
      "metadata": {
        "colab": {
          "base_uri": "https://localhost:8080/"
        },
        "id": "f9PS3eLPCEX1",
        "outputId": "1cd62554-fa24-4fd4-f623-b350050389ff"
      },
      "execution_count": null,
      "outputs": [
        {
          "output_type": "execute_result",
          "data": {
            "text/plain": [
              "['SUDH', 'KUMAR', 'PWSKILLS', 'COURSE']"
            ]
          },
          "metadata": {},
          "execution_count": 5
        }
      ]
    },
    {
      "cell_type": "code",
      "source": [
        "l=[12,3,4,5,6,\"sudh\",\"kuamr\",345,64574.83678,\"abc\"]"
      ],
      "metadata": {
        "id": "QC8M-fMGCFfE"
      },
      "execution_count": null,
      "outputs": []
    },
    {
      "cell_type": "code",
      "source": [
        "l1_num=[]\n",
        "l2_str=[]\n",
        "for i in l:\n",
        " if type(i)== int or type(i)== float:\n",
        "  l1_num.append(i)\n",
        " else:\n",
        "  l2_str.append(i)\n"
      ],
      "metadata": {
        "id": "V3gsRbbCCqKs"
      },
      "execution_count": null,
      "outputs": []
    },
    {
      "cell_type": "code",
      "source": [
        "l1_num"
      ],
      "metadata": {
        "colab": {
          "base_uri": "https://localhost:8080/"
        },
        "id": "yjib_ix7E0zI",
        "outputId": "de31cba1-9401-41ec-eb12-f05556099b41"
      },
      "execution_count": null,
      "outputs": [
        {
          "output_type": "execute_result",
          "data": {
            "text/plain": [
              "[12, 3, 4, 5, 6, 345, 64574.83678]"
            ]
          },
          "metadata": {},
          "execution_count": 20
        }
      ]
    },
    {
      "cell_type": "code",
      "source": [
        "l2_str"
      ],
      "metadata": {
        "colab": {
          "base_uri": "https://localhost:8080/"
        },
        "id": "52ZLhPPYE6Oj",
        "outputId": "b78c11cc-88bb-447f-e790-26edbe74e8a8"
      },
      "execution_count": null,
      "outputs": [
        {
          "output_type": "execute_result",
          "data": {
            "text/plain": [
              "['sudh', 'kuamr', 'abc']"
            ]
          },
          "metadata": {},
          "execution_count": 21
        }
      ]
    },
    {
      "cell_type": "markdown",
      "source": [
        "**100+examples for for loop**"
      ],
      "metadata": {
        "id": "FSB-YqNOGzhz"
      }
    },
    {
      "cell_type": "code",
      "source": [
        "l=[1,2,3,34,5]"
      ],
      "metadata": {
        "id": "FOIN2cA1FIBk"
      },
      "execution_count": null,
      "outputs": []
    },
    {
      "cell_type": "code",
      "source": [
        "for i in l:\n",
        "  print(i, type(i))"
      ],
      "metadata": {
        "colab": {
          "base_uri": "https://localhost:8080/"
        },
        "id": "Qoysofk8G5mj",
        "outputId": "7ad7d337-1ede-4334-c86b-b7fa8ccfaf7e"
      },
      "execution_count": null,
      "outputs": [
        {
          "output_type": "stream",
          "name": "stdout",
          "text": [
            "1 <class 'int'>\n",
            "2 <class 'int'>\n",
            "3 <class 'int'>\n",
            "34 <class 'int'>\n",
            "5 <class 'int'>\n"
          ]
        }
      ]
    },
    {
      "cell_type": "code",
      "source": [
        "l1=[\"jubin\",\"agrawal\",\"kumar\", \"naik\"]"
      ],
      "metadata": {
        "id": "gjxlYJCtG99L"
      },
      "execution_count": 2,
      "outputs": []
    },
    {
      "cell_type": "code",
      "source": [
        "for i in l1:\n",
        " print(i)\n",
        "else:\n",
        "  print(\"if for loop is able to complete itself then only else will execute\")\n"
      ],
      "metadata": {
        "colab": {
          "base_uri": "https://localhost:8080/"
        },
        "id": "SzT79v3sHHCj",
        "outputId": "8b311492-7f40-4d10-ccb5-a595cd0da60d"
      },
      "execution_count": 3,
      "outputs": [
        {
          "output_type": "stream",
          "name": "stdout",
          "text": [
            "jubin\n",
            "agrawal\n",
            "kumar\n",
            "naik\n",
            "if for loop is able to complete itself then only else will execute\n"
          ]
        }
      ]
    },
    {
      "cell_type": "code",
      "source": [
        "for i in l1:\n",
        "  if i ==\"kumar\":\n",
        "    break\n",
        "  print(i)"
      ],
      "metadata": {
        "id": "FlyZi1siHKYz",
        "colab": {
          "base_uri": "https://localhost:8080/"
        },
        "outputId": "3331e895-afd6-4374-c27a-706e7b0a2baa"
      },
      "execution_count": 7,
      "outputs": [
        {
          "output_type": "stream",
          "name": "stdout",
          "text": [
            "jubin\n",
            "agrawal\n"
          ]
        }
      ]
    },
    {
      "cell_type": "markdown",
      "source": [
        "#if else condition wise example"
      ],
      "metadata": {
        "id": "IjTJDDT677Nc"
      }
    },
    {
      "cell_type": "code",
      "source": [
        "for i in l1:\n",
        "  if i ==\"kumar\":\n",
        "    break\n",
        "  print(i)\n",
        "else:\n",
        "    print(\"excecute this if for loop is able to complete itself\")"
      ],
      "metadata": {
        "colab": {
          "base_uri": "https://localhost:8080/"
        },
        "id": "VdBolkBH2Ns4",
        "outputId": "b8fc03c7-82f6-434c-8e0a-d268f1428993"
      },
      "execution_count": 9,
      "outputs": [
        {
          "output_type": "stream",
          "name": "stdout",
          "text": [
            "jubin\n",
            "agrawal\n"
          ]
        }
      ]
    },
    {
      "cell_type": "markdown",
      "source": [
        "### Breake and continue"
      ],
      "metadata": {
        "id": "Bh5d02Nq8cST"
      }
    },
    {
      "cell_type": "code",
      "source": [],
      "metadata": {
        "id": "OY_Mo8zO8cp_"
      },
      "execution_count": null,
      "outputs": []
    },
    {
      "cell_type": "code",
      "source": [
        "for i in l1:\n",
        "  if i ==\"kumar\":\n",
        "    continue\n",
        "  print(i)\n"
      ],
      "metadata": {
        "colab": {
          "base_uri": "https://localhost:8080/"
        },
        "id": "NHDty1_l2Uxk",
        "outputId": "fa9ea823-517f-4fbf-f019-b0efcbb4f20c"
      },
      "execution_count": 10,
      "outputs": [
        {
          "output_type": "stream",
          "name": "stdout",
          "text": [
            "jubin\n",
            "agrawal\n",
            "naik\n"
          ]
        }
      ]
    },
    {
      "cell_type": "code",
      "source": [
        "for i in l1:\n",
        "  if i ==\"kumar\":\n",
        "    continue\n",
        "  print(i)\n",
        "else:\n",
        "    print(\"excecute this if for loop is able to complete itself\")"
      ],
      "metadata": {
        "colab": {
          "base_uri": "https://localhost:8080/"
        },
        "id": "gmj4ZedV8bjU",
        "outputId": "d8def3f6-bc72-4e59-e3ac-d87eacf7400f"
      },
      "execution_count": 12,
      "outputs": [
        {
          "output_type": "stream",
          "name": "stdout",
          "text": [
            "jubin\n",
            "agrawal\n",
            "naik\n",
            "excecute this if for loop is able to complete itself\n"
          ]
        }
      ]
    },
    {
      "cell_type": "markdown",
      "source": [
        "#range function- a generator function"
      ],
      "metadata": {
        "id": "kSHSb3WF_-rT"
      }
    },
    {
      "cell_type": "code",
      "source": [
        "range(0,5)"
      ],
      "metadata": {
        "colab": {
          "base_uri": "https://localhost:8080/"
        },
        "id": "1xip8Q4OADHa",
        "outputId": "cfebf53f-3d8a-44b5-a60c-6d6b8937eb91"
      },
      "execution_count": 13,
      "outputs": [
        {
          "output_type": "execute_result",
          "data": {
            "text/plain": [
              "range(0, 5)"
            ]
          },
          "metadata": {},
          "execution_count": 13
        }
      ]
    },
    {
      "cell_type": "code",
      "source": [
        "list(range(5))"
      ],
      "metadata": {
        "colab": {
          "base_uri": "https://localhost:8080/"
        },
        "id": "w-eBr9jYAG67",
        "outputId": "cc50b12f-b055-4a1c-bb5e-9b4ebb23e16d"
      },
      "execution_count": 14,
      "outputs": [
        {
          "output_type": "execute_result",
          "data": {
            "text/plain": [
              "[0, 1, 2, 3, 4]"
            ]
          },
          "metadata": {},
          "execution_count": 14
        }
      ]
    },
    {
      "cell_type": "markdown",
      "source": [
        "range(a,b,c)-- a = 1 is lower bound, b= upper bound, c= jump"
      ],
      "metadata": {
        "id": "EWZ6Z9XTAUxb"
      }
    },
    {
      "cell_type": "code",
      "source": [
        "list(range(0,5,1))"
      ],
      "metadata": {
        "colab": {
          "base_uri": "https://localhost:8080/"
        },
        "id": "WCwTVtowALBS",
        "outputId": "f76da9f8-54e4-4bc2-b78a-5615ca2ffb4f"
      },
      "execution_count": 15,
      "outputs": [
        {
          "output_type": "execute_result",
          "data": {
            "text/plain": [
              "[0, 1, 2, 3, 4]"
            ]
          },
          "metadata": {},
          "execution_count": 15
        }
      ]
    },
    {
      "cell_type": "code",
      "source": [
        "range(0,20,2)"
      ],
      "metadata": {
        "colab": {
          "base_uri": "https://localhost:8080/"
        },
        "id": "rarjxGpLAT6z",
        "outputId": "0c4eebed-6628-4a18-f7aa-1d4d8fced2eb"
      },
      "execution_count": 16,
      "outputs": [
        {
          "output_type": "execute_result",
          "data": {
            "text/plain": [
              "range(0, 20, 2)"
            ]
          },
          "metadata": {},
          "execution_count": 16
        }
      ]
    },
    {
      "cell_type": "code",
      "source": [
        "list(range(0,20,2))"
      ],
      "metadata": {
        "colab": {
          "base_uri": "https://localhost:8080/"
        },
        "id": "5YmSxGzfAgNz",
        "outputId": "1d7f67a7-ce43-484f-b157-19ab86b261b9"
      },
      "execution_count": 18,
      "outputs": [
        {
          "output_type": "execute_result",
          "data": {
            "text/plain": [
              "[0, 2, 4, 6, 8, 10, 12, 14, 16, 18]"
            ]
          },
          "metadata": {},
          "execution_count": 18
        }
      ]
    },
    {
      "cell_type": "code",
      "source": [
        "list(range(-10,0))"
      ],
      "metadata": {
        "colab": {
          "base_uri": "https://localhost:8080/"
        },
        "id": "_4y_wtIhAiO7",
        "outputId": "43480c30-22e4-4990-90f7-2a62a8f8a116"
      },
      "execution_count": 19,
      "outputs": [
        {
          "output_type": "execute_result",
          "data": {
            "text/plain": [
              "[-10, -9, -8, -7, -6, -5, -4, -3, -2, -1]"
            ]
          },
          "metadata": {},
          "execution_count": 19
        }
      ]
    },
    {
      "cell_type": "code",
      "source": [
        "l1"
      ],
      "metadata": {
        "colab": {
          "base_uri": "https://localhost:8080/"
        },
        "id": "4srhkSSGAuAT",
        "outputId": "34368674-f63d-44bc-bc76-defdcca737d8"
      },
      "execution_count": 20,
      "outputs": [
        {
          "output_type": "execute_result",
          "data": {
            "text/plain": [
              "['jubin', 'agrawal', 'kumar', 'naik']"
            ]
          },
          "metadata": {},
          "execution_count": 20
        }
      ]
    },
    {
      "cell_type": "code",
      "source": [
        "len(l1)"
      ],
      "metadata": {
        "colab": {
          "base_uri": "https://localhost:8080/"
        },
        "id": "hh4wwhlDA3_6",
        "outputId": "bfebcc13-c3b0-498f-ca9e-256202d8a63b"
      },
      "execution_count": 21,
      "outputs": [
        {
          "output_type": "execute_result",
          "data": {
            "text/plain": [
              "4"
            ]
          },
          "metadata": {},
          "execution_count": 21
        }
      ]
    },
    {
      "cell_type": "code",
      "source": [
        "list(range(len(l1)))"
      ],
      "metadata": {
        "colab": {
          "base_uri": "https://localhost:8080/"
        },
        "id": "2et5ZxkGCK2q",
        "outputId": "f27261d5-866f-4f98-c144-93e391c53eb2"
      },
      "execution_count": 22,
      "outputs": [
        {
          "output_type": "execute_result",
          "data": {
            "text/plain": [
              "[0, 1, 2, 3]"
            ]
          },
          "metadata": {},
          "execution_count": 22
        }
      ]
    },
    {
      "cell_type": "code",
      "source": [
        "for i in range(len(l1)):\n",
        "    print(l1[i])"
      ],
      "metadata": {
        "colab": {
          "base_uri": "https://localhost:8080/"
        },
        "id": "IHZOOq3ICQEC",
        "outputId": "c0c3da89-be78-4a17-fe3a-2cae1b9a91d6"
      },
      "execution_count": 27,
      "outputs": [
        {
          "output_type": "stream",
          "name": "stdout",
          "text": [
            "jubin\n",
            "agrawal\n",
            "kumar\n",
            "naik\n"
          ]
        }
      ]
    },
    {
      "cell_type": "code",
      "source": [
        "for i in range(len(l1),0,-1):\n",
        "    pass # Add a placeholder statement, since the loop body was empty"
      ],
      "metadata": {
        "id": "L7PId_1pCSLS"
      },
      "execution_count": 30,
      "outputs": []
    },
    {
      "cell_type": "code",
      "source": [
        "list (range(len(l1)-1,-1,-1))"
      ],
      "metadata": {
        "colab": {
          "base_uri": "https://localhost:8080/"
        },
        "id": "Pz-0iS_JErDy",
        "outputId": "2c4b1903-9edc-44bd-aa5c-be3f77529f31"
      },
      "execution_count": 32,
      "outputs": [
        {
          "output_type": "execute_result",
          "data": {
            "text/plain": [
              "[3, 2, 1, 0]"
            ]
          },
          "metadata": {},
          "execution_count": 32
        }
      ]
    },
    {
      "cell_type": "code",
      "source": [
        "l1"
      ],
      "metadata": {
        "colab": {
          "base_uri": "https://localhost:8080/"
        },
        "id": "5nZgZSvlFFGS",
        "outputId": "e1955c37-0902-44db-884e-d0f913a99e65"
      },
      "execution_count": 34,
      "outputs": [
        {
          "output_type": "execute_result",
          "data": {
            "text/plain": [
              "['jubin', 'agrawal', 'kumar', 'naik']"
            ]
          },
          "metadata": {},
          "execution_count": 34
        }
      ]
    },
    {
      "cell_type": "code",
      "source": [
        "for i in range(len(l1)-1,-1,-1):\n",
        "  print(l1[i])"
      ],
      "metadata": {
        "colab": {
          "base_uri": "https://localhost:8080/"
        },
        "id": "-FIc1zeZFWR6",
        "outputId": "1e126fc3-ddab-4a11-ec9b-ec540ed214db"
      },
      "execution_count": 38,
      "outputs": [
        {
          "output_type": "stream",
          "name": "stdout",
          "text": [
            "naik\n",
            "kumar\n",
            "agrawal\n",
            "jubin\n"
          ]
        }
      ]
    },
    {
      "cell_type": "markdown",
      "source": [
        "extracting data from even index"
      ],
      "metadata": {
        "id": "0yJ4KzwnGTyj"
      }
    },
    {
      "cell_type": "code",
      "source": [
        "l2=[23,343,34,3434,343,43]"
      ],
      "metadata": {
        "id": "cDpMOzJzFeEL"
      },
      "execution_count": 39,
      "outputs": []
    },
    {
      "cell_type": "code",
      "source": [
        "l2"
      ],
      "metadata": {
        "colab": {
          "base_uri": "https://localhost:8080/"
        },
        "id": "ZHOM9FfvGXD5",
        "outputId": "53211c70-f289-4b8e-94ea-4574749bb94b"
      },
      "execution_count": 40,
      "outputs": [
        {
          "output_type": "execute_result",
          "data": {
            "text/plain": [
              "[23, 343, 34, 3434, 343, 43]"
            ]
          },
          "metadata": {},
          "execution_count": 40
        }
      ]
    },
    {
      "cell_type": "code",
      "source": [
        "range(0,len(l2),2)"
      ],
      "metadata": {
        "colab": {
          "base_uri": "https://localhost:8080/"
        },
        "id": "7Au1LD32GXoJ",
        "outputId": "abdae19c-e920-41fb-9438-85de1d03c83c"
      },
      "execution_count": 42,
      "outputs": [
        {
          "output_type": "execute_result",
          "data": {
            "text/plain": [
              "range(0, 6, 2)"
            ]
          },
          "metadata": {},
          "execution_count": 42
        }
      ]
    },
    {
      "cell_type": "code",
      "source": [
        "list(range(0,len(l2),2))"
      ],
      "metadata": {
        "colab": {
          "base_uri": "https://localhost:8080/"
        },
        "id": "rt4AxiuOGmJp",
        "outputId": "afed09dd-b148-44ab-c81e-4f608d7fbaf7"
      },
      "execution_count": 43,
      "outputs": [
        {
          "output_type": "execute_result",
          "data": {
            "text/plain": [
              "[0, 2, 4]"
            ]
          },
          "metadata": {},
          "execution_count": 43
        }
      ]
    },
    {
      "cell_type": "code",
      "source": [
        "list(range(0,len(l2),1))"
      ],
      "metadata": {
        "colab": {
          "base_uri": "https://localhost:8080/"
        },
        "id": "L7-3qCLEGyjy",
        "outputId": "9a1fcb2b-8a4f-4e57-f94e-0587febfed5c"
      },
      "execution_count": 44,
      "outputs": [
        {
          "output_type": "execute_result",
          "data": {
            "text/plain": [
              "[0, 1, 2, 3, 4, 5]"
            ]
          },
          "metadata": {},
          "execution_count": 44
        }
      ]
    },
    {
      "cell_type": "code",
      "source": [
        "for i in range(0,len(l2),2):\n",
        "  print(l2[i])"
      ],
      "metadata": {
        "colab": {
          "base_uri": "https://localhost:8080/"
        },
        "id": "VZVngbs2G45y",
        "outputId": "e8dc5a15-f66c-41bc-ff43-8c5ca2ac6648"
      },
      "execution_count": 47,
      "outputs": [
        {
          "output_type": "stream",
          "name": "stdout",
          "text": [
            "23\n",
            "34\n",
            "343\n"
          ]
        }
      ]
    },
    {
      "cell_type": "code",
      "source": [
        "for i in range(0,len(l2),1):\n",
        "  print(l2[i])"
      ],
      "metadata": {
        "colab": {
          "base_uri": "https://localhost:8080/"
        },
        "id": "FMmq1tLnHEXK",
        "outputId": "216601cb-37ae-448c-b342-7e52089d46d5"
      },
      "execution_count": 48,
      "outputs": [
        {
          "output_type": "stream",
          "name": "stdout",
          "text": [
            "23\n",
            "343\n",
            "34\n",
            "3434\n",
            "343\n",
            "43\n"
          ]
        }
      ]
    },
    {
      "cell_type": "markdown",
      "source": [
        "#output as a submition of all element- with for loop"
      ],
      "metadata": {
        "id": "kWhnWreYH1Ga"
      }
    },
    {
      "cell_type": "code",
      "source": [
        "l3=[34354,34,3434,3434,354,6576,7,878,5]\n"
      ],
      "metadata": {
        "id": "Xd-IajKUHRDa"
      },
      "execution_count": 50,
      "outputs": []
    },
    {
      "cell_type": "code",
      "source": [
        "sum(l3)##easiest way"
      ],
      "metadata": {
        "colab": {
          "base_uri": "https://localhost:8080/"
        },
        "id": "1BcUswFTHuQy",
        "outputId": "9cda3bde-578b-43ac-f63c-04762f99d76d"
      },
      "execution_count": 53,
      "outputs": [
        {
          "output_type": "execute_result",
          "data": {
            "text/plain": [
              "49076"
            ]
          },
          "metadata": {},
          "execution_count": 53
        }
      ]
    },
    {
      "cell_type": "markdown",
      "source": [
        ">>with for loop"
      ],
      "metadata": {
        "id": "iR3hCAosIEVC"
      }
    },
    {
      "cell_type": "code",
      "source": [
        "result=0\n",
        "for  i in l3:\n",
        "  result=result+i\n",
        "result"
      ],
      "metadata": {
        "colab": {
          "base_uri": "https://localhost:8080/"
        },
        "id": "H-ILBifHH-7J",
        "outputId": "cfbabdd3-aa41-46af-f763-8c520f1b6aa4"
      },
      "execution_count": 56,
      "outputs": [
        {
          "output_type": "execute_result",
          "data": {
            "text/plain": [
              "49076"
            ]
          },
          "metadata": {},
          "execution_count": 56
        }
      ]
    },
    {
      "cell_type": "code",
      "source": [
        "t=(2,3,4,5,5,6)"
      ],
      "metadata": {
        "id": "sV8ueaa7ILFB"
      },
      "execution_count": 57,
      "outputs": []
    },
    {
      "cell_type": "code",
      "source": [
        "for i in t:\n",
        "  print(i)"
      ],
      "metadata": {
        "colab": {
          "base_uri": "https://localhost:8080/"
        },
        "id": "_C-PiarlJUEp",
        "outputId": "99cb6d9b-0d7d-4573-cbd3-8bd8bff7b750"
      },
      "execution_count": 58,
      "outputs": [
        {
          "output_type": "stream",
          "name": "stdout",
          "text": [
            "2\n",
            "3\n",
            "4\n",
            "5\n",
            "5\n",
            "6\n"
          ]
        }
      ]
    },
    {
      "cell_type": "code",
      "source": [
        "result=0\n",
        "for i in t:\n",
        "  result= result+1\n",
        "  print(i)"
      ],
      "metadata": {
        "colab": {
          "base_uri": "https://localhost:8080/"
        },
        "id": "Ag9efvPlJVrp",
        "outputId": "9f4ee767-1041-48ad-dede-82e41ce9a1ab"
      },
      "execution_count": 59,
      "outputs": [
        {
          "output_type": "stream",
          "name": "stdout",
          "text": [
            "2\n",
            "3\n",
            "4\n",
            "5\n",
            "5\n",
            "6\n"
          ]
        }
      ]
    },
    {
      "cell_type": "code",
      "source": [
        "s= {1,2,3,4,5,\"sudh\",\"pwskills\"}"
      ],
      "metadata": {
        "id": "zEx7B6XJJcPZ"
      },
      "execution_count": 60,
      "outputs": []
    },
    {
      "cell_type": "code",
      "source": [
        "for i in s :\n",
        "  print(i)\n",
        ""
      ],
      "metadata": {
        "colab": {
          "base_uri": "https://localhost:8080/"
        },
        "id": "VrUp1EytJjJY",
        "outputId": "0fffbdfa-8def-45e5-f000-b29f69eca89d"
      },
      "execution_count": 62,
      "outputs": [
        {
          "output_type": "stream",
          "name": "stdout",
          "text": [
            "1\n",
            "2\n",
            "3\n",
            "4\n",
            "5\n",
            "pwskills\n",
            "sudh\n"
          ]
        }
      ]
    },
    {
      "cell_type": "markdown",
      "source": [
        ".. for loop with string"
      ],
      "metadata": {
        "id": "-yf5PR0GJqyL"
      }
    },
    {
      "cell_type": "code",
      "source": [
        "s1= \"pwskills\""
      ],
      "metadata": {
        "id": "sotRQwghJoW7"
      },
      "execution_count": 63,
      "outputs": []
    },
    {
      "cell_type": "code",
      "source": [
        "for i in s1:\n",
        "  print(i)"
      ],
      "metadata": {
        "colab": {
          "base_uri": "https://localhost:8080/"
        },
        "id": "I9IKjtQoJvkR",
        "outputId": "94887917-8f45-4afb-91d1-dd5234ee0bd4"
      },
      "execution_count": 64,
      "outputs": [
        {
          "output_type": "stream",
          "name": "stdout",
          "text": [
            "p\n",
            "w\n",
            "s\n",
            "k\n",
            "i\n",
            "l\n",
            "l\n",
            "s\n"
          ]
        }
      ]
    },
    {
      "cell_type": "markdown",
      "source": [
        ".. for loop with dictionary"
      ],
      "metadata": {
        "id": "p5S1T03OKQyq"
      }
    },
    {
      "cell_type": "code",
      "source": [
        "d= {\"name\": \"sudh\",\"class\": \"data schince master\", \"topic\": [\"python\",\"stats\",\"machine learning\",\"DL\",\"CV\",\"NLP\",\"resume\",\"interview\"]}"
      ],
      "metadata": {
        "id": "E8vkJGa7JzRK"
      },
      "execution_count": 66,
      "outputs": []
    },
    {
      "cell_type": "code",
      "source": [
        "d"
      ],
      "metadata": {
        "colab": {
          "base_uri": "https://localhost:8080/"
        },
        "id": "ryR1adm2KNj5",
        "outputId": "aa884dda-d33c-4afb-ac21-3eca553f7460"
      },
      "execution_count": 67,
      "outputs": [
        {
          "output_type": "execute_result",
          "data": {
            "text/plain": [
              "{'name': 'sudh',\n",
              " 'class': 'data schince master',\n",
              " 'topic': ['python',\n",
              "  'stats',\n",
              "  'machine learning',\n",
              "  'DL',\n",
              "  'CV',\n",
              "  'NLP',\n",
              "  'resume',\n",
              "  'interview']}"
            ]
          },
          "metadata": {},
          "execution_count": 67
        }
      ]
    },
    {
      "cell_type": "markdown",
      "source": [
        ">> print dic value on the basis of keys"
      ],
      "metadata": {
        "id": "4moZTxZMKdPp"
      }
    },
    {
      "cell_type": "code",
      "source": [
        "d.keys()"
      ],
      "metadata": {
        "colab": {
          "base_uri": "https://localhost:8080/"
        },
        "id": "wvenfmC5KYbh",
        "outputId": "b4b0120e-e17e-4daf-ed0c-8252d2310274"
      },
      "execution_count": 68,
      "outputs": [
        {
          "output_type": "execute_result",
          "data": {
            "text/plain": [
              "dict_keys(['name', 'class', 'topic'])"
            ]
          },
          "metadata": {},
          "execution_count": 68
        }
      ]
    },
    {
      "cell_type": "code",
      "source": [
        "for i in d.keys():\n",
        "   print(d[i])"
      ],
      "metadata": {
        "colab": {
          "base_uri": "https://localhost:8080/"
        },
        "id": "Xq-OhXBBKluB",
        "outputId": "12a36d12-0c88-42ae-d6ce-e1778a52328c"
      },
      "execution_count": 70,
      "outputs": [
        {
          "output_type": "stream",
          "name": "stdout",
          "text": [
            "sudh\n",
            "data schince master\n",
            "['python', 'stats', 'machine learning', 'DL', 'CV', 'NLP', 'resume', 'interview']\n"
          ]
        }
      ]
    },
    {
      "cell_type": "code",
      "source": [
        "d.values()"
      ],
      "metadata": {
        "colab": {
          "base_uri": "https://localhost:8080/"
        },
        "id": "J6ct8y6bKolh",
        "outputId": "6ed5e8a8-b07c-4812-af2e-9ef49ea7ea81"
      },
      "execution_count": 72,
      "outputs": [
        {
          "output_type": "execute_result",
          "data": {
            "text/plain": [
              "dict_values(['sudh', 'data schince master', ['python', 'stats', 'machine learning', 'DL', 'CV', 'NLP', 'resume', 'interview']])"
            ]
          },
          "metadata": {},
          "execution_count": 72
        }
      ]
    },
    {
      "cell_type": "code",
      "source": [
        "for i in d.values():\n",
        "  print(i)"
      ],
      "metadata": {
        "colab": {
          "base_uri": "https://localhost:8080/"
        },
        "id": "wHVqcPk7Kzj5",
        "outputId": "b8dd4fbd-292d-48c6-d6a8-42b4f46e72cd"
      },
      "execution_count": 73,
      "outputs": [
        {
          "output_type": "stream",
          "name": "stdout",
          "text": [
            "sudh\n",
            "data schince master\n",
            "['python', 'stats', 'machine learning', 'DL', 'CV', 'NLP', 'resume', 'interview']\n"
          ]
        }
      ]
    },
    {
      "cell_type": "code",
      "source": [
        "d.items()"
      ],
      "metadata": {
        "colab": {
          "base_uri": "https://localhost:8080/"
        },
        "id": "9kPTD2mKK3jB",
        "outputId": "faaad51a-7508-46a6-a466-9f15a92d9baa"
      },
      "execution_count": 74,
      "outputs": [
        {
          "output_type": "execute_result",
          "data": {
            "text/plain": [
              "dict_items([('name', 'sudh'), ('class', 'data schince master'), ('topic', ['python', 'stats', 'machine learning', 'DL', 'CV', 'NLP', 'resume', 'interview'])])"
            ]
          },
          "metadata": {},
          "execution_count": 74
        }
      ]
    },
    {
      "cell_type": "code",
      "source": [
        "for i in d.items():\n",
        "  print(i)"
      ],
      "metadata": {
        "colab": {
          "base_uri": "https://localhost:8080/"
        },
        "id": "FRWdLTcsK-fB",
        "outputId": "5c58b6a1-c290-4b5e-943e-16d438fbb4be"
      },
      "execution_count": 75,
      "outputs": [
        {
          "output_type": "stream",
          "name": "stdout",
          "text": [
            "('name', 'sudh')\n",
            "('class', 'data schince master')\n",
            "('topic', ['python', 'stats', 'machine learning', 'DL', 'CV', 'NLP', 'resume', 'interview'])\n"
          ]
        }
      ]
    },
    {
      "cell_type": "markdown",
      "source": [
        ">>funtions repractise"
      ],
      "metadata": {
        "id": "uOOX8mLRLQhK"
      }
    },
    {
      "cell_type": "code",
      "source": [
        "print(\"this is my print\")"
      ],
      "metadata": {
        "colab": {
          "base_uri": "https://localhost:8080/"
        },
        "id": "TMWnrsebLBsI",
        "outputId": "79847c45-dddf-4ea0-ab9b-2d3145a35ca7"
      },
      "execution_count": 1,
      "outputs": [
        {
          "output_type": "stream",
          "name": "stdout",
          "text": [
            "this is my print\n"
          ]
        }
      ]
    },
    {
      "cell_type": "code",
      "source": [
        "def test():\n",
        "  pass"
      ],
      "metadata": {
        "id": "hrBX-mpqrz4-"
      },
      "execution_count": 2,
      "outputs": []
    },
    {
      "cell_type": "code",
      "source": [
        "def test():\n",
        "  print(\"let us practise fucntion\")"
      ],
      "metadata": {
        "id": "3HxX8ahPtnCW"
      },
      "execution_count": 3,
      "outputs": []
    },
    {
      "cell_type": "code",
      "source": [
        "test()"
      ],
      "metadata": {
        "colab": {
          "base_uri": "https://localhost:8080/"
        },
        "id": "WfPautIWtrHe",
        "outputId": "ef8ccfea-f21f-4753-f647-20ccbfd1fc5e"
      },
      "execution_count": 4,
      "outputs": [
        {
          "output_type": "stream",
          "name": "stdout",
          "text": [
            "let us practise fucntion\n"
          ]
        }
      ]
    },
    {
      "cell_type": "code",
      "source": [
        "test()+\"Jubin\""
      ],
      "metadata": {
        "colab": {
          "base_uri": "https://localhost:8080/",
          "height": 159
        },
        "id": "LPncrLZottWN",
        "outputId": "e9677a9f-0099-4e4c-9b0b-92c56dd73f7f"
      },
      "execution_count": 5,
      "outputs": [
        {
          "output_type": "stream",
          "name": "stdout",
          "text": [
            "let us practise fucntion\n"
          ]
        },
        {
          "output_type": "error",
          "ename": "TypeError",
          "evalue": "unsupported operand type(s) for +: 'NoneType' and 'str'",
          "traceback": [
            "\u001b[0;31m---------------------------------------------------------------------------\u001b[0m",
            "\u001b[0;31mTypeError\u001b[0m                                 Traceback (most recent call last)",
            "\u001b[0;32m<ipython-input-5-4fe42679a8d7>\u001b[0m in \u001b[0;36m<cell line: 0>\u001b[0;34m()\u001b[0m\n\u001b[0;32m----> 1\u001b[0;31m \u001b[0mtest\u001b[0m\u001b[0;34m(\u001b[0m\u001b[0;34m)\u001b[0m\u001b[0;34m+\u001b[0m\u001b[0;34m\"Jubin\"\u001b[0m\u001b[0;34m\u001b[0m\u001b[0;34m\u001b[0m\u001b[0m\n\u001b[0m",
            "\u001b[0;31mTypeError\u001b[0m: unsupported operand type(s) for +: 'NoneType' and 'str'"
          ]
        }
      ]
    },
    {
      "cell_type": "code",
      "source": [
        "def test2():\n",
        "  return \"let us practise fucntion\""
      ],
      "metadata": {
        "id": "MtwNytRyt6VV"
      },
      "execution_count": 6,
      "outputs": []
    },
    {
      "cell_type": "code",
      "source": [
        "test2()"
      ],
      "metadata": {
        "colab": {
          "base_uri": "https://localhost:8080/",
          "height": 35
        },
        "id": "cMtRaa0_uzvu",
        "outputId": "d409085a-b8f0-48c6-b179-089bf9b6074f"
      },
      "execution_count": 7,
      "outputs": [
        {
          "output_type": "execute_result",
          "data": {
            "text/plain": [
              "'let us practise fucntion'"
            ],
            "application/vnd.google.colaboratory.intrinsic+json": {
              "type": "string"
            }
          },
          "metadata": {},
          "execution_count": 7
        }
      ]
    },
    {
      "cell_type": "code",
      "source": [
        "test2() + \"with sudhanshu kumar\""
      ],
      "metadata": {
        "colab": {
          "base_uri": "https://localhost:8080/",
          "height": 35
        },
        "id": "CIsQSRbEu1D3",
        "outputId": "97f659f5-f80c-4397-8896-245358ffd4f7"
      },
      "execution_count": 8,
      "outputs": [
        {
          "output_type": "execute_result",
          "data": {
            "text/plain": [
              "'let us practise fucntionwith sudhanshu kumar'"
            ],
            "application/vnd.google.colaboratory.intrinsic+json": {
              "type": "string"
            }
          },
          "metadata": {},
          "execution_count": 8
        }
      ]
    },
    {
      "cell_type": "code",
      "source": [
        "def test3():\n",
        "  return \"Jubin\", \"Mechanical Engineer\", \"germany\",\"India\""
      ],
      "metadata": {
        "id": "SodtZ4Fgu5Xd"
      },
      "execution_count": 9,
      "outputs": []
    },
    {
      "cell_type": "code",
      "source": [
        "a,b,c,d = test3()"
      ],
      "metadata": {
        "id": "xIgbBaXZvLxd"
      },
      "execution_count": 10,
      "outputs": []
    },
    {
      "cell_type": "code",
      "source": [
        "a"
      ],
      "metadata": {
        "colab": {
          "base_uri": "https://localhost:8080/",
          "height": 35
        },
        "id": "pPqTIwquvQy9",
        "outputId": "8a561f69-5984-480e-bcc9-5570356279fc"
      },
      "execution_count": 11,
      "outputs": [
        {
          "output_type": "execute_result",
          "data": {
            "text/plain": [
              "'Jubin'"
            ],
            "application/vnd.google.colaboratory.intrinsic+json": {
              "type": "string"
            }
          },
          "metadata": {},
          "execution_count": 11
        }
      ]
    },
    {
      "cell_type": "code",
      "source": [
        "b"
      ],
      "metadata": {
        "colab": {
          "base_uri": "https://localhost:8080/",
          "height": 35
        },
        "id": "RLDPWGykvRx3",
        "outputId": "4d4c34e2-2dc5-48ab-bd35-60f815e2e812"
      },
      "execution_count": 12,
      "outputs": [
        {
          "output_type": "execute_result",
          "data": {
            "text/plain": [
              "'Mechanical Engineer'"
            ],
            "application/vnd.google.colaboratory.intrinsic+json": {
              "type": "string"
            }
          },
          "metadata": {},
          "execution_count": 12
        }
      ]
    },
    {
      "cell_type": "code",
      "source": [
        "c"
      ],
      "metadata": {
        "colab": {
          "base_uri": "https://localhost:8080/",
          "height": 35
        },
        "id": "kXEk84TNvSL3",
        "outputId": "801d81f4-2f46-4cab-8f16-6ee39317b30e"
      },
      "execution_count": 13,
      "outputs": [
        {
          "output_type": "execute_result",
          "data": {
            "text/plain": [
              "'germany'"
            ],
            "application/vnd.google.colaboratory.intrinsic+json": {
              "type": "string"
            }
          },
          "metadata": {},
          "execution_count": 13
        }
      ]
    },
    {
      "cell_type": "code",
      "source": [
        "d"
      ],
      "metadata": {
        "colab": {
          "base_uri": "https://localhost:8080/",
          "height": 35
        },
        "id": "rldRilvavSkd",
        "outputId": "cf06f4ba-6a27-43f6-dc8a-9e2ec2596beb"
      },
      "execution_count": 14,
      "outputs": [
        {
          "output_type": "execute_result",
          "data": {
            "text/plain": [
              "'India'"
            ],
            "application/vnd.google.colaboratory.intrinsic+json": {
              "type": "string"
            }
          },
          "metadata": {},
          "execution_count": 14
        }
      ]
    },
    {
      "cell_type": "code",
      "source": [
        "def test4():\n",
        "\n",
        "  a= 5+6/7\n",
        "  return a\n",
        ""
      ],
      "metadata": {
        "id": "AtTLLzUnvS9m"
      },
      "execution_count": 16,
      "outputs": []
    },
    {
      "cell_type": "code",
      "source": [
        "test4()"
      ],
      "metadata": {
        "colab": {
          "base_uri": "https://localhost:8080/"
        },
        "id": "VjZVR01exzze",
        "outputId": "a7b1003e-0da2-428c-a6ae-9a3f4ea7e692"
      },
      "execution_count": 17,
      "outputs": [
        {
          "output_type": "execute_result",
          "data": {
            "text/plain": [
              "5.857142857142857"
            ]
          },
          "metadata": {},
          "execution_count": 17
        }
      ]
    },
    {
      "cell_type": "markdown",
      "source": [
        "User gives input for the data who call it"
      ],
      "metadata": {
        "id": "Zher0DZ1yHXW"
      }
    },
    {
      "cell_type": "code",
      "source": [
        "def test5(a,b,c):\n",
        "  d=a+b/c\n",
        "  return d\n"
      ],
      "metadata": {
        "id": "t9yqM9kbx_NV"
      },
      "execution_count": 23,
      "outputs": []
    },
    {
      "cell_type": "code",
      "source": [
        "test5(1,2,3)"
      ],
      "metadata": {
        "colab": {
          "base_uri": "https://localhost:8080/"
        },
        "id": "cuUnn_VryRH3",
        "outputId": "5ca28d17-3a1c-48f0-9e50-04f607133a4e"
      },
      "execution_count": 25,
      "outputs": [
        {
          "output_type": "execute_result",
          "data": {
            "text/plain": [
              "1.6666666666666665"
            ]
          },
          "metadata": {},
          "execution_count": 25
        }
      ]
    },
    {
      "cell_type": "markdown",
      "source": [
        "concatination in fucntion\n"
      ],
      "metadata": {
        "id": "jqWukftczzTv"
      }
    },
    {
      "cell_type": "code",
      "source": [
        "def test(a,b):\n",
        "  return a+b"
      ],
      "metadata": {
        "id": "oskhxgGAyUp9"
      },
      "execution_count": 27,
      "outputs": []
    },
    {
      "cell_type": "code",
      "source": [
        "test(\"Jubin\",\"Agrawal\")"
      ],
      "metadata": {
        "colab": {
          "base_uri": "https://localhost:8080/",
          "height": 35
        },
        "id": "9GgmPK9Izoam",
        "outputId": "e9fd170d-3758-435a-b594-fed01d6fa0bc"
      },
      "execution_count": 30,
      "outputs": [
        {
          "output_type": "execute_result",
          "data": {
            "text/plain": [
              "'JubinAgrawal'"
            ],
            "application/vnd.google.colaboratory.intrinsic+json": {
              "type": "string"
            }
          },
          "metadata": {},
          "execution_count": 30
        }
      ]
    },
    {
      "cell_type": "code",
      "source": [],
      "metadata": {
        "id": "HGS3L69vz81p"
      },
      "execution_count": null,
      "outputs": []
    },
    {
      "cell_type": "code",
      "source": [
        "test ([1,2,3,4,55,6],[4,5,6,77,8])"
      ],
      "metadata": {
        "colab": {
          "base_uri": "https://localhost:8080/"
        },
        "id": "oEE_lHLnzvS2",
        "outputId": "279e3946-3751-48aa-9239-159380580de3"
      },
      "execution_count": 33,
      "outputs": [
        {
          "output_type": "execute_result",
          "data": {
            "text/plain": [
              "[1, 2, 3, 4, 55, 6, 4, 5, 6, 77, 8]"
            ]
          },
          "metadata": {},
          "execution_count": 33
        }
      ]
    },
    {
      "cell_type": "markdown",
      "source": [
        ">>another case"
      ],
      "metadata": {
        "id": "fQYygKBz0Bl2"
      }
    },
    {
      "cell_type": "code",
      "source": [
        "l=[1,2,3,4,4,5,6,\"Jubin\",\"Agarwal\",[1,2,34,54,5]]"
      ],
      "metadata": {
        "id": "c7zzMsOZz66d"
      },
      "execution_count": 50,
      "outputs": []
    },
    {
      "cell_type": "code",
      "source": [
        "l1=[]\n",
        "for i in l:\n",
        "  if type(i)== int or type(i)== float:\n",
        "    l1.append(i)\n",
        "\n",
        ""
      ],
      "metadata": {
        "id": "7ZyG4E9R0IN1"
      },
      "execution_count": 59,
      "outputs": []
    },
    {
      "cell_type": "code",
      "source": [
        "print(type(i))"
      ],
      "metadata": {
        "colab": {
          "base_uri": "https://localhost:8080/"
        },
        "id": "_qi-GpRw0NvH",
        "outputId": "b9d8e201-be7f-47eb-e507-2d329390e4c0"
      },
      "execution_count": 60,
      "outputs": [
        {
          "output_type": "stream",
          "name": "stdout",
          "text": [
            "<class 'list'>\n"
          ]
        }
      ]
    },
    {
      "cell_type": "code",
      "source": [
        "l1"
      ],
      "metadata": {
        "colab": {
          "base_uri": "https://localhost:8080/"
        },
        "id": "WGYlXwYr0Y9u",
        "outputId": "2af130b3-dfec-439a-c809-ec94adcee01b"
      },
      "execution_count": 61,
      "outputs": [
        {
          "output_type": "execute_result",
          "data": {
            "text/plain": [
              "[1, 2, 3, 4, 4, 5, 6]"
            ]
          },
          "metadata": {},
          "execution_count": 61
        }
      ]
    },
    {
      "cell_type": "code",
      "source": [
        "def test7(l):\n",
        "  l1=[]\n",
        "  for i in l:\n",
        "    if type(i)== int or type(i)== float:\n",
        "      l1.append(i)\n",
        "  return l1"
      ],
      "metadata": {
        "id": "yX8lJbn20ij-"
      },
      "execution_count": 15,
      "outputs": []
    },
    {
      "cell_type": "code",
      "source": [
        "test7(l)"
      ],
      "metadata": {
        "colab": {
          "base_uri": "https://localhost:8080/"
        },
        "id": "HQnqatdg2SE9",
        "outputId": "fe78ed21-6bcc-494a-8ac0-f52f2923d6ca"
      },
      "execution_count": 16,
      "outputs": [
        {
          "output_type": "execute_result",
          "data": {
            "text/plain": [
              "[1, 2, 3, 4, 4, 5, 6]"
            ]
          },
          "metadata": {},
          "execution_count": 16
        }
      ]
    },
    {
      "cell_type": "markdown",
      "source": [
        "taking out list in list"
      ],
      "metadata": {
        "id": "zyr-a3643K_I"
      }
    },
    {
      "cell_type": "code",
      "source": [
        "l1=[1,2,3,4,4,5,6,\"Jubin\",\"Agarwal\",[1,2,34,54,5]]"
      ],
      "metadata": {
        "id": "rjQnP3FL2jOQ"
      },
      "execution_count": 11,
      "outputs": []
    },
    {
      "cell_type": "code",
      "source": [
        "def test8(a):\n",
        "  l1=[]\n",
        "  for i in a:\n",
        "    if type(i)== list:\n",
        "      for j in i:\n",
        "        l1.append(j)\n",
        "    else:\n",
        "      if type (i) == int or type (i)== float:\n",
        "        l1.append(i)\n",
        "  return l1"
      ],
      "metadata": {
        "id": "Dj1XFqcF26Ku"
      },
      "execution_count": 12,
      "outputs": []
    },
    {
      "cell_type": "code",
      "source": [
        "test8(l1)"
      ],
      "metadata": {
        "colab": {
          "base_uri": "https://localhost:8080/"
        },
        "id": "fxATJUpW4Gi1",
        "outputId": "bd1ef866-9106-4ee3-d469-3173f66a6142"
      },
      "execution_count": 13,
      "outputs": [
        {
          "output_type": "execute_result",
          "data": {
            "text/plain": [
              "[1, 2, 3, 4, 4, 5, 6, 1, 2, 34, 54, 5]"
            ]
          },
          "metadata": {},
          "execution_count": 13
        }
      ]
    },
    {
      "cell_type": "code",
      "source": [
        "l"
      ],
      "metadata": {
        "colab": {
          "base_uri": "https://localhost:8080/"
        },
        "id": "l5u3gZre4LpF",
        "outputId": "7e27dca6-edc2-4551-8b75-e965a86e87e8"
      },
      "execution_count": 14,
      "outputs": [
        {
          "output_type": "execute_result",
          "data": {
            "text/plain": [
              "[1, 2, 3, 4, 4, 5, 6, 'Jubin', 'Agarwal', [1, 2, 34, 54, 5]]"
            ]
          },
          "metadata": {},
          "execution_count": 14
        }
      ]
    },
    {
      "cell_type": "code",
      "source": [],
      "metadata": {
        "id": "CPW7-4Rv425d"
      },
      "execution_count": 22,
      "outputs": []
    },
    {
      "cell_type": "code",
      "source": [
        "test8(l1)"
      ],
      "metadata": {
        "id": "QjzJQe1p8FKk",
        "outputId": "4368f101-beb4-49e4-fe04-fcc31643e733",
        "colab": {
          "base_uri": "https://localhost:8080/"
        }
      },
      "execution_count": 24,
      "outputs": [
        {
          "output_type": "execute_result",
          "data": {
            "text/plain": [
              "[1, 2, 34, 54, 5]"
            ]
          },
          "metadata": {},
          "execution_count": 24
        }
      ]
    },
    {
      "cell_type": "code",
      "source": [
        "len()"
      ],
      "metadata": {
        "id": "JeTiOLGO8HlU",
        "outputId": "af61b49f-68f0-4edb-b086-a210a5ac013b",
        "colab": {
          "base_uri": "https://localhost:8080/",
          "height": 141
        }
      },
      "execution_count": 26,
      "outputs": [
        {
          "output_type": "error",
          "ename": "TypeError",
          "evalue": "len() takes exactly one argument (0 given)",
          "traceback": [
            "\u001b[0;31m---------------------------------------------------------------------------\u001b[0m",
            "\u001b[0;31mTypeError\u001b[0m                                 Traceback (most recent call last)",
            "\u001b[0;32m<ipython-input-26-adf3103c7c3e>\u001b[0m in \u001b[0;36m<cell line: 0>\u001b[0;34m()\u001b[0m\n\u001b[0;32m----> 1\u001b[0;31m \u001b[0mlen\u001b[0m\u001b[0;34m(\u001b[0m\u001b[0;34m)\u001b[0m\u001b[0;34m\u001b[0m\u001b[0;34m\u001b[0m\u001b[0m\n\u001b[0m",
            "\u001b[0;31mTypeError\u001b[0m: len() takes exactly one argument (0 given)"
          ]
        }
      ]
    },
    {
      "cell_type": "markdown",
      "source": [
        ">>concept of doc string"
      ],
      "metadata": {
        "id": "Nq1T4HS78vH3"
      }
    },
    {
      "cell_type": "code",
      "source": [
        "def test9(a):\n",
        "  \"\"\"\"\"this is my function to extract num data from list\"\"\"\n",
        "  l1=[]\n",
        "  for i in a:\n",
        "    if type(i)== list:\n",
        "      for j in i:\n",
        "        l1.append(j)\n",
        "    else:\n",
        "      if type (i) == int or type (i)== float:\n",
        "        l1.append(i)\n",
        "  return l1"
      ],
      "metadata": {
        "id": "86AsiJEJ8h6U"
      },
      "execution_count": 28,
      "outputs": []
    },
    {
      "cell_type": "code",
      "source": [
        "test9(l)"
      ],
      "metadata": {
        "id": "GZnDz3J28oic",
        "outputId": "ccf2faaa-7a93-41b6-9dc9-ff90925c57a5",
        "colab": {
          "base_uri": "https://localhost:8080/"
        }
      },
      "execution_count": 32,
      "outputs": [
        {
          "output_type": "execute_result",
          "data": {
            "text/plain": [
              "[1, 2, 3, 4, 4, 5, 6, 1, 2, 34, 54, 5]"
            ]
          },
          "metadata": {},
          "execution_count": 32
        }
      ]
    },
    {
      "cell_type": "code",
      "source": [
        "def test(a,b):\n",
        "  return a+b"
      ],
      "metadata": {
        "id": "vYf6kXvN81WM"
      },
      "execution_count": 33,
      "outputs": []
    },
    {
      "cell_type": "code",
      "source": [
        "def test11(*args):\n",
        "  return args"
      ],
      "metadata": {
        "id": "vsyJ_bHg9IVn"
      },
      "execution_count": 42,
      "outputs": []
    },
    {
      "cell_type": "code",
      "source": [
        "type(test11())"
      ],
      "metadata": {
        "id": "WSv3HjVw9cPc",
        "outputId": "7c0305d6-c14b-4244-f4d9-5f7b5d54d537",
        "colab": {
          "base_uri": "https://localhost:8080/"
        }
      },
      "execution_count": 43,
      "outputs": [
        {
          "output_type": "execute_result",
          "data": {
            "text/plain": [
              "tuple"
            ]
          },
          "metadata": {},
          "execution_count": 43
        }
      ]
    },
    {
      "cell_type": "code",
      "source": [
        "test11(1,2,3)"
      ],
      "metadata": {
        "id": "ea4eYLYZ9ej0",
        "outputId": "4b9136b2-a372-44d2-e9bc-8710dd5385f2",
        "colab": {
          "base_uri": "https://localhost:8080/"
        }
      },
      "execution_count": 45,
      "outputs": [
        {
          "output_type": "execute_result",
          "data": {
            "text/plain": [
              "(1, 2, 3)"
            ]
          },
          "metadata": {},
          "execution_count": 45
        }
      ]
    },
    {
      "cell_type": "code",
      "source": [
        "test11(1,2,3,\"jubin\",\"agarwal\",[1,2,3,4,5])"
      ],
      "metadata": {
        "id": "CDBaSW6V9rSN",
        "outputId": "fc2ed53d-ae0d-44ca-dc74-8aa32b762c8b",
        "colab": {
          "base_uri": "https://localhost:8080/"
        }
      },
      "execution_count": 46,
      "outputs": [
        {
          "output_type": "execute_result",
          "data": {
            "text/plain": [
              "(1, 2, 3, 'jubin', 'agarwal', [1, 2, 3, 4, 5])"
            ]
          },
          "metadata": {},
          "execution_count": 46
        }
      ]
    },
    {
      "cell_type": "code",
      "source": [
        "def test12(*args,a):\n",
        "  return args,a"
      ],
      "metadata": {
        "id": "7DDi9Kvh9xVT"
      },
      "execution_count": 47,
      "outputs": []
    },
    {
      "cell_type": "code",
      "source": [
        "##test(1,2,3,4)- not getting multiple inputs"
      ],
      "metadata": {
        "id": "Jboun9LR-zlb",
        "outputId": "11347b09-ead4-4a3b-cf14-a00a14c2bc5b",
        "colab": {
          "base_uri": "https://localhost:8080/",
          "height": 141
        }
      },
      "execution_count": 48,
      "outputs": [
        {
          "output_type": "error",
          "ename": "TypeError",
          "evalue": "test() takes 2 positional arguments but 4 were given",
          "traceback": [
            "\u001b[0;31m---------------------------------------------------------------------------\u001b[0m",
            "\u001b[0;31mTypeError\u001b[0m                                 Traceback (most recent call last)",
            "\u001b[0;32m<ipython-input-48-0c4be6dad9c5>\u001b[0m in \u001b[0;36m<cell line: 0>\u001b[0;34m()\u001b[0m\n\u001b[0;32m----> 1\u001b[0;31m \u001b[0mtest\u001b[0m\u001b[0;34m(\u001b[0m\u001b[0;36m1\u001b[0m\u001b[0;34m,\u001b[0m\u001b[0;36m2\u001b[0m\u001b[0;34m,\u001b[0m\u001b[0;36m3\u001b[0m\u001b[0;34m,\u001b[0m\u001b[0;36m4\u001b[0m\u001b[0;34m)\u001b[0m\u001b[0;34m\u001b[0m\u001b[0;34m\u001b[0m\u001b[0m\n\u001b[0m",
            "\u001b[0;31mTypeError\u001b[0m: test() takes 2 positional arguments but 4 were given"
          ]
        }
      ]
    },
    {
      "cell_type": "code",
      "source": [
        "test12(1,2,3,34,4,a= 23)"
      ],
      "metadata": {
        "id": "mQ0RGoq0-1WT",
        "outputId": "cdf07e15-2746-4f87-ca32-39bdca932885",
        "colab": {
          "base_uri": "https://localhost:8080/"
        }
      },
      "execution_count": 49,
      "outputs": [
        {
          "output_type": "execute_result",
          "data": {
            "text/plain": [
              "((1, 2, 3, 34, 4), 23)"
            ]
          },
          "metadata": {},
          "execution_count": 49
        }
      ]
    },
    {
      "cell_type": "code",
      "source": [
        "def test13(c,d,a=23,b=1):\n",
        "  return a,b,c,d"
      ],
      "metadata": {
        "id": "f49lvcGS-_Dc"
      },
      "execution_count": 52,
      "outputs": []
    },
    {
      "cell_type": "code",
      "source": [
        "test13(3,4,23,1)"
      ],
      "metadata": {
        "id": "w4ncylV2_H8z",
        "outputId": "020cc577-05c4-45d5-be49-2a36ac7bf387",
        "colab": {
          "base_uri": "https://localhost:8080/"
        }
      },
      "execution_count": 53,
      "outputs": [
        {
          "output_type": "execute_result",
          "data": {
            "text/plain": [
              "(23, 1, 3, 4)"
            ]
          },
          "metadata": {},
          "execution_count": 53
        }
      ]
    },
    {
      "cell_type": "markdown",
      "source": [
        "OR"
      ],
      "metadata": {
        "id": "1qNXND5G_afG"
      }
    },
    {
      "cell_type": "code",
      "source": [
        "test13(3,4)"
      ],
      "metadata": {
        "id": "9r950SnV_Sa0",
        "outputId": "ba330f7d-16ea-4093-d6b6-cde793b80763",
        "colab": {
          "base_uri": "https://localhost:8080/"
        }
      },
      "execution_count": 54,
      "outputs": [
        {
          "output_type": "execute_result",
          "data": {
            "text/plain": [
              "(23, 1, 3, 4)"
            ]
          },
          "metadata": {},
          "execution_count": 54
        }
      ]
    },
    {
      "cell_type": "code",
      "source": [
        "test13 (2,4,a=2334)"
      ],
      "metadata": {
        "id": "mgdiAMi7_dFs",
        "outputId": "c9ca6aca-a8cb-4ee0-d4e3-20f0e0a3cd8b",
        "colab": {
          "base_uri": "https://localhost:8080/"
        }
      },
      "execution_count": 58,
      "outputs": [
        {
          "output_type": "execute_result",
          "data": {
            "text/plain": [
              "(2334, 1, 2, 4)"
            ]
          },
          "metadata": {},
          "execution_count": 58
        }
      ]
    },
    {
      "cell_type": "markdown",
      "source": [
        "fucntion for fun"
      ],
      "metadata": {
        "id": "jy8ykh5RCVad"
      }
    },
    {
      "cell_type": "code",
      "source": [
        "def Happy_birthday(name, age):\n",
        "  return(f\"Happy birthday, {name}! You are {age} years old.\")\n"
      ],
      "metadata": {
        "id": "ookj6kOP_sqU"
      },
      "execution_count": 65,
      "outputs": []
    },
    {
      "cell_type": "code",
      "source": [
        "Happy_birthday(\"Jubin\",40)"
      ],
      "metadata": {
        "id": "5QRbwYhgAU9c",
        "outputId": "3e14c39c-af75-44f7-8781-4d13ff952962",
        "colab": {
          "base_uri": "https://localhost:8080/",
          "height": 35
        }
      },
      "execution_count": 66,
      "outputs": [
        {
          "output_type": "execute_result",
          "data": {
            "text/plain": [
              "'Happy birthday, Jubin! You are 40 years old.'"
            ],
            "application/vnd.google.colaboratory.intrinsic+json": {
              "type": "string"
            }
          },
          "metadata": {},
          "execution_count": 66
        }
      ]
    },
    {
      "cell_type": "code",
      "source": [
        "def display_invoice(username,amount,due_date):\n",
        "   print(f\"Hello {username}\")\n",
        "   return(f\"your bill of ${amount:.2f} is due: {due_date} \")"
      ],
      "metadata": {
        "id": "bjYVov9kAZrz"
      },
      "execution_count": 88,
      "outputs": []
    },
    {
      "cell_type": "code",
      "source": [
        "display_invoice(\"Jubin\", 32.50, \"30/5\")"
      ],
      "metadata": {
        "id": "_gmUNkXVBKes",
        "outputId": "ebb62052-7169-4b7b-9d5a-9221a25bff63",
        "colab": {
          "base_uri": "https://localhost:8080/",
          "height": 52
        }
      },
      "execution_count": 89,
      "outputs": [
        {
          "output_type": "stream",
          "name": "stdout",
          "text": [
            "Hello Jubin\n"
          ]
        },
        {
          "output_type": "execute_result",
          "data": {
            "text/plain": [
              "'your bill of $32.50 is due: 30/5 '"
            ],
            "application/vnd.google.colaboratory.intrinsic+json": {
              "type": "string"
            }
          },
          "metadata": {},
          "execution_count": 89
        }
      ]
    },
    {
      "cell_type": "markdown",
      "source": [
        "if user needs data in dictionary format"
      ],
      "metadata": {
        "id": "GxwSBhn_CYud"
      }
    },
    {
      "cell_type": "code",
      "source": [
        "def test15(**kwargs):\n",
        "  return kwargs"
      ],
      "metadata": {
        "id": "tjOt5AdiBVUs"
      },
      "execution_count": 94,
      "outputs": []
    },
    {
      "cell_type": "code",
      "source": [
        "test15()"
      ],
      "metadata": {
        "id": "2kRc7mu8Cj-r",
        "outputId": "c676141d-feac-4c2c-df64-ac9a840fa29c",
        "colab": {
          "base_uri": "https://localhost:8080/"
        }
      },
      "execution_count": 95,
      "outputs": [
        {
          "output_type": "execute_result",
          "data": {
            "text/plain": [
              "{}"
            ]
          },
          "metadata": {},
          "execution_count": 95
        }
      ]
    },
    {
      "cell_type": "code",
      "source": [
        "type (test15())"
      ],
      "metadata": {
        "id": "bCyF_i9QCk6q",
        "outputId": "76ba12c6-f7a5-4f42-db0e-20a9493dc0fa",
        "colab": {
          "base_uri": "https://localhost:8080/"
        }
      },
      "execution_count": 96,
      "outputs": [
        {
          "output_type": "execute_result",
          "data": {
            "text/plain": [
              "dict"
            ]
          },
          "metadata": {},
          "execution_count": 96
        }
      ]
    },
    {
      "cell_type": "code",
      "source": [
        "test15(a=[1,2,3,4],b=\"jubin\",c=23.45)"
      ],
      "metadata": {
        "id": "kI6O-tRNCtkT",
        "outputId": "b6c2cc47-0fce-45f2-f60c-cfb434dda097",
        "colab": {
          "base_uri": "https://localhost:8080/"
        }
      },
      "execution_count": 97,
      "outputs": [
        {
          "output_type": "execute_result",
          "data": {
            "text/plain": [
              "{'a': [1, 2, 3, 4], 'b': 'jubin', 'c': 23.45}"
            ]
          },
          "metadata": {},
          "execution_count": 97
        }
      ]
    },
    {
      "cell_type": "markdown",
      "source": [
        ">>generator function"
      ],
      "metadata": {
        "id": "q3o2viWTDRct"
      }
    },
    {
      "cell_type": "code",
      "source": [
        "range(10)"
      ],
      "metadata": {
        "id": "7FFX1vZGCxNO",
        "outputId": "dd9d457c-702d-4c25-b2dd-ffd6b8ddae93",
        "colab": {
          "base_uri": "https://localhost:8080/"
        }
      },
      "execution_count": 98,
      "outputs": [
        {
          "output_type": "execute_result",
          "data": {
            "text/plain": [
              "range(0, 10)"
            ]
          },
          "metadata": {},
          "execution_count": 98
        }
      ]
    },
    {
      "cell_type": "code",
      "source": [
        "for i in range(10):\n",
        "  print(i)"
      ],
      "metadata": {
        "id": "h2u-10XgDfnT",
        "outputId": "60291bca-901c-444a-f2c6-7e90f730ad23",
        "colab": {
          "base_uri": "https://localhost:8080/"
        }
      },
      "execution_count": 100,
      "outputs": [
        {
          "output_type": "stream",
          "name": "stdout",
          "text": [
            "0\n",
            "1\n",
            "2\n",
            "3\n",
            "4\n",
            "5\n",
            "6\n",
            "7\n",
            "8\n",
            "9\n"
          ]
        }
      ]
    },
    {
      "cell_type": "code",
      "source": [],
      "metadata": {
        "id": "4ldO4xVYDiDb"
      },
      "execution_count": null,
      "outputs": []
    }
  ]
}