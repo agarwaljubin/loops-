{
  "nbformat": 4,
  "nbformat_minor": 0,
  "metadata": {
    "colab": {
      "provenance": [],
      "authorship_tag": "ABX9TyPNkzebenhMRvl3HrymKIc4",
      "include_colab_link": true
    },
    "kernelspec": {
      "name": "python3",
      "display_name": "Python 3"
    },
    "language_info": {
      "name": "python"
    }
  },
  "cells": [
    {
      "cell_type": "markdown",
      "metadata": {
        "id": "view-in-github",
        "colab_type": "text"
      },
      "source": [
        "<a href=\"https://colab.research.google.com/github/agarwaljubin/loops-/blob/main/while_loop.ipynb\" target=\"_parent\"><img src=\"https://colab.research.google.com/assets/colab-badge.svg\" alt=\"Open In Colab\"/></a>"
      ]
    },
    {
      "cell_type": "code",
      "execution_count": 1,
      "metadata": {
        "id": "fQic65hJxJfw"
      },
      "outputs": [],
      "source": [
        "##while looop"
      ]
    },
    {
      "cell_type": "code",
      "source": [
        "a= 1\n",
        "while a<=10:\n",
        "  print(a)\n",
        "  a+=1"
      ],
      "metadata": {
        "colab": {
          "base_uri": "https://localhost:8080/"
        },
        "id": "NMFvbwfCxQdy",
        "outputId": "6424be6c-e703-4e38-ce1b-7721b69ec84a"
      },
      "execution_count": 3,
      "outputs": [
        {
          "output_type": "stream",
          "name": "stdout",
          "text": [
            "1\n",
            "2\n",
            "3\n",
            "4\n",
            "5\n",
            "6\n",
            "7\n",
            "8\n",
            "9\n",
            "10\n"
          ]
        }
      ]
    },
    {
      "cell_type": "code",
      "source": [
        "#instead of a+=1 or i can also wirte a= a+1"
      ],
      "metadata": {
        "id": "XfLlYpYN5vIo"
      },
      "execution_count": 5,
      "outputs": []
    },
    {
      "cell_type": "code",
      "source": [
        "##sum up the no. till some point"
      ],
      "metadata": {
        "id": "h_v1-Cew6miG"
      },
      "execution_count": 6,
      "outputs": []
    },
    {
      "cell_type": "code",
      "source": [
        "n = int (input('enter your limit'))\n",
        "starting_point=0\n",
        "counter = 1\n",
        "\n",
        "while counter<=n:\n",
        "  starting_point = starting_point + counter\n",
        "  counter= counter+1\n",
        "starting_point"
      ],
      "metadata": {
        "colab": {
          "base_uri": "https://localhost:8080/"
        },
        "id": "3LzaNP277uqm",
        "outputId": "c7c61675-e813-41c3-c6e7-d2c2bce29967"
      },
      "execution_count": 19,
      "outputs": [
        {
          "name": "stdout",
          "output_type": "stream",
          "text": [
            "enter your limit60\n"
          ]
        },
        {
          "output_type": "execute_result",
          "data": {
            "text/plain": [
              "1830"
            ]
          },
          "metadata": {},
          "execution_count": 19
        }
      ]
    },
    {
      "cell_type": "code",
      "source": [
        "##factorial\n"
      ],
      "metadata": {
        "id": "C3JW3job79ZH"
      },
      "execution_count": 20,
      "outputs": []
    },
    {
      "cell_type": "code",
      "source": [
        "number= int(input('enter you number'))\n",
        "factorial= 1\n",
        "while number>0:\n",
        "  factorial = factorial*number\n",
        "  number= number -1\n",
        "factorial\n"
      ],
      "metadata": {
        "colab": {
          "base_uri": "https://localhost:8080/"
        },
        "id": "7MnUKCaL97qF",
        "outputId": "65a12164-64b0-4098-8c41-7fe5ad3c5fde"
      },
      "execution_count": 25,
      "outputs": [
        {
          "name": "stdout",
          "output_type": "stream",
          "text": [
            "enter you number8\n"
          ]
        },
        {
          "output_type": "execute_result",
          "data": {
            "text/plain": [
              "40320"
            ]
          },
          "metadata": {},
          "execution_count": 25
        }
      ]
    },
    {
      "cell_type": "code",
      "source": [
        "##fibonaki series\n",
        "\n"
      ],
      "metadata": {
        "id": "-3bSwz4u_1jk"
      },
      "execution_count": 26,
      "outputs": []
    },
    {
      "cell_type": "code",
      "source": [
        "number= int(input('enter you number of element you are looking for'))\n",
        "a,b = 0,1\n",
        "counter=0\n",
        "while counter<number:\n",
        "    print(a)\n",
        "    c=a+b\n",
        "    a=b\n",
        "    b=c\n",
        "    counter=counter+1"
      ],
      "metadata": {
        "colab": {
          "base_uri": "https://localhost:8080/"
        },
        "id": "J3WgXc0LDLJ6",
        "outputId": "bd85bd51-b3c6-461a-ad91-2e515663898d"
      },
      "execution_count": 29,
      "outputs": [
        {
          "output_type": "stream",
          "name": "stdout",
          "text": [
            "enter you number of element you are looking for10\n",
            "0\n",
            "1\n",
            "1\n",
            "2\n",
            "3\n",
            "5\n",
            "8\n",
            "13\n",
            "21\n",
            "34\n"
          ]
        }
      ]
    },
    {
      "cell_type": "code",
      "source": [
        "# with for loop\n"
      ],
      "metadata": {
        "id": "dqnkXQMHE0HK"
      },
      "execution_count": 30,
      "outputs": []
    },
    {
      "cell_type": "code",
      "source": [
        "a,b =0,1\n",
        "for i in range(10):\n",
        "  print(a)\n",
        "  c=a+b\n",
        "  a=b\n",
        "  b=c\n",
        ""
      ],
      "metadata": {
        "colab": {
          "base_uri": "https://localhost:8080/"
        },
        "id": "8txQuCyNGetR",
        "outputId": "7fa31f2f-e7ed-462d-ce11-d38f227f09f2"
      },
      "execution_count": 35,
      "outputs": [
        {
          "output_type": "stream",
          "name": "stdout",
          "text": [
            "0\n",
            "1\n",
            "1\n",
            "2\n",
            "3\n",
            "5\n",
            "8\n",
            "13\n",
            "21\n",
            "34\n"
          ]
        }
      ]
    },
    {
      "cell_type": "code",
      "source": [
        "s='Jubin'\n",
        "s[::-1]\n"
      ],
      "metadata": {
        "colab": {
          "base_uri": "https://localhost:8080/",
          "height": 35
        },
        "id": "TT3hQr8gGrF4",
        "outputId": "857be610-95d8-43b1-9a60-b9fda8e86f01"
      },
      "execution_count": 39,
      "outputs": [
        {
          "output_type": "execute_result",
          "data": {
            "text/plain": [
              "'nibuJ'"
            ],
            "application/vnd.google.colaboratory.intrinsic+json": {
              "type": "string"
            }
          },
          "metadata": {},
          "execution_count": 39
        }
      ]
    },
    {
      "cell_type": "code",
      "source": [
        "len(s)"
      ],
      "metadata": {
        "colab": {
          "base_uri": "https://localhost:8080/"
        },
        "id": "2CB1jPFZJVZQ",
        "outputId": "33feed65-0f8f-4bb4-cf53-06ffa42425cc"
      },
      "execution_count": 41,
      "outputs": [
        {
          "output_type": "execute_result",
          "data": {
            "text/plain": [
              "5"
            ]
          },
          "metadata": {},
          "execution_count": 41
        }
      ]
    },
    {
      "cell_type": "code",
      "source": [
        "#appending reverse word with while loop with concantination"
      ],
      "metadata": {
        "id": "4ENS3SppHXhg"
      },
      "execution_count": 37,
      "outputs": []
    },
    {
      "cell_type": "code",
      "source": [
        "reverse= ''\n",
        "length= len(s)\n",
        "while length>0:\n",
        "  reverse= reverse + s[length-1]\n",
        "  length= length-1\n",
        "print(reverse)"
      ],
      "metadata": {
        "colab": {
          "base_uri": "https://localhost:8080/"
        },
        "id": "zJi1Ml05JI5H",
        "outputId": "a2efd507-5370-40b2-ad9f-32fa402a5b7d"
      },
      "execution_count": 48,
      "outputs": [
        {
          "output_type": "stream",
          "name": "stdout",
          "text": [
            "nibuJ\n"
          ]
        }
      ]
    },
    {
      "cell_type": "code",
      "source": [
        "#wrong"
      ],
      "metadata": {
        "id": "lPpSkU_nLtWe"
      },
      "execution_count": null,
      "outputs": []
    },
    {
      "cell_type": "code",
      "source": [
        "a= ['Jubin']\n",
        "for i in range(5):\n",
        "  reverse= len(a)-1\n",
        "  print(a)\n"
      ],
      "metadata": {
        "colab": {
          "base_uri": "https://localhost:8080/"
        },
        "id": "ymeW41XHJxfP",
        "outputId": "248461ca-7730-4453-cbf9-f2c403960b1d"
      },
      "execution_count": 50,
      "outputs": [
        {
          "output_type": "stream",
          "name": "stdout",
          "text": [
            "['Jubin']\n",
            "['Jubin']\n",
            "['Jubin']\n",
            "['Jubin']\n",
            "['Jubin']\n"
          ]
        }
      ]
    },
    {
      "cell_type": "code",
      "source": [
        "s = \"Jubin\"\n",
        "reverse = \"\"\n",
        "\n",
        "for i in range(len(s) - 1, -1, -1):\n",
        "    reverse += s[i]\n",
        "\n",
        "print(reverse)"
      ],
      "metadata": {
        "colab": {
          "base_uri": "https://localhost:8080/"
        },
        "id": "JBSENZpsK4o_",
        "outputId": "3f0a0044-433a-431a-ffcc-4e9a92b2fda4"
      },
      "execution_count": 52,
      "outputs": [
        {
          "output_type": "stream",
          "name": "stdout",
          "text": [
            "nibuJ\n"
          ]
        }
      ]
    },
    {
      "cell_type": "code",
      "source": [
        "s = \"Jubin\"\n",
        "reverse = \"\"\n",
        "\n",
        "for i in range(len(s) - 1, -1, -1):\n",
        "    reverse =  reverse + s[i]\n",
        "\n",
        "print(reverse)"
      ],
      "metadata": {
        "colab": {
          "base_uri": "https://localhost:8080/"
        },
        "id": "V9b4PP0uL5uO",
        "outputId": "976b66ff-6947-47ea-fbdd-a02e08b5cbca"
      },
      "execution_count": 53,
      "outputs": [
        {
          "output_type": "stream",
          "name": "stdout",
          "text": [
            "nibuJ\n"
          ]
        }
      ]
    },
    {
      "cell_type": "code",
      "source": [
        "#table of no.\n"
      ],
      "metadata": {
        "id": "Ol3a_YYgMI3Y"
      },
      "execution_count": 54,
      "outputs": []
    },
    {
      "cell_type": "code",
      "source": [
        "n= int(input('enter your number'))\n",
        "i =1\n",
        "while i<=10:\n",
        "  result= n*i\n",
        "  print(result)\n",
        "  i=i+1"
      ],
      "metadata": {
        "colab": {
          "base_uri": "https://localhost:8080/"
        },
        "id": "y2e3ucEmMKoN",
        "outputId": "b8c6c725-3638-414c-a20d-996c26a8081b"
      },
      "execution_count": 56,
      "outputs": [
        {
          "output_type": "stream",
          "name": "stdout",
          "text": [
            "enter your number10\n",
            "10\n",
            "20\n",
            "30\n",
            "40\n",
            "50\n",
            "60\n",
            "70\n",
            "80\n",
            "90\n",
            "100\n"
          ]
        }
      ]
    },
    {
      "cell_type": "code",
      "source": [
        "## or for full table"
      ],
      "metadata": {
        "id": "SqvJ3QljMiBG"
      },
      "execution_count": 57,
      "outputs": []
    },
    {
      "cell_type": "code",
      "source": [
        "n= int(input('enter your number'))\n",
        "i =1\n",
        "while i<=10:\n",
        "  result= n*i\n",
        "  print(n,'*',i,'=',result)\n",
        "  i=i+1"
      ],
      "metadata": {
        "colab": {
          "base_uri": "https://localhost:8080/"
        },
        "id": "Q74Bqko9Mkwt",
        "outputId": "0597a24c-2554-48de-f103-78e81a03ddf5"
      },
      "execution_count": 58,
      "outputs": [
        {
          "output_type": "stream",
          "name": "stdout",
          "text": [
            "enter your number2\n",
            "2 * 1 = 2\n",
            "2 * 2 = 4\n",
            "2 * 3 = 6\n",
            "2 * 4 = 8\n",
            "2 * 5 = 10\n",
            "2 * 6 = 12\n",
            "2 * 7 = 14\n",
            "2 * 8 = 16\n",
            "2 * 9 = 18\n",
            "2 * 10 = 20\n"
          ]
        }
      ]
    },
    {
      "cell_type": "code",
      "source": [
        "##using else statement with while"
      ],
      "metadata": {
        "id": "3FlDU0-2NFAN"
      },
      "execution_count": null,
      "outputs": []
    },
    {
      "cell_type": "code",
      "source": [
        "n=5\n",
        "i=1\n",
        "while i<n:\n",
        "  i=i+1\n",
        "  print(i)\n"
      ],
      "metadata": {
        "colab": {
          "base_uri": "https://localhost:8080/"
        },
        "id": "zw3w3SeyNA1v",
        "outputId": "597fc28f-eab5-4baa-ae53-a89ee8b1a399"
      },
      "execution_count": 60,
      "outputs": [
        {
          "output_type": "stream",
          "name": "stdout",
          "text": [
            "2\n",
            "3\n",
            "4\n",
            "5\n"
          ]
        }
      ]
    },
    {
      "cell_type": "code",
      "source": [
        "#another way"
      ],
      "metadata": {
        "id": "HPFLKnNJNOBu"
      },
      "execution_count": 61,
      "outputs": []
    },
    {
      "cell_type": "code",
      "source": [
        "n=5\n",
        "i=1\n",
        "while i<n:\n",
        "\n",
        "  print(i)\n",
        "  i=i+1"
      ],
      "metadata": {
        "colab": {
          "base_uri": "https://localhost:8080/"
        },
        "id": "twDsC2jMNXL1",
        "outputId": "20d72a1e-5133-47d7-fc12-3cd7ba4d0080"
      },
      "execution_count": 64,
      "outputs": [
        {
          "output_type": "stream",
          "name": "stdout",
          "text": [
            "1\n",
            "2\n",
            "3\n",
            "4\n"
          ]
        }
      ]
    },
    {
      "cell_type": "code",
      "source": [
        "#suing else with thi expamle"
      ],
      "metadata": {
        "id": "VG8EFg1YNh5T"
      },
      "execution_count": 65,
      "outputs": []
    },
    {
      "cell_type": "code",
      "source": [
        "n=5\n",
        "i=1\n",
        "while i<n:\n",
        "  print(i)\n",
        "  i=i+1\n",
        "else:\n",
        "    print(' this will be executed once your while iwll complete it successfully')\n"
      ],
      "metadata": {
        "colab": {
          "base_uri": "https://localhost:8080/"
        },
        "id": "fR_4HXiSNkO0",
        "outputId": "9052f992-b485-4df8-bf27-4eac77b88ab4"
      },
      "execution_count": 69,
      "outputs": [
        {
          "output_type": "stream",
          "name": "stdout",
          "text": [
            "1\n",
            "2\n",
            "3\n",
            "4\n",
            " this will be executed once your while iwll complete it successfully\n"
          ]
        }
      ]
    },
    {
      "cell_type": "code",
      "source": [
        "##another example"
      ],
      "metadata": {
        "id": "DG8GuSKlNuMV"
      },
      "execution_count": 70,
      "outputs": []
    },
    {
      "cell_type": "code",
      "source": [
        "n=5\n",
        "i=1\n",
        "while i < n:\n",
        "  print(i)\n",
        "  if i == 3:\n",
        "      break\n",
        "  i = i+1\n",
        "else:\n",
        "    print(' this will be executed once your while iwll complete it successfully')\n"
      ],
      "metadata": {
        "colab": {
          "base_uri": "https://localhost:8080/"
        },
        "id": "a_1UPBCWN6a0",
        "outputId": "82563dba-db55-45ed-c40d-1fb8fc3dd151"
      },
      "execution_count": 89,
      "outputs": [
        {
          "output_type": "stream",
          "name": "stdout",
          "text": [
            "1\n",
            "2\n",
            "3\n"
          ]
        }
      ]
    },
    {
      "cell_type": "code",
      "source": [],
      "metadata": {
        "id": "IReGIxtqRafU"
      },
      "execution_count": null,
      "outputs": []
    },
    {
      "cell_type": "code",
      "source": [],
      "metadata": {
        "id": "giRUlK4WRaqF"
      },
      "execution_count": null,
      "outputs": []
    },
    {
      "cell_type": "code",
      "source": [
        "n = 5\n",
        "i = 1\n",
        "while i < n:\n",
        "    print(i)\n",
        "    if i == 3:  # Correct condition\n",
        "        break\n",
        "    i = i + 1\n",
        "else:\n",
        "    print('this will be executed once your while will complete it successfully')\n"
      ],
      "metadata": {
        "colab": {
          "base_uri": "https://localhost:8080/"
        },
        "id": "PW66CrFsN_h9",
        "outputId": "87a58d99-8149-4a76-bf62-10c7a7b0f0b0"
      },
      "execution_count": 84,
      "outputs": [
        {
          "output_type": "stream",
          "name": "stdout",
          "text": [
            "1\n",
            "2\n",
            "3\n"
          ]
        }
      ]
    }
  ]
}