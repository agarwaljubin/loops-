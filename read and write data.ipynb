{
  "nbformat": 4,
  "nbformat_minor": 0,
  "metadata": {
    "colab": {
      "provenance": [],
      "authorship_tag": "ABX9TyMbHMQsamyVQ5iioyVY/LqY",
      "include_colab_link": true
    },
    "kernelspec": {
      "name": "python3",
      "display_name": "Python 3"
    },
    "language_info": {
      "name": "python"
    }
  },
  "cells": [
    {
      "cell_type": "markdown",
      "metadata": {
        "id": "view-in-github",
        "colab_type": "text"
      },
      "source": [
        "<a href=\"https://colab.research.google.com/github/agarwaljubin/loops-/blob/main/read%20and%20write%20data.ipynb\" target=\"_parent\"><img src=\"https://colab.research.google.com/assets/colab-badge.svg\" alt=\"Open In Colab\"/></a>"
      ]
    },
    {
      "cell_type": "markdown",
      "source": [
        "Files"
      ],
      "metadata": {
        "id": "QDymUXMvmF1n"
      }
    },
    {
      "cell_type": "code",
      "execution_count": null,
      "metadata": {
        "id": "dmsFRoPhmFEQ"
      },
      "outputs": [],
      "source": [
        "f= open(\"test.txt\", 'w')"
      ]
    },
    {
      "cell_type": "code",
      "source": [
        "pwd"
      ],
      "metadata": {
        "colab": {
          "base_uri": "https://localhost:8080/",
          "height": 35
        },
        "id": "e4eS9XNnojfU",
        "outputId": "3e9dee77-17cb-402e-e57e-c1158b305195"
      },
      "execution_count": null,
      "outputs": [
        {
          "output_type": "execute_result",
          "data": {
            "text/plain": [
              "'/content'"
            ],
            "application/vnd.google.colaboratory.intrinsic+json": {
              "type": "string"
            }
          },
          "metadata": {},
          "execution_count": 3
        }
      ]
    },
    {
      "cell_type": "code",
      "source": [
        "ls"
      ],
      "metadata": {
        "colab": {
          "base_uri": "https://localhost:8080/"
        },
        "id": "BMr9CAiHovaz",
        "outputId": "712ee6b7-22fb-49a6-8b9e-37e88a7dc0aa"
      },
      "execution_count": null,
      "outputs": [
        {
          "output_type": "stream",
          "name": "stdout",
          "text": [
            "\u001b[0m\u001b[01;34msample_data\u001b[0m/  test.txt\n"
          ]
        }
      ]
    },
    {
      "cell_type": "code",
      "source": [
        "f.write(\"this is my first file to write\")"
      ],
      "metadata": {
        "colab": {
          "base_uri": "https://localhost:8080/"
        },
        "id": "fQBKVzI5o3Q6",
        "outputId": "d638af7f-5991-4c3a-a2f1-9d6f35cab4fc"
      },
      "execution_count": null,
      "outputs": [
        {
          "output_type": "execute_result",
          "data": {
            "text/plain": [
              "30"
            ]
          },
          "metadata": {},
          "execution_count": 8
        }
      ]
    },
    {
      "cell_type": "code",
      "source": [
        "f.close()"
      ],
      "metadata": {
        "id": "NiyTqq5CpAlh"
      },
      "execution_count": null,
      "outputs": []
    },
    {
      "cell_type": "code",
      "source": [
        "f= open(\"test.txt\", 'w')"
      ],
      "metadata": {
        "id": "XsguxtD4pXci"
      },
      "execution_count": null,
      "outputs": []
    },
    {
      "cell_type": "code",
      "source": [
        "f.write(\"this is my file\")"
      ],
      "metadata": {
        "colab": {
          "base_uri": "https://localhost:8080/"
        },
        "id": "ORv76qWIpgya",
        "outputId": "c23ab53c-549f-4d24-ed16-969971661016"
      },
      "execution_count": null,
      "outputs": [
        {
          "output_type": "execute_result",
          "data": {
            "text/plain": [
              "15"
            ]
          },
          "metadata": {},
          "execution_count": 12
        }
      ]
    },
    {
      "cell_type": "code",
      "source": [
        "f.close()"
      ],
      "metadata": {
        "id": "qxM958UnpiDC"
      },
      "execution_count": null,
      "outputs": []
    },
    {
      "cell_type": "code",
      "source": [
        "f= open(\"test.txt\", 'a')"
      ],
      "metadata": {
        "id": "ar3ta1Cmpl3a"
      },
      "execution_count": null,
      "outputs": []
    },
    {
      "cell_type": "code",
      "source": [
        "f.write(\"https://www.udemy.com/courses/finance-and-accounting/\")"
      ],
      "metadata": {
        "colab": {
          "base_uri": "https://localhost:8080/"
        },
        "id": "GqPvIR8gr_KD",
        "outputId": "8e88cc4f-20f2-4b11-96a5-57b18df5ec2f"
      },
      "execution_count": null,
      "outputs": [
        {
          "output_type": "execute_result",
          "data": {
            "text/plain": [
              "53"
            ]
          },
          "metadata": {},
          "execution_count": 18
        }
      ]
    },
    {
      "cell_type": "code",
      "source": [
        "f.close()"
      ],
      "metadata": {
        "id": "iFG8FL74sKiD"
      },
      "execution_count": null,
      "outputs": []
    },
    {
      "cell_type": "code",
      "source": [
        "f= open(\"test.txt\", 'r')"
      ],
      "metadata": {
        "id": "HYtMqhaasZn7"
      },
      "execution_count": null,
      "outputs": []
    },
    {
      "cell_type": "code",
      "source": [
        "f.read()"
      ],
      "metadata": {
        "colab": {
          "base_uri": "https://localhost:8080/",
          "height": 35
        },
        "id": "hudZhINfth-S",
        "outputId": "9438c034-fd30-472d-c165-6285b3300031"
      },
      "execution_count": null,
      "outputs": [
        {
          "output_type": "execute_result",
          "data": {
            "text/plain": [
              "'this is my filehttps://www.udemy.com/courses/finance-and-accounting/'"
            ],
            "application/vnd.google.colaboratory.intrinsic+json": {
              "type": "string"
            }
          },
          "metadata": {},
          "execution_count": 23
        }
      ]
    },
    {
      "cell_type": "code",
      "source": [
        "data=f= open(\"test.txt\", 'r')"
      ],
      "metadata": {
        "id": "tXOH_yyhtlLS"
      },
      "execution_count": null,
      "outputs": []
    },
    {
      "cell_type": "code",
      "source": [
        "data.read()"
      ],
      "metadata": {
        "colab": {
          "base_uri": "https://localhost:8080/",
          "height": 35
        },
        "id": "zvH6jBUits4K",
        "outputId": "8532ba26-e51e-4cd1-9e8c-47583bc63ff1"
      },
      "execution_count": null,
      "outputs": [
        {
          "output_type": "execute_result",
          "data": {
            "text/plain": [
              "'this is my filehttps://www.udemy.com/courses/finance-and-accounting/'"
            ],
            "application/vnd.google.colaboratory.intrinsic+json": {
              "type": "string"
            }
          },
          "metadata": {},
          "execution_count": 27
        }
      ]
    },
    {
      "cell_type": "code",
      "source": [
        "data.readline()"
      ],
      "metadata": {
        "colab": {
          "base_uri": "https://localhost:8080/",
          "height": 35
        },
        "id": "vP1-PMg2tuJ6",
        "outputId": "ef877a92-c27f-488b-b2f8-32efc10a3203"
      },
      "execution_count": null,
      "outputs": [
        {
          "output_type": "execute_result",
          "data": {
            "text/plain": [
              "''"
            ],
            "application/vnd.google.colaboratory.intrinsic+json": {
              "type": "string"
            }
          },
          "metadata": {},
          "execution_count": 28
        }
      ]
    },
    {
      "cell_type": "code",
      "source": [
        "data.seek(0)"
      ],
      "metadata": {
        "colab": {
          "base_uri": "https://localhost:8080/"
        },
        "id": "axcrhUA9uIcj",
        "outputId": "cfa8d152-c758-4bc1-c709-9f74b1922ba3"
      },
      "execution_count": null,
      "outputs": [
        {
          "output_type": "execute_result",
          "data": {
            "text/plain": [
              "0"
            ]
          },
          "metadata": {},
          "execution_count": 29
        }
      ]
    },
    {
      "cell_type": "code",
      "source": [
        "data.readline()"
      ],
      "metadata": {
        "colab": {
          "base_uri": "https://localhost:8080/",
          "height": 35
        },
        "id": "631oWkDcu6Qp",
        "outputId": "45061761-318e-4f1a-8105-5bbf29e42f0f"
      },
      "execution_count": null,
      "outputs": [
        {
          "output_type": "execute_result",
          "data": {
            "text/plain": [
              "'this is my filehttps://www.udemy.com/courses/finance-and-accounting/'"
            ],
            "application/vnd.google.colaboratory.intrinsic+json": {
              "type": "string"
            }
          },
          "metadata": {},
          "execution_count": 30
        }
      ]
    },
    {
      "cell_type": "code",
      "source": [
        "data.readline()"
      ],
      "metadata": {
        "colab": {
          "base_uri": "https://localhost:8080/",
          "height": 35
        },
        "id": "b0TvRu3xu91q",
        "outputId": "6853b65e-0aea-4575-d420-6c26b24a171a"
      },
      "execution_count": null,
      "outputs": [
        {
          "output_type": "execute_result",
          "data": {
            "text/plain": [
              "''"
            ],
            "application/vnd.google.colaboratory.intrinsic+json": {
              "type": "string"
            }
          },
          "metadata": {},
          "execution_count": 32
        }
      ]
    },
    {
      "cell_type": "code",
      "source": [
        "data.seek(5)"
      ],
      "metadata": {
        "colab": {
          "base_uri": "https://localhost:8080/"
        },
        "id": "KP6Cexc8u_6P",
        "outputId": "e4958129-8f7b-4b82-a560-114eaecebc7b"
      },
      "execution_count": null,
      "outputs": [
        {
          "output_type": "execute_result",
          "data": {
            "text/plain": [
              "5"
            ]
          },
          "metadata": {},
          "execution_count": 33
        }
      ]
    },
    {
      "cell_type": "code",
      "source": [
        "data.readline()"
      ],
      "metadata": {
        "colab": {
          "base_uri": "https://localhost:8080/",
          "height": 35
        },
        "id": "u_vWQjTUvHOx",
        "outputId": "1d7b4f05-d760-4956-8f1e-17fb79fdc162"
      },
      "execution_count": null,
      "outputs": [
        {
          "output_type": "execute_result",
          "data": {
            "text/plain": [
              "'is my filehttps://www.udemy.com/courses/finance-and-accounting/'"
            ],
            "application/vnd.google.colaboratory.intrinsic+json": {
              "type": "string"
            }
          },
          "metadata": {},
          "execution_count": 34
        }
      ]
    },
    {
      "cell_type": "code",
      "source": [
        "data1= open(\"test.txt\", 'r')"
      ],
      "metadata": {
        "id": "qcr6KM2kvIS6"
      },
      "execution_count": null,
      "outputs": []
    },
    {
      "cell_type": "code",
      "source": [
        "for i in data1:\n",
        "  print(i)"
      ],
      "metadata": {
        "colab": {
          "base_uri": "https://localhost:8080/"
        },
        "id": "uaP_F1tUwKl6",
        "outputId": "c985be0b-6fb6-462d-f9ce-8db78b121d91"
      },
      "execution_count": null,
      "outputs": [
        {
          "output_type": "stream",
          "name": "stdout",
          "text": [
            "this is my filehttps://www.udemy.com/courses/finance-and-accounting/\n"
          ]
        }
      ]
    },
    {
      "cell_type": "code",
      "source": [
        "import os"
      ],
      "metadata": {
        "id": "mWFcU8PJzcXR"
      },
      "execution_count": null,
      "outputs": []
    },
    {
      "cell_type": "code",
      "source": [
        "os.path.getsize(\"test.txt\")"
      ],
      "metadata": {
        "colab": {
          "base_uri": "https://localhost:8080/"
        },
        "id": "O1w77PrqzvMy",
        "outputId": "2086fb1d-3414-4520-9c06-38f7c60b6b53"
      },
      "execution_count": null,
      "outputs": [
        {
          "output_type": "execute_result",
          "data": {
            "text/plain": [
              "68"
            ]
          },
          "metadata": {},
          "execution_count": 38
        }
      ]
    },
    {
      "cell_type": "code",
      "source": [
        "os.remove(\"test.txt\")"
      ],
      "metadata": {
        "id": "6Fiqjwugz1Bp"
      },
      "execution_count": null,
      "outputs": []
    },
    {
      "cell_type": "code",
      "source": [
        "f= open(\"test1.txt\", 'w')"
      ],
      "metadata": {
        "id": "5BkDgPiyz_4x"
      },
      "execution_count": null,
      "outputs": []
    },
    {
      "cell_type": "code",
      "source": [
        "f.write(\"this is my file\")"
      ],
      "metadata": {
        "colab": {
          "base_uri": "https://localhost:8080/"
        },
        "id": "sCjFODs_0KZh",
        "outputId": "0dd715f0-9dbf-4824-ff1a-a0ceb80c5371"
      },
      "execution_count": null,
      "outputs": [
        {
          "output_type": "execute_result",
          "data": {
            "text/plain": [
              "15"
            ]
          },
          "metadata": {},
          "execution_count": 41
        }
      ]
    },
    {
      "cell_type": "code",
      "source": [
        "f.close()"
      ],
      "metadata": {
        "id": "1-Tm4CB20NKK"
      },
      "execution_count": null,
      "outputs": []
    },
    {
      "cell_type": "code",
      "source": [
        "os.rename(\"test1.txt\", \"new.txt\")"
      ],
      "metadata": {
        "id": "w3W0DjFE0RAb"
      },
      "execution_count": null,
      "outputs": []
    },
    {
      "cell_type": "code",
      "source": [
        "import shutil"
      ],
      "metadata": {
        "id": "sQo-b7vv0ZjQ"
      },
      "execution_count": null,
      "outputs": []
    },
    {
      "cell_type": "code",
      "source": [
        "shutil.copy(\"new.txt\", \"copy_new.txt\")"
      ],
      "metadata": {
        "colab": {
          "base_uri": "https://localhost:8080/",
          "height": 35
        },
        "id": "J9uWEA_X1A2j",
        "outputId": "a90bd86f-f463-4e81-ec20-5270ffc6046a"
      },
      "execution_count": null,
      "outputs": [
        {
          "output_type": "execute_result",
          "data": {
            "text/plain": [
              "'copy_new.txt'"
            ],
            "application/vnd.google.colaboratory.intrinsic+json": {
              "type": "string"
            }
          },
          "metadata": {},
          "execution_count": 45
        }
      ]
    },
    {
      "cell_type": "code",
      "source": [
        "with open(\"new.txt\", 'w') as f:\n",
        "  f.write(\"this is my file\")\n",
        "  f.close()"
      ],
      "metadata": {
        "id": "5aiGWNVZ1CPh"
      },
      "execution_count": null,
      "outputs": []
    },
    {
      "cell_type": "code",
      "source": [
        "with open(\"new.txt\", 'r') as f:\n",
        "  print(f.read())"
      ],
      "metadata": {
        "colab": {
          "base_uri": "https://localhost:8080/"
        },
        "id": "X5kKJrKV1Twy",
        "outputId": "90f47203-d3e3-498a-ef56-9ca80e12b234"
      },
      "execution_count": null,
      "outputs": [
        {
          "output_type": "stream",
          "name": "stdout",
          "text": [
            "this is my file\n"
          ]
        }
      ]
    },
    {
      "cell_type": "markdown",
      "source": [
        "read and write"
      ],
      "metadata": {
        "id": "rbfpESDu14fB"
      }
    },
    {
      "cell_type": "code",
      "source": [
        "data={\n",
        "    \"name\":\"sudh\",\n",
        "    \"mail_id\": \"sudh@gmail.com\",\n",
        "    \"phone number\": 654564564,\n",
        "    \"subject\": [\"data science\", \"big data\", \"data analytics\"]\n",
        "}\n"
      ],
      "metadata": {
        "id": "x1ScqXeK1eIC"
      },
      "execution_count": null,
      "outputs": []
    },
    {
      "cell_type": "code",
      "source": [
        "import json"
      ],
      "metadata": {
        "id": "3Ppjw_7P1kUg"
      },
      "execution_count": null,
      "outputs": []
    },
    {
      "cell_type": "code",
      "source": [
        "with open(\"data.json\", 'w') as f:\n",
        "  json.dump(data, f)"
      ],
      "metadata": {
        "id": "qVjCJaAS5YYa"
      },
      "execution_count": null,
      "outputs": []
    },
    {
      "cell_type": "code",
      "source": [
        "with open(\"data.json\", 'r') as f:\n",
        "  data1=json.load(f)"
      ],
      "metadata": {
        "id": "LoTGkqCC5gXD"
      },
      "execution_count": null,
      "outputs": []
    },
    {
      "cell_type": "code",
      "source": [
        "data1"
      ],
      "metadata": {
        "colab": {
          "base_uri": "https://localhost:8080/"
        },
        "id": "BIRiZal-55Pz",
        "outputId": "0451a0b0-ff57-4236-e78a-78a8b64dd310"
      },
      "execution_count": null,
      "outputs": [
        {
          "output_type": "execute_result",
          "data": {
            "text/plain": [
              "{'name': 'sudh',\n",
              " 'mail_id': 'sudh@gmail.com',\n",
              " 'phone number': 654564564,\n",
              " 'subject': ['data science', 'big data', 'data analytics']}"
            ]
          },
          "metadata": {},
          "execution_count": 59
        }
      ]
    },
    {
      "cell_type": "code",
      "source": [
        "data1['subject']"
      ],
      "metadata": {
        "colab": {
          "base_uri": "https://localhost:8080/"
        },
        "id": "KibXh7Os6CjZ",
        "outputId": "17337391-0883-4821-f4e9-45cbc549cfce"
      },
      "execution_count": null,
      "outputs": [
        {
          "output_type": "execute_result",
          "data": {
            "text/plain": [
              "['data science', 'big data', 'data analytics']"
            ]
          },
          "metadata": {},
          "execution_count": 62
        }
      ]
    },
    {
      "cell_type": "code",
      "source": [
        "data1['subject'][1]"
      ],
      "metadata": {
        "colab": {
          "base_uri": "https://localhost:8080/",
          "height": 35
        },
        "id": "Jcj8f1ff6HMB",
        "outputId": "b17d4fcb-fec6-4a21-be99-1b41ef9cd874"
      },
      "execution_count": null,
      "outputs": [
        {
          "output_type": "execute_result",
          "data": {
            "text/plain": [
              "'big data'"
            ],
            "application/vnd.google.colaboratory.intrinsic+json": {
              "type": "string"
            }
          },
          "metadata": {},
          "execution_count": 63
        }
      ]
    },
    {
      "cell_type": "code",
      "source": [
        "import csv"
      ],
      "metadata": {
        "id": "dV7TeB8K6Lmp"
      },
      "execution_count": null,
      "outputs": []
    },
    {
      "cell_type": "code",
      "source": [
        "data=[[\"name\",\"email.id\",\"phone_number\"],\n",
        "      [\"sudh\",\"sudh@gmail.com\",5454545],\n",
        "      [\"krish\",\"krish@gmail.com\",454545]\n",
        "]"
      ],
      "metadata": {
        "id": "ficOL47i7VIx"
      },
      "execution_count": null,
      "outputs": []
    },
    {
      "cell_type": "code",
      "source": [
        "with open(\"data.csv\",\"w\") as f:\n",
        " writer= csv.writer(f)\n",
        "\n",
        " for i in data:\n",
        "   writer.writerow(i)"
      ],
      "metadata": {
        "id": "8lTxW3zc7hGK"
      },
      "execution_count": null,
      "outputs": []
    },
    {
      "cell_type": "code",
      "source": [
        "with open(\"data.csv\",\"r\") as f:\n",
        "  read_data=csv.reader(f)\n",
        "\n",
        "  for i in read_data:\n",
        "    print(i)"
      ],
      "metadata": {
        "colab": {
          "base_uri": "https://localhost:8080/"
        },
        "id": "i3qkfRDO731q",
        "outputId": "77da2a47-9e30-44c3-84d9-1fdc40664a10"
      },
      "execution_count": null,
      "outputs": [
        {
          "output_type": "stream",
          "name": "stdout",
          "text": [
            "['name', 'email.id', 'phone_number']\n",
            "['sudh', 'sudh@gmail.com', '5454545']\n",
            "['krish', 'krish@gmail.com', '454545']\n"
          ]
        }
      ]
    },
    {
      "cell_type": "markdown",
      "source": [
        "##Binary data"
      ],
      "metadata": {
        "id": "Hqis5fz-9wRC"
      }
    },
    {
      "cell_type": "code",
      "source": [
        " with open(\"test4.bin\",'wb') as f:\n",
        "  f.write(b\"\\x01\\x02\\x03\\x546456\")"
      ],
      "metadata": {
        "id": "_PP2x9rn9R2J"
      },
      "execution_count": null,
      "outputs": []
    },
    {
      "cell_type": "code",
      "source": [
        "with open(\"test4.bin\",'rb') as f:\n",
        "  print(f.read())"
      ],
      "metadata": {
        "id": "J7w5xyB9-uU1",
        "colab": {
          "base_uri": "https://localhost:8080/"
        },
        "outputId": "ebc46902-2e67-4919-afbc-e03b0de669c1"
      },
      "execution_count": 83,
      "outputs": [
        {
          "output_type": "stream",
          "name": "stdout",
          "text": [
            "b'\\x01\\x02\\x03T6456'\n"
          ]
        }
      ]
    },
    {
      "cell_type": "markdown",
      "source": [
        "##Buffered read and write /other file methods"
      ],
      "metadata": {
        "id": "UQyzfNdB_2U0"
      }
    },
    {
      "cell_type": "code",
      "source": [
        "import io"
      ],
      "metadata": {
        "id": "UO4gtksU_qZc"
      },
      "execution_count": 84,
      "outputs": []
    },
    {
      "cell_type": "code",
      "source": [
        "with open(\"test1.txt\", 'wb') as f:\n",
        "  file=io.BufferedWriter(f)\n",
        "\n",
        "  file.write(b\"this is my first line\\n\")\n",
        "  file.write(b\"this is my second line\\n\")"
      ],
      "metadata": {
        "id": "IjIie9ljAEQ7"
      },
      "execution_count": 85,
      "outputs": []
    },
    {
      "cell_type": "code",
      "source": [],
      "metadata": {
        "id": "TMpxNEshAROy"
      },
      "execution_count": null,
      "outputs": []
    }
  ]
}